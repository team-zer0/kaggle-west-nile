{
 "cells": [
  {
   "cell_type": "code",
   "execution_count": 736,
   "metadata": {
    "collapsed": true,
    "nbpresent": {
     "id": "4088ddb3-4a6a-4653-b1de-8b9eb5d4b2ef"
    }
   },
   "outputs": [],
   "source": [
    "import pandas as pd\n",
    "import numpy as np\n",
    "import tqdm\n",
    "import geopy\n",
    "import seaborn as sns\n",
    "import matplotlib.pyplot as plt\n",
    "from sklearn.model_selection import train_test_split, cross_val_score, cross_val_predict\n",
    "from sklearn.linear_model import LogisticRegression\n",
    "from sklearn.preprocessing import StandardScaler, Binarizer\n",
    "from sklearn import metrics\n",
    "from geopy.geocoders import Nominatim\n",
    "from sklearn.neighbors import KNeighborsClassifier\n",
    "from sklearn.ensemble import RandomForestClassifier\n",
    "%matplotlib inline"
   ]
  },
  {
   "cell_type": "code",
   "execution_count": 866,
   "metadata": {
    "collapsed": true,
    "nbpresent": {
     "id": "f1098fed-594e-4deb-80ec-de6449498e30"
    }
   },
   "outputs": [],
   "source": [
    "train = pd.read_csv('./west_nile/input/train.csv')\n",
    "weather = pd.read_csv('./west_nile/input/weather.csv')\n",
    "spray = pd.read_csv('./west_nile/input/spray.csv')\n",
    "sample = pd.read_csv('./west_nile/input/sampleSubmission.csv')\n",
    "test = pd.read_csv('./west_nile/input/test.csv')"
   ]
  },
  {
   "cell_type": "code",
   "execution_count": 872,
   "metadata": {},
   "outputs": [
    {
     "data": {
      "text/html": [
       "<div>\n",
       "<style>\n",
       "    .dataframe thead tr:only-child th {\n",
       "        text-align: right;\n",
       "    }\n",
       "\n",
       "    .dataframe thead th {\n",
       "        text-align: left;\n",
       "    }\n",
       "\n",
       "    .dataframe tbody tr th {\n",
       "        vertical-align: top;\n",
       "    }\n",
       "</style>\n",
       "<table border=\"1\" class=\"dataframe\">\n",
       "  <thead>\n",
       "    <tr style=\"text-align: right;\">\n",
       "      <th></th>\n",
       "      <th>Id</th>\n",
       "      <th>WnvPresent</th>\n",
       "    </tr>\n",
       "  </thead>\n",
       "  <tbody>\n",
       "    <tr>\n",
       "      <th>0</th>\n",
       "      <td>1</td>\n",
       "      <td>0</td>\n",
       "    </tr>\n",
       "    <tr>\n",
       "      <th>1</th>\n",
       "      <td>2</td>\n",
       "      <td>0</td>\n",
       "    </tr>\n",
       "    <tr>\n",
       "      <th>2</th>\n",
       "      <td>3</td>\n",
       "      <td>0</td>\n",
       "    </tr>\n",
       "    <tr>\n",
       "      <th>3</th>\n",
       "      <td>4</td>\n",
       "      <td>0</td>\n",
       "    </tr>\n",
       "    <tr>\n",
       "      <th>4</th>\n",
       "      <td>5</td>\n",
       "      <td>0</td>\n",
       "    </tr>\n",
       "  </tbody>\n",
       "</table>\n",
       "</div>"
      ],
      "text/plain": [
       "   Id  WnvPresent\n",
       "0   1           0\n",
       "1   2           0\n",
       "2   3           0\n",
       "3   4           0\n",
       "4   5           0"
      ]
     },
     "execution_count": 872,
     "metadata": {},
     "output_type": "execute_result"
    }
   ],
   "source": [
    "sample.head()"
   ]
  },
  {
   "cell_type": "code",
   "execution_count": 738,
   "metadata": {
    "collapsed": true,
    "nbpresent": {
     "id": "03142e87-a292-4894-9ca1-c4c5e5ef81c8"
    }
   },
   "outputs": [],
   "source": [
    "def missing_replacer(df, col):\n",
    "    for position in df[df[col] == 'M'].index.values:\n",
    "        df.at[position, col] = ((float(df.loc[position-1, col]) + \n",
    "                                    float(weather.loc[position+1, col]) / 2))"
   ]
  },
  {
   "cell_type": "code",
   "execution_count": 739,
   "metadata": {
    "collapsed": true,
    "nbpresent": {
     "id": "981891ba-d838-4adc-98f1-ef04bc6f05e1"
    }
   },
   "outputs": [],
   "source": [
    "# Convert the dates to datetime format\n",
    "weather['Date'] = pd.to_datetime(weather['Date'])\n",
    "train['Date'] = pd.to_datetime(train['Date'])\n",
    "test['Date'] = pd.to_datetime(test['Date'])\n",
    "spray['Date'] = pd.to_datetime(spray['Date'])"
   ]
  },
  {
   "cell_type": "code",
   "execution_count": 740,
   "metadata": {
    "collapsed": true,
    "nbpresent": {
     "id": "19e87637-79b3-4e13-b6bc-4342cfb19e45"
    }
   },
   "outputs": [],
   "source": [
    "weather.at[2410, 'StnPressure'] = 29.34\n",
    "weather.at[2411, 'StnPressure'] = 29.34\n",
    "weather.at[2943, 'Depart'] = -5"
   ]
  },
  {
   "cell_type": "code",
   "execution_count": 741,
   "metadata": {
    "collapsed": true,
    "nbpresent": {
     "id": "16f87283-83dc-4b2d-afb3-3d81b8b92787"
    }
   },
   "outputs": [],
   "source": [
    "# Change the 'T' to .001\n",
    "weather['PrecipTotal'] = weather['PrecipTotal'].replace('  T', .001)"
   ]
  },
  {
   "cell_type": "code",
   "execution_count": 742,
   "metadata": {
    "collapsed": true,
    "nbpresent": {
     "id": "49afed76-cadc-454d-85c6-3bd479d69706"
    }
   },
   "outputs": [],
   "source": [
    "# Replace the 'M' values\n",
    "\n",
    "missing_replacer(weather, 'Heat')\n",
    "missing_replacer(weather, 'Cool')\n",
    "missing_replacer(weather, 'WetBulb')\n",
    "missing_replacer(weather, 'PrecipTotal')\n",
    "missing_replacer(weather, 'StnPressure')\n",
    "missing_replacer(weather, 'Tavg')\n",
    "missing_replacer(weather, 'AvgSpeed')\n",
    "missing_replacer(weather, 'Depart')"
   ]
  },
  {
   "cell_type": "code",
   "execution_count": 743,
   "metadata": {
    "collapsed": true,
    "nbpresent": {
     "id": "02987493-5d5b-431c-9c25-e5f35ac3b70c"
    }
   },
   "outputs": [],
   "source": [
    "missing_replacer(weather, 'Depart')"
   ]
  },
  {
   "cell_type": "code",
   "execution_count": 744,
   "metadata": {
    "collapsed": true,
    "nbpresent": {
     "id": "ff683216-7993-43cb-a697-4a028c04a97a"
    },
    "scrolled": false
   },
   "outputs": [],
   "source": [
    "# Assign new dtypes to the places we need them\n",
    "\n",
    "weather['WetBulb'] = weather.WetBulb.astype('float')\n",
    "weather['Heat'] = weather.Heat.astype('float')\n",
    "weather['Tavg'] = weather.Tavg.astype('float')\n",
    "weather['Depart'] = weather.Depart.astype('float')\n",
    "weather['Cool'] = weather.Cool.astype('float')\n",
    "weather['PrecipTotal'] = weather.PrecipTotal.astype('float')\n",
    "weather['StnPressure'] = weather.StnPressure.astype('float')\n",
    "weather['AvgSpeed'] = weather.AvgSpeed.astype('float')"
   ]
  },
  {
   "cell_type": "code",
   "execution_count": 745,
   "metadata": {
    "collapsed": true,
    "nbpresent": {
     "id": "0f09e8e8-2d20-4bda-b995-2fa386714ef6"
    }
   },
   "outputs": [],
   "source": [
    "# Get rid of all station 2 input\n",
    "weather = weather[weather['Station'] == 1]"
   ]
  },
  {
   "cell_type": "code",
   "execution_count": 746,
   "metadata": {
    "collapsed": true,
    "nbpresent": {
     "id": "35c2cc4e-722d-4948-8dab-db79975c8326"
    }
   },
   "outputs": [],
   "source": [
    "weather = weather.drop(['Sunrise', 'Sunset', 'CodeSum', 'Depth', 'Water1', \n",
    "                        'SnowFall', 'SeaLevel'], axis = 1)"
   ]
  },
  {
   "cell_type": "code",
   "execution_count": 747,
   "metadata": {
    "collapsed": true,
    "nbpresent": {
     "id": "e3a8338f-53d6-4b01-999e-515b352d3ea7"
    }
   },
   "outputs": [],
   "source": [
    "df = train.merge(weather, how = 'left', on = 'Date')"
   ]
  },
  {
   "cell_type": "code",
   "execution_count": 748,
   "metadata": {
    "collapsed": true,
    "nbpresent": {
     "id": "6c04e45e-d3e0-449c-9db3-01782016ee22"
    }
   },
   "outputs": [],
   "source": [
    "species = pd.get_dummies(df['Species'])\n",
    "df = pd.concat([df, species], axis = 1)"
   ]
  },
  {
   "cell_type": "code",
   "execution_count": 749,
   "metadata": {
    "collapsed": true,
    "nbpresent": {
     "id": "f22e5ac8-940b-4e16-9b76-72e7de5bb18f"
    }
   },
   "outputs": [],
   "source": [
    "y = df['WnvPresent']\n",
    "X = df.drop(['Date', 'Address', 'Species', 'Block', 'Street', 'AddressNumberAndStreet',\n",
    "            'AddressAccuracy', 'Station', 'WnvPresent', 'Trap', 'Tmin', 'Tmax', 'Cool'], \n",
    "            axis = 1)"
   ]
  },
  {
   "cell_type": "code",
   "execution_count": 750,
   "metadata": {
    "nbpresent": {
     "id": "fd0a60da-2c41-4351-9c2e-ef63a1255a98"
    },
    "scrolled": true
   },
   "outputs": [
    {
     "data": {
      "image/png": "[encoded data removed]",
      "text/plain": [
       "<matplotlib.figure.Figure at 0x1a38de45f8>"
      ]
     },
     "metadata": {},
     "output_type": "display_data"
    }
   ],
   "source": [
    "correlations = X.corr()\n",
    "# plot correlation matrix\n",
    "fig, ax = plt.subplots(figsize=(20, 10))\n",
    "cax = ax.matshow(correlations, vmin=-1, vmax=1)\n",
    "fig.colorbar(cax)\n",
    "ticks = np.arange(0,len(X.columns),1)\n",
    "ax.set_xticks(ticks)\n",
    "ax.set_yticks(ticks)\n",
    "ax.set_xticklabels(X.columns.values, rotation='vertical')\n",
    "ax.set_yticklabels(X.columns.values)\n",
    "plt.show()"
   ]
  },
  {
   "cell_type": "code",
   "execution_count": 751,
   "metadata": {
    "nbpresent": {
     "id": "506eb293-7295-4ded-a3f6-16e558257381"
    }
   },
   "outputs": [
    {
     "data": {
      "image/png": "[encoded data removed]",
      "text/plain": [
       "<matplotlib.figure.Figure at 0x1a3e476ef0>"
      ]
     },
     "metadata": {},
     "output_type": "display_data"
    }
   ],
   "source": [
    "fig, ax = plt.subplots(2, 2, figsize=(15,15))\n",
    "ax[0, 0].scatter(X['Latitude'], y)\n",
    "ax[0, 0].set_title('Latitude vs y')\n",
    "ax[0, 1].scatter(X['Tavg'], y)\n",
    "ax[1, 0].scatter(X['DewPoint'], y)\n",
    "ax[1, 1].scatter(X['AvgSpeed'], y);"
   ]
  },
  {
   "cell_type": "code",
   "execution_count": 752,
   "metadata": {
    "collapsed": true,
    "nbpresent": {
     "id": "b6e91852-7907-406c-9170-a0087a4e591c"
    }
   },
   "outputs": [],
   "source": [
    "X_train, X_test, y_train, y_test = train_test_split(X, y, test_size = 0.3, random_state = 42,\n",
    "                                                    stratify = y)\n",
    "\n",
    "lg = LogisticRegression()\n",
    "ss = StandardScaler()\n",
    "\n",
    "X_train = ss.fit_transform(X_train)\n",
    "X_test = ss.transform(X_test)"
   ]
  },
  {
   "cell_type": "code",
   "execution_count": 753,
   "metadata": {
    "nbpresent": {
     "id": "e9407c95-a3e5-4cb7-a570-f3024507b582"
    },
    "scrolled": true
   },
   "outputs": [
    {
     "name": "stdout",
     "output_type": "stream",
     "text": [
      "[[2985    2]\n",
      " [ 165    0]]\n",
      "accuracy = 0.947\n",
      "roc_auc_score = 0.794\n"
     ]
    }
   ],
   "source": [
    "lg.fit(X_train, y_train)\n",
    "lg_preds = lg.predict(X_test)\n",
    "lg_probs = lg.predict_proba(X_test)\n",
    "print(metrics.confusion_matrix(y_test, lg_preds))\n",
    "print('accuracy =',round(metrics.accuracy_score(y_test, lg_preds), 3))\n",
    "print('roc_auc_score =', round(metrics.roc_auc_score(y_test, lg_probs[:, 1]), 3))"
   ]
  },
  {
   "cell_type": "code",
   "execution_count": 754,
   "metadata": {
    "nbpresent": {
     "id": "2698ae5d-7061-41f0-b05e-23a067d5fbc3"
    },
    "scrolled": true
   },
   "outputs": [
    {
     "data": {
      "image/png": "[encoded data removed]",
      "text/plain": [
       "<matplotlib.figure.Figure at 0x1a3c4460f0>"
      ]
     },
     "metadata": {},
     "output_type": "display_data"
    }
   ],
   "source": [
    "fig, ax = plt.subplots()\n",
    "fpr, tpr, threshold = metrics.roc_curve(y_test, lg_probs[:, 1])\n",
    "ax.plot(fpr, tpr, label = 'AUC = 0.794')\n",
    "plt.xlim([0.0, 1.0])\n",
    "plt.ylim([0.0, 1.0])\n",
    "plt.title('ROC Curve WNV Classification Logistic')\n",
    "plt.xlabel('False Positive Rate')\n",
    "plt.ylabel('True Positive Rate')\n",
    "legend = ax.legend(loc = 'upper left', shadow = True, fontsize = 'large')\n",
    "plt.grid(True) "
   ]
  },
  {
   "cell_type": "code",
   "execution_count": 756,
   "metadata": {
    "nbpresent": {
     "id": "7ce13f19-25a4-425c-b821-3c686f559960"
    }
   },
   "outputs": [
    {
     "name": "stdout",
     "output_type": "stream",
     "text": [
      "[[2875  112]\n",
      " [ 134   31]]\n",
      "accuracy = 0.921954314721\n",
      "precision = 0.216783216783\n"
     ]
    }
   ],
   "source": [
    "new_preds = Binarizer(threshold = 0.2).transform(lg_probs)\n",
    "print(metrics.confusion_matrix(y_test, new_preds[:, 1]))\n",
    "print('accuracy =', metrics.accuracy_score(y_test, new_preds[:, 1]))\n",
    "print('precision =', metrics.precision_score(y_test, new_preds[:, 1]))"
   ]
  },
  {
   "cell_type": "code",
   "execution_count": 757,
   "metadata": {
    "collapsed": true,
    "nbpresent": {
     "id": "46ce10c3-90df-4649-a4f6-e5810e56f4c3"
    }
   },
   "outputs": [],
   "source": [
    "coefs = pd.DataFrame()\n",
    "coefs['Values'] = lg.coef_[0]\n",
    "coefs['Variable'] = X.columns"
   ]
  },
  {
   "cell_type": "markdown",
   "metadata": {},
   "source": [
    "### RFC"
   ]
  },
  {
   "cell_type": "code",
   "execution_count": 758,
   "metadata": {},
   "outputs": [
    {
     "name": "stdout",
     "output_type": "stream",
     "text": [
      "[[2942   45]\n",
      " [ 142   23]]\n",
      "0.940672588832\n",
      "0.758\n"
     ]
    }
   ],
   "source": [
    "rfc = RandomForestClassifier()\n",
    "rfc.fit(X_train, y_train)\n",
    "rfc_probs = rfc.predict_proba(X_test)\n",
    "rfc_preds = rfc.predict(X_test)\n",
    "print(metrics.confusion_matrix(y_test, rfc_preds))\n",
    "print(metrics.accuracy_score(y_test, rfc_preds))\n",
    "rfc_auc = round(metrics.roc_auc_score(y_test, rfc_probs[:, 1]), 3)\n",
    "print(rfc_auc)"
   ]
  },
  {
   "cell_type": "code",
   "execution_count": 759,
   "metadata": {},
   "outputs": [
    {
     "data": {
      "image/png": "[encoded data removed]",
      "text/plain": [
       "<matplotlib.figure.Figure at 0x1a3c483ba8>"
      ]
     },
     "metadata": {},
     "output_type": "display_data"
    }
   ],
   "source": [
    "fig, ax = plt.subplots()\n",
    "fpr, tpr, threshold = metrics.roc_curve(y_test, rfc_probs[:, 1])\n",
    "ax.plot(fpr, tpr, label = ('AUC =', rfc_auc))\n",
    "plt.xlim([0.0, 1.0])\n",
    "plt.ylim([0.0, 1.0])\n",
    "plt.title('ROC Curve WNV Classification RFC')\n",
    "plt.xlabel('False Positive Rate')\n",
    "plt.ylabel('True Positive Rate')\n",
    "legend = ax.legend(loc = 'upper left', shadow = True, fontsize = 'large')\n",
    "\n",
    "plt.grid(True)"
   ]
  },
  {
   "cell_type": "markdown",
   "metadata": {},
   "source": [
    "### KNN"
   ]
  },
  {
   "cell_type": "code",
   "execution_count": 760,
   "metadata": {},
   "outputs": [
    {
     "name": "stdout",
     "output_type": "stream",
     "text": [
      "[[2943   44]\n",
      " [ 148   17]]\n",
      "0.939086294416\n",
      "0.717\n"
     ]
    }
   ],
   "source": [
    "knn = KNeighborsClassifier()\n",
    "knn.fit(X_train, y_train)\n",
    "knn_probs = knn.predict_proba(X_test)\n",
    "knn_preds = knn.predict(X_test)\n",
    "print(metrics.confusion_matrix(y_test, knn_preds))\n",
    "print(metrics.accuracy_score(y_test, knn_preds))\n",
    "knn_auc = round(metrics.roc_auc_score(y_test, knn_probs[:, 1]), 3)\n",
    "print(knn_auc)"
   ]
  },
  {
   "cell_type": "code",
   "execution_count": 761,
   "metadata": {},
   "outputs": [
    {
     "data": {
      "image/png": "[encoded data removed]",
      "text/plain": [
       "<matplotlib.figure.Figure at 0x1a3c4ac748>"
      ]
     },
     "metadata": {},
     "output_type": "display_data"
    }
   ],
   "source": [
    "fig, ax = plt.subplots()\n",
    "fpr, tpr, threshold = metrics.roc_curve(y_test, knn_probs[:, 1])\n",
    "ax.plot(fpr, tpr, label = ('AUC =', knn_auc))\n",
    "plt.xlim([0.0, 1.0])\n",
    "plt.ylim([0.0, 1.0])\n",
    "plt.title('ROC Curve WNV Classification knn')\n",
    "plt.xlabel('False Positive Rate')\n",
    "plt.ylabel('True Positive Rate')\n",
    "legend = ax.legend(loc = 'upper left', shadow = True, fontsize = 'large')\n",
    "plt.grid(True)"
   ]
  },
  {
   "cell_type": "markdown",
   "metadata": {},
   "source": [
    "### Model Improvement\n",
    "How can I engineer the features differently\n",
    "\n",
    "How can the spray data be used here"
   ]
  },
  {
   "cell_type": "markdown",
   "metadata": {},
   "source": [
    "#### Try making dummy variables for month and year\n",
    "Go through Date column and convert to a number for each year"
   ]
  },
  {
   "cell_type": "code",
   "execution_count": 762,
   "metadata": {},
   "outputs": [],
   "source": [
    "month = pd.get_dummies(df['Date'].dt.month)\n",
    "month = month.drop(5, axis = 1)\n",
    "X = pd.concat([X, month], axis = 1)"
   ]
  },
  {
   "cell_type": "code",
   "execution_count": 764,
   "metadata": {
    "collapsed": true
   },
   "outputs": [],
   "source": [
    "X_train, X_test, y_train, y_test = train_test_split(X, y, test_size = 0.3, random_state = 42,\n",
    "                                                    stratify = y)\n",
    "\n",
    "lg = LogisticRegression()\n",
    "ss = StandardScaler()\n",
    "\n",
    "X_train = ss.fit_transform(X_train)\n",
    "X_test = ss.transform(X_test)"
   ]
  },
  {
   "cell_type": "code",
   "execution_count": 765,
   "metadata": {},
   "outputs": [
    {
     "name": "stdout",
     "output_type": "stream",
     "text": [
      "[[2977   10]\n",
      " [ 159    6]]\n",
      "accuracy = 0.946\n",
      "roc_auc_score = 0.836\n"
     ]
    }
   ],
   "source": [
    "lg.fit(X_train, y_train)\n",
    "lg_preds = lg.predict(X_test)\n",
    "lg_probs = lg.predict_proba(X_test)\n",
    "print(metrics.confusion_matrix(y_test, lg_preds))\n",
    "print('accuracy =',round(metrics.accuracy_score(y_test, lg_preds), 3))\n",
    "lg_auc = round(metrics.roc_auc_score(y_test, lg_probs[:, 1]), 3)\n",
    "print('roc_auc_score =', lg_auc)"
   ]
  },
  {
   "cell_type": "code",
   "execution_count": 766,
   "metadata": {},
   "outputs": [
    {
     "data": {
      "image/png": "[encoded data removed]",
      "text/plain": [
       "<matplotlib.figure.Figure at 0x1a3c555d30>"
      ]
     },
     "metadata": {},
     "output_type": "display_data"
    }
   ],
   "source": [
    "fig, ax = plt.subplots()\n",
    "fpr, tpr, threshold = metrics.roc_curve(y_test, lg_probs[:, 1])\n",
    "ax.plot(fpr, tpr, label = ('AUC =', str(lg_auc)))\n",
    "plt.xlim([0.0, 1.0])\n",
    "plt.ylim([0.0, 1.0])\n",
    "plt.title('ROC Curve WNV Classification Logistic')\n",
    "plt.xlabel('False Positive Rate')\n",
    "plt.ylabel('True Positive Rate')\n",
    "legend = ax.legend(loc = 'lower right', shadow = True, fontsize = 'large')\n",
    "plt.grid(True)"
   ]
  },
  {
   "cell_type": "code",
   "execution_count": 768,
   "metadata": {},
   "outputs": [
    {
     "name": "stdout",
     "output_type": "stream",
     "text": [
      "[[2784  203]\n",
      " [ 104   61]]\n",
      "accuracy = 0.902601522843\n",
      "precision = 0.231060606061\n",
      "baseline = 0.9476522842639594\n",
      "count of occurances: 165 with a total of 3152\n",
      "recall = 0.369696969697\n"
     ]
    }
   ],
   "source": [
    "new_preds = Binarizer(threshold = 0.17).transform(lg_probs)\n",
    "print(metrics.confusion_matrix(y_test, new_preds[:, 1]))\n",
    "print('accuracy =', metrics.accuracy_score(y_test, new_preds[:, 1]))\n",
    "print('precision =', metrics.precision_score(y_test, new_preds[:, 1]))\n",
    "print('baseline =', 1 - (y_test.sum()/len(y_test)))\n",
    "print('count of occurances: {} with a total of {}'.format(y_test.sum(), len(y_test)))\n",
    "print('recall =', metrics.recall_score(y_test, new_preds[:,1]))"
   ]
  },
  {
   "cell_type": "markdown",
   "metadata": {},
   "source": [
    "### Searching for Bias: What are locations of those false negatives?\n",
    "Can I graph my confusion matrix? Will I see anything if I superimpose my predictions onto a map?"
   ]
  },
  {
   "cell_type": "code",
   "execution_count": 769,
   "metadata": {},
   "outputs": [],
   "source": [
    "# Make new df, 'test_df' that has predictions & locations, then plot\n",
    "locs = df[['Latitude', 'Longitude']]\n",
    "y_df = pd.DataFrame(y_test)\n",
    "y_df = y_df.join(locs, how='left')\n",
    "idx = y_df.index.values\n",
    "pred_df = pd.DataFrame(new_preds)\n",
    "pred_df = pred_df.drop(0, axis = 1)\n",
    "pred_df['idx'] = idx\n",
    "pred_df = pred_df.set_index('idx')\n",
    "test_df = y_df.join(pred_df, how='left')\n",
    "test_df = test_df.rename(columns={1: 'one'})"
   ]
  },
  {
   "cell_type": "code",
   "execution_count": 770,
   "metadata": {},
   "outputs": [],
   "source": [
    "lst = []\n",
    "for row in test_df.index.values:\n",
    "    if test_df.loc[row, 'WnvPresent'] == 0:\n",
    "        if test_df.loc[row, 'one'] == 0:\n",
    "            lst.append('TN')\n",
    "        elif test_df.loc[row, 'one'] == 1:\n",
    "            lst.append('FP')\n",
    "    elif test_df.loc[row, 'WnvPresent'] == 1:\n",
    "        if test_df.loc[row, 'one'] == 1:\n",
    "            lst.append('TP')\n",
    "        elif test_df.loc[row, 'WnvPresent'] == 1:\n",
    "            lst.append('FN')\n",
    "test_df['scores'] = lst"
   ]
  },
  {
   "cell_type": "code",
   "execution_count": 771,
   "metadata": {
    "collapsed": true
   },
   "outputs": [],
   "source": [
    "colors = {'TN':'yellow', 'TP':'red', 'FN':'purple', 'FP':'green'}\n",
    "sizes = {'TN':6, 'TP':50, 'FN':50, 'FP':20}"
   ]
  },
  {
   "cell_type": "code",
   "execution_count": 772,
   "metadata": {},
   "outputs": [
    {
     "data": {
      "text/plain": [
       "(41.6, 42.1)"
      ]
     },
     "execution_count": 772,
     "metadata": {},
     "output_type": "execute_result"
    },
    {
     "data": {
      "image/png": "[encoded data removed]",
      "text/plain": [
       "<matplotlib.figure.Figure at 0x1a3c446898>"
      ]
     },
     "metadata": {},
     "output_type": "display_data"
    }
   ],
   "source": [
    "fig, ax = plt.subplots(figsize=(8,8))\n",
    "plt.scatter(test_df['Latitude'], test_df['Longitude'], c=test_df['scores'].apply(\n",
    "    lambda x: 'green' if x == 'FP' else 'y'), s=test_df['scores'].apply(lambda x: \n",
    "                                                                    30 if x == 'FP' else 8))\n",
    "plt.title('False Positives')\n",
    "plt.ylim(-88.0, -87.5)\n",
    "plt.xlim(41.6, 42.1)"
   ]
  },
  {
   "cell_type": "code",
   "execution_count": 773,
   "metadata": {},
   "outputs": [
    {
     "data": {
      "text/plain": [
       "(41.6, 42.1)"
      ]
     },
     "execution_count": 773,
     "metadata": {},
     "output_type": "execute_result"
    },
    {
     "data": {
      "image/png": "[encoded data removed]",
      "text/plain": [
       "<matplotlib.figure.Figure at 0x1a3c5ca128>"
      ]
     },
     "metadata": {},
     "output_type": "display_data"
    }
   ],
   "source": [
    "fig, ax = plt.subplots(figsize=(8,8))\n",
    "plt.scatter(test_df['Latitude'], test_df['Longitude'], c=test_df['scores'].apply(\n",
    "    lambda x: 'purple' if x == 'FN' else 'y'), s=test_df['scores'].apply(lambda x: \n",
    "                                                                    30 if x == 'FN' else 8))\n",
    "plt.title('False Negatives')\n",
    "plt.ylim(-88.0, -87.5)\n",
    "plt.xlim(41.6, 42.1)"
   ]
  },
  {
   "cell_type": "code",
   "execution_count": 774,
   "metadata": {
    "scrolled": true
   },
   "outputs": [
    {
     "data": {
      "text/plain": [
       "(41.6, 42.1)"
      ]
     },
     "execution_count": 774,
     "metadata": {},
     "output_type": "execute_result"
    },
    {
     "data": {
      "image/png": "[encoded data removed]",
      "text/plain": [
       "<matplotlib.figure.Figure at 0x1a3c64a438>"
      ]
     },
     "metadata": {},
     "output_type": "display_data"
    }
   ],
   "source": [
    "fig, ax = plt.subplots(figsize=(8,8))\n",
    "plt.scatter(test_df['Latitude'], test_df['Longitude'], c=test_df['scores'].apply(\n",
    "    lambda x: 'r' if x == 'TP' else 'y'), s=test_df['scores'].apply(lambda x: \n",
    "                                                                    30 if x == 'TP' else 8))\n",
    "plt.title('True Positives')\n",
    "plt.ylim(-88.0, -87.5)\n",
    "plt.xlim(41.6, 42.1)"
   ]
  },
  {
   "cell_type": "code",
   "execution_count": 775,
   "metadata": {},
   "outputs": [
    {
     "data": {
      "text/plain": [
       "(41.6, 42.1)"
      ]
     },
     "execution_count": 775,
     "metadata": {},
     "output_type": "execute_result"
    },
    {
     "data": {
      "image/png": "[encoded data removed]",
      "text/plain": [
       "<matplotlib.figure.Figure at 0x1a3c69c668>"
      ]
     },
     "metadata": {},
     "output_type": "display_data"
    }
   ],
   "source": [
    "fig, ax = plt.subplots(figsize=(8,8))\n",
    "plt.scatter(test_df['Latitude'], test_df['Longitude'], c=test_df['scores'].apply(\n",
    "    lambda x: colors[x]), s=test_df['scores'].apply(lambda x: sizes[x]))\n",
    "plt.title('All')\n",
    "plt.ylim(-88.0, -87.5)\n",
    "plt.xlim(41.6, 42.1)"
   ]
  },
  {
   "cell_type": "markdown",
   "metadata": {},
   "source": [
    "It seems that our true positives tend to be in the bottom-right sector of the graph. But false negatives tend to be all spread out. "
   ]
  },
  {
   "cell_type": "markdown",
   "metadata": {},
   "source": [
    "### Messing with Geography & Spray\n",
    "Goal now is to make a model, and see what the beta coefficient is for our spray column. \n",
    "I would like to include a column that incorporates spray into the model to see if that is a strong predictor of whether WNV will occur or not. \n",
    "\n",
    "Import geopy: use vincenty"
   ]
  },
  {
   "cell_type": "code",
   "execution_count": 776,
   "metadata": {
    "collapsed": true
   },
   "outputs": [],
   "source": [
    "# Get just the longitudes from the traps\n",
    "traps = train[['Trap', 'Longitude', 'Latitude']]\n",
    "traps = traps.drop_duplicates()"
   ]
  },
  {
   "cell_type": "code",
   "execution_count": 777,
   "metadata": {},
   "outputs": [],
   "source": [
    "# Make a list of coordinates of all traps\n",
    "trap_cords = []\n",
    "for row in traps.index.values:\n",
    "    trap_cords.append((traps.Longitude[row], traps.Latitude[row]))\n",
    "\n",
    "# Make list of coordinates of all spray events\n",
    "ts = pd.to_datetime('2013 - 1 - 1')\n",
    "s_2013 = spray[spray.Date > ts]\n",
    "s_2013 = s_2013[['Latitude', 'Longitude']].drop_duplicates()\n",
    "spray_cords = []\n",
    "for val in s_2013.index.values:\n",
    "    spray_cords.append((s_2013.Longitude[val], s_2013.Latitude[val]))"
   ]
  },
  {
   "cell_type": "code",
   "execution_count": 778,
   "metadata": {},
   "outputs": [
    {
     "name": "stderr",
     "output_type": "stream",
     "text": [
      "100%|██████████| 138/138 [00:28<00:00,  4.86it/s]\n"
     ]
    }
   ],
   "source": [
    "# Make a list of lists. Each lower list is the distance from a trap to all spray events.\n",
    "locs = []\n",
    "for j in tqdm.tqdm(trap_cords):\n",
    "    locs.append([vincenty(j, cord).kilometers for cord in spray_cords])\n",
    "    "
   ]
  },
  {
   "cell_type": "code",
   "execution_count": 779,
   "metadata": {},
   "outputs": [],
   "source": [
    "# Get the smallest distance from each list made above\n",
    "min_distances = []\n",
    "for distances in range(len(locs)):\n",
    "    min_distances.append(min(locs[distances]))\n",
    "traps['dist'] = min_distances"
   ]
  },
  {
   "cell_type": "code",
   "execution_count": 780,
   "metadata": {},
   "outputs": [],
   "source": [
    "# Make a dictionary so that we can incorporate the distances onto the X dataframe\n",
    "# There are probably better ways to do this\n",
    "trap_dict = dict(zip(traps.Trap, traps.dist))"
   ]
  },
  {
   "cell_type": "code",
   "execution_count": 781,
   "metadata": {},
   "outputs": [
    {
     "name": "stderr",
     "output_type": "stream",
     "text": [
      "100%|██████████| 10506/10506 [00:00<00:00, 74676.29it/s]\n"
     ]
    }
   ],
   "source": [
    "# Make a list that is same length of train data, appending distances to trap for\n",
    "# each trap. We use the name of the trap from the train data as the key for our dictionary\n",
    "yeah_baby = []\n",
    "for row in tqdm.tqdm(range(len(train))):\n",
    "    yeah_baby.append(trap_dict[train.Trap[row]])"
   ]
  },
  {
   "cell_type": "code",
   "execution_count": 782,
   "metadata": {},
   "outputs": [],
   "source": [
    "# Update the X-Matrix with our new values. Note, this can be done because the lists are\n",
    "# the same length\n",
    "X['distances'] = yeah_baby"
   ]
  },
  {
   "cell_type": "code",
   "execution_count": 784,
   "metadata": {
    "collapsed": true
   },
   "outputs": [],
   "source": [
    "X_train, X_test, y_train, y_test = train_test_split(X, y, test_size = 0.3, random_state = 42,\n",
    "                                                    stratify = y)\n",
    "\n",
    "lg = LogisticRegression()\n",
    "ss = StandardScaler()\n",
    "\n",
    "X_train = ss.fit_transform(X_train)\n",
    "X_test = ss.transform(X_test)"
   ]
  },
  {
   "cell_type": "code",
   "execution_count": 785,
   "metadata": {
    "scrolled": true
   },
   "outputs": [
    {
     "name": "stdout",
     "output_type": "stream",
     "text": [
      "[[2978    9]\n",
      " [ 163    2]]\n",
      "accuracy = 0.945\n",
      "roc_auc_score = 0.833\n"
     ]
    }
   ],
   "source": [
    "lg.fit(X_train, y_train)\n",
    "lg_preds = lg.predict(X_test)\n",
    "lg_probs = lg.predict_proba(X_test)\n",
    "print(metrics.confusion_matrix(y_test, lg_preds))\n",
    "print('accuracy =',round(metrics.accuracy_score(y_test, lg_preds), 3))\n",
    "print('roc_auc_score =', round(metrics.roc_auc_score(y_test, lg_probs[:, 1]), 3))"
   ]
  },
  {
   "cell_type": "code",
   "execution_count": 786,
   "metadata": {
    "scrolled": true
   },
   "outputs": [
    {
     "data": {
      "image/png": "[encoded data removed]",
      "text/plain": [
       "<matplotlib.figure.Figure at 0x1a3d29dd30>"
      ]
     },
     "metadata": {},
     "output_type": "display_data"
    }
   ],
   "source": [
    "fig, ax = plt.subplots()\n",
    "fpr, tpr, threshold = metrics.roc_curve(y_test, lg_probs[:, 1])\n",
    "ax.plot(fpr, tpr, label = ('AUC =', str(lg_auc)))\n",
    "plt.xlim([0.0, 1.0])\n",
    "plt.ylim([0.0, 1.0])\n",
    "plt.title('ROC Curve WNV Classification Logistic')\n",
    "plt.xlabel('False Positive Rate')\n",
    "plt.ylabel('True Positive Rate')\n",
    "legend = ax.legend(loc = 'lower right', shadow = True, fontsize = 'large')\n",
    "plt.grid(True)"
   ]
  },
  {
   "cell_type": "code",
   "execution_count": 787,
   "metadata": {},
   "outputs": [
    {
     "name": "stdout",
     "output_type": "stream",
     "text": [
      "[[2922   65]\n",
      " [ 134   31]]\n",
      "accuracy = 0.936865482234\n",
      "precision = 0.322916666667\n",
      "baseline = 0.9476522842639594\n",
      "count of occurances: 165 with a total of 3152\n",
      "recall = 0.187878787879\n"
     ]
    }
   ],
   "source": [
    "new_preds = Binarizer(threshold = 0.25).transform(lg_probs)\n",
    "print(metrics.confusion_matrix(y_test, new_preds[:, 1]))\n",
    "print('accuracy =', metrics.accuracy_score(y_test, new_preds[:, 1]))\n",
    "print('precision =', metrics.precision_score(y_test, new_preds[:, 1]))\n",
    "print('baseline =', 1 - (y_test.sum()/len(y_test)))\n",
    "print('count of occurances: {} with a total of {}'.format(y_test.sum(), len(y_test)))\n",
    "print('recall =', metrics.recall_score(y_test, new_preds[:,1]))"
   ]
  },
  {
   "cell_type": "code",
   "execution_count": 788,
   "metadata": {},
   "outputs": [],
   "source": [
    "coefs_dist = pd.DataFrame()\n",
    "coefs_dist['Values'] = lg.coef_[0]\n",
    "coefs_dist['Variable'] = X.columns"
   ]
  },
  {
   "cell_type": "code",
   "execution_count": 789,
   "metadata": {},
   "outputs": [
    {
     "data": {
      "text/plain": [
       "<matplotlib.collections.PathCollection at 0x1a3d2a8550>"
      ]
     },
     "execution_count": 789,
     "metadata": {},
     "output_type": "execute_result"
    },
    {
     "data": {
      "image/png": "[encoded data removed]",
      "text/plain": [
       "<matplotlib.figure.Figure at 0x1a385c1278>"
      ]
     },
     "metadata": {},
     "output_type": "display_data"
    }
   ],
   "source": [
    "plt.scatter(X.distances, y)"
   ]
  },
  {
   "cell_type": "code",
   "execution_count": 790,
   "metadata": {
    "scrolled": false
   },
   "outputs": [
    {
     "data": {
      "text/plain": [
       "array([[ 1.        ,  0.00231657],\n",
       "       [ 0.00231657,  1.        ]])"
      ]
     },
     "execution_count": 790,
     "metadata": {},
     "output_type": "execute_result"
    }
   ],
   "source": [
    "np.corrcoef(X.distances, y)"
   ]
  },
  {
   "cell_type": "code",
   "execution_count": 791,
   "metadata": {},
   "outputs": [],
   "source": [
    "lst = []\n",
    "for col in range(len(X.columns)):\n",
    "    lst.append(np.round(np.corrcoef(X[X.columns.values[col]], y)[0, 1], 5))\n",
    "names = X.columns.values\n",
    "evaluation = pd.DataFrame()\n",
    "evaluation['name'] = names\n",
    "evaluation['coeff'] = lst\n",
    "evaluation.sort_values('coeff')"
   ]
  },
  {
   "cell_type": "code",
   "execution_count": 792,
   "metadata": {},
   "outputs": [
    {
     "data": {
      "text/html": [
       "<div>\n",
       "<style>\n",
       "    .dataframe thead tr:only-child th {\n",
       "        text-align: right;\n",
       "    }\n",
       "\n",
       "    .dataframe thead th {\n",
       "        text-align: left;\n",
       "    }\n",
       "\n",
       "    .dataframe tbody tr th {\n",
       "        vertical-align: top;\n",
       "    }\n",
       "</style>\n",
       "<table border=\"1\" class=\"dataframe\">\n",
       "  <thead>\n",
       "    <tr style=\"text-align: right;\">\n",
       "      <th></th>\n",
       "      <th>name</th>\n",
       "      <th>coeff</th>\n",
       "    </tr>\n",
       "  </thead>\n",
       "  <tbody>\n",
       "    <tr>\n",
       "      <th>21</th>\n",
       "      <td>6</td>\n",
       "      <td>-0.09745</td>\n",
       "    </tr>\n",
       "    <tr>\n",
       "      <th>16</th>\n",
       "      <td>CULEX RESTUANS</td>\n",
       "      <td>-0.09209</td>\n",
       "    </tr>\n",
       "    <tr>\n",
       "      <th>22</th>\n",
       "      <td>7</td>\n",
       "      <td>-0.08965</td>\n",
       "    </tr>\n",
       "    <tr>\n",
       "      <th>1</th>\n",
       "      <td>Longitude</td>\n",
       "      <td>-0.06035</td>\n",
       "    </tr>\n",
       "    <tr>\n",
       "      <th>7</th>\n",
       "      <td>Heat</td>\n",
       "      <td>-0.05681</td>\n",
       "    </tr>\n",
       "    <tr>\n",
       "      <th>10</th>\n",
       "      <td>ResultSpeed</td>\n",
       "      <td>-0.05118</td>\n",
       "    </tr>\n",
       "    <tr>\n",
       "      <th>19</th>\n",
       "      <td>CULEX TERRITANS</td>\n",
       "      <td>-0.03457</td>\n",
       "    </tr>\n",
       "    <tr>\n",
       "      <th>12</th>\n",
       "      <td>AvgSpeed</td>\n",
       "      <td>-0.02996</td>\n",
       "    </tr>\n",
       "    <tr>\n",
       "      <th>9</th>\n",
       "      <td>StnPressure</td>\n",
       "      <td>-0.02162</td>\n",
       "    </tr>\n",
       "    <tr>\n",
       "      <th>8</th>\n",
       "      <td>PrecipTotal</td>\n",
       "      <td>-0.02147</td>\n",
       "    </tr>\n",
       "    <tr>\n",
       "      <th>17</th>\n",
       "      <td>CULEX SALINARIUS</td>\n",
       "      <td>-0.02137</td>\n",
       "    </tr>\n",
       "    <tr>\n",
       "      <th>20</th>\n",
       "      <td>5</td>\n",
       "      <td>-0.02112</td>\n",
       "    </tr>\n",
       "    <tr>\n",
       "      <th>18</th>\n",
       "      <td>CULEX TARSALIS</td>\n",
       "      <td>-0.00562</td>\n",
       "    </tr>\n",
       "    <tr>\n",
       "      <th>13</th>\n",
       "      <td>CULEX ERRATICUS</td>\n",
       "      <td>-0.00230</td>\n",
       "    </tr>\n",
       "    <tr>\n",
       "      <th>25</th>\n",
       "      <td>distances</td>\n",
       "      <td>0.00232</td>\n",
       "    </tr>\n",
       "    <tr>\n",
       "      <th>11</th>\n",
       "      <td>ResultDir</td>\n",
       "      <td>0.00792</td>\n",
       "    </tr>\n",
       "    <tr>\n",
       "      <th>24</th>\n",
       "      <td>9</td>\n",
       "      <td>0.00908</td>\n",
       "    </tr>\n",
       "    <tr>\n",
       "      <th>15</th>\n",
       "      <td>CULEX PIPIENS/RESTUANS</td>\n",
       "      <td>0.01096</td>\n",
       "    </tr>\n",
       "    <tr>\n",
       "      <th>0</th>\n",
       "      <td>Latitude</td>\n",
       "      <td>0.02870</td>\n",
       "    </tr>\n",
       "    <tr>\n",
       "      <th>4</th>\n",
       "      <td>Depart</td>\n",
       "      <td>0.05544</td>\n",
       "    </tr>\n",
       "    <tr>\n",
       "      <th>6</th>\n",
       "      <td>WetBulb</td>\n",
       "      <td>0.06132</td>\n",
       "    </tr>\n",
       "    <tr>\n",
       "      <th>3</th>\n",
       "      <td>Tavg</td>\n",
       "      <td>0.06604</td>\n",
       "    </tr>\n",
       "    <tr>\n",
       "      <th>5</th>\n",
       "      <td>DewPoint</td>\n",
       "      <td>0.09046</td>\n",
       "    </tr>\n",
       "    <tr>\n",
       "      <th>14</th>\n",
       "      <td>CULEX PIPIENS</td>\n",
       "      <td>0.09621</td>\n",
       "    </tr>\n",
       "    <tr>\n",
       "      <th>23</th>\n",
       "      <td>8</td>\n",
       "      <td>0.16065</td>\n",
       "    </tr>\n",
       "    <tr>\n",
       "      <th>2</th>\n",
       "      <td>NumMosquitos</td>\n",
       "      <td>0.19682</td>\n",
       "    </tr>\n",
       "  </tbody>\n",
       "</table>\n",
       "</div>"
      ],
      "text/plain": [
       "                      name    coeff\n",
       "21                       6 -0.09745\n",
       "16          CULEX RESTUANS -0.09209\n",
       "22                       7 -0.08965\n",
       "1                Longitude -0.06035\n",
       "7                     Heat -0.05681\n",
       "10             ResultSpeed -0.05118\n",
       "19         CULEX TERRITANS -0.03457\n",
       "12                AvgSpeed -0.02996\n",
       "9              StnPressure -0.02162\n",
       "8              PrecipTotal -0.02147\n",
       "17        CULEX SALINARIUS -0.02137\n",
       "20                       5 -0.02112\n",
       "18          CULEX TARSALIS -0.00562\n",
       "13         CULEX ERRATICUS -0.00230\n",
       "25               distances  0.00232\n",
       "11               ResultDir  0.00792\n",
       "24                       9  0.00908\n",
       "15  CULEX PIPIENS/RESTUANS  0.01096\n",
       "0                 Latitude  0.02870\n",
       "4                   Depart  0.05544\n",
       "6                  WetBulb  0.06132\n",
       "3                     Tavg  0.06604\n",
       "5                 DewPoint  0.09046\n",
       "14           CULEX PIPIENS  0.09621\n",
       "23                       8  0.16065\n",
       "2             NumMosquitos  0.19682"
      ]
     },
     "execution_count": 792,
     "metadata": {},
     "output_type": "execute_result"
    }
   ],
   "source": [
    "evaluation = pd.DataFrame()\n",
    "evaluation['name'] = names\n",
    "evaluation['coeff'] = lst\n",
    "evaluation.sort_values('coeff')"
   ]
  },
  {
   "cell_type": "markdown",
   "metadata": {},
   "source": [
    "### Updated Thoughts\n",
    "Well, an interesting thing to note:\n",
    "NumMosquitos has highest correlation with WNV presence. How does distance to a spray relate with the total number of Mosquitos? \n",
    "Distance to trap really does not correlate well with WNV presence...but it may correlate with num mosqs, which then in turn may correlate with num mosqs"
   ]
  },
  {
   "cell_type": "code",
   "execution_count": 793,
   "metadata": {},
   "outputs": [
    {
     "data": {
      "text/plain": [
       "array([[ 1.        ,  0.09751106],\n",
       "       [ 0.09751106,  1.        ]])"
      ]
     },
     "execution_count": 793,
     "metadata": {},
     "output_type": "execute_result"
    }
   ],
   "source": [
    "np.corrcoef(X.NumMosquitos, X.distances)"
   ]
  },
  {
   "cell_type": "code",
   "execution_count": 794,
   "metadata": {
    "collapsed": true
   },
   "outputs": [
    {
     "data": {
      "text/html": [
       "<div>\n",
       "<style>\n",
       "    .dataframe thead tr:only-child th {\n",
       "        text-align: right;\n",
       "    }\n",
       "\n",
       "    .dataframe thead th {\n",
       "        text-align: left;\n",
       "    }\n",
       "\n",
       "    .dataframe tbody tr th {\n",
       "        vertical-align: top;\n",
       "    }\n",
       "</style>\n",
       "<table border=\"1\" class=\"dataframe\">\n",
       "  <thead>\n",
       "    <tr style=\"text-align: right;\">\n",
       "      <th></th>\n",
       "      <th>name</th>\n",
       "      <th>coeff</th>\n",
       "    </tr>\n",
       "  </thead>\n",
       "  <tbody>\n",
       "    <tr>\n",
       "      <th>0</th>\n",
       "      <td>Latitude</td>\n",
       "      <td>-0.18481</td>\n",
       "    </tr>\n",
       "    <tr>\n",
       "      <th>16</th>\n",
       "      <td>CULEX RESTUANS</td>\n",
       "      <td>-0.15839</td>\n",
       "    </tr>\n",
       "    <tr>\n",
       "      <th>7</th>\n",
       "      <td>Heat</td>\n",
       "      <td>-0.13557</td>\n",
       "    </tr>\n",
       "    <tr>\n",
       "      <th>24</th>\n",
       "      <td>9</td>\n",
       "      <td>-0.10814</td>\n",
       "    </tr>\n",
       "    <tr>\n",
       "      <th>19</th>\n",
       "      <td>CULEX TERRITANS</td>\n",
       "      <td>-0.09614</td>\n",
       "    </tr>\n",
       "    <tr>\n",
       "      <th>17</th>\n",
       "      <td>CULEX SALINARIUS</td>\n",
       "      <td>-0.06289</td>\n",
       "    </tr>\n",
       "    <tr>\n",
       "      <th>21</th>\n",
       "      <td>6</td>\n",
       "      <td>-0.05981</td>\n",
       "    </tr>\n",
       "    <tr>\n",
       "      <th>20</th>\n",
       "      <td>5</td>\n",
       "      <td>-0.05629</td>\n",
       "    </tr>\n",
       "    <tr>\n",
       "      <th>8</th>\n",
       "      <td>PrecipTotal</td>\n",
       "      <td>-0.05623</td>\n",
       "    </tr>\n",
       "    <tr>\n",
       "      <th>9</th>\n",
       "      <td>StnPressure</td>\n",
       "      <td>-0.02773</td>\n",
       "    </tr>\n",
       "    <tr>\n",
       "      <th>11</th>\n",
       "      <td>ResultDir</td>\n",
       "      <td>-0.02699</td>\n",
       "    </tr>\n",
       "    <tr>\n",
       "      <th>18</th>\n",
       "      <td>CULEX TARSALIS</td>\n",
       "      <td>-0.01732</td>\n",
       "    </tr>\n",
       "    <tr>\n",
       "      <th>13</th>\n",
       "      <td>CULEX ERRATICUS</td>\n",
       "      <td>-0.00354</td>\n",
       "    </tr>\n",
       "    <tr>\n",
       "      <th>10</th>\n",
       "      <td>ResultSpeed</td>\n",
       "      <td>0.00157</td>\n",
       "    </tr>\n",
       "    <tr>\n",
       "      <th>12</th>\n",
       "      <td>AvgSpeed</td>\n",
       "      <td>0.02166</td>\n",
       "    </tr>\n",
       "    <tr>\n",
       "      <th>1</th>\n",
       "      <td>Longitude</td>\n",
       "      <td>0.03663</td>\n",
       "    </tr>\n",
       "    <tr>\n",
       "      <th>22</th>\n",
       "      <td>7</td>\n",
       "      <td>0.05125</td>\n",
       "    </tr>\n",
       "    <tr>\n",
       "      <th>15</th>\n",
       "      <td>CULEX PIPIENS/RESTUANS</td>\n",
       "      <td>0.06150</td>\n",
       "    </tr>\n",
       "    <tr>\n",
       "      <th>25</th>\n",
       "      <td>distances</td>\n",
       "      <td>0.09751</td>\n",
       "    </tr>\n",
       "    <tr>\n",
       "      <th>4</th>\n",
       "      <td>Depart</td>\n",
       "      <td>0.10427</td>\n",
       "    </tr>\n",
       "    <tr>\n",
       "      <th>23</th>\n",
       "      <td>8</td>\n",
       "      <td>0.12095</td>\n",
       "    </tr>\n",
       "    <tr>\n",
       "      <th>14</th>\n",
       "      <td>CULEX PIPIENS</td>\n",
       "      <td>0.13475</td>\n",
       "    </tr>\n",
       "    <tr>\n",
       "      <th>6</th>\n",
       "      <td>WetBulb</td>\n",
       "      <td>0.14191</td>\n",
       "    </tr>\n",
       "    <tr>\n",
       "      <th>5</th>\n",
       "      <td>DewPoint</td>\n",
       "      <td>0.16036</td>\n",
       "    </tr>\n",
       "    <tr>\n",
       "      <th>3</th>\n",
       "      <td>Tavg</td>\n",
       "      <td>0.18948</td>\n",
       "    </tr>\n",
       "    <tr>\n",
       "      <th>2</th>\n",
       "      <td>NumMosquitos</td>\n",
       "      <td>1.00000</td>\n",
       "    </tr>\n",
       "  </tbody>\n",
       "</table>\n",
       "</div>"
      ],
      "text/plain": [
       "                      name    coeff\n",
       "0                 Latitude -0.18481\n",
       "16          CULEX RESTUANS -0.15839\n",
       "7                     Heat -0.13557\n",
       "24                       9 -0.10814\n",
       "19         CULEX TERRITANS -0.09614\n",
       "17        CULEX SALINARIUS -0.06289\n",
       "21                       6 -0.05981\n",
       "20                       5 -0.05629\n",
       "8              PrecipTotal -0.05623\n",
       "9              StnPressure -0.02773\n",
       "11               ResultDir -0.02699\n",
       "18          CULEX TARSALIS -0.01732\n",
       "13         CULEX ERRATICUS -0.00354\n",
       "10             ResultSpeed  0.00157\n",
       "12                AvgSpeed  0.02166\n",
       "1                Longitude  0.03663\n",
       "22                       7  0.05125\n",
       "15  CULEX PIPIENS/RESTUANS  0.06150\n",
       "25               distances  0.09751\n",
       "4                   Depart  0.10427\n",
       "23                       8  0.12095\n",
       "14           CULEX PIPIENS  0.13475\n",
       "6                  WetBulb  0.14191\n",
       "5                 DewPoint  0.16036\n",
       "3                     Tavg  0.18948\n",
       "2             NumMosquitos  1.00000"
      ]
     },
     "execution_count": 794,
     "metadata": {},
     "output_type": "execute_result"
    }
   ],
   "source": [
    "lst = []\n",
    "for col in range(len(X.columns)):\n",
    "    lst.append(np.round(np.corrcoef(X[X.columns.values[col]], X.NumMosquitos)[0, 1], 5))\n",
    "names = X.columns.values\n",
    "evaluation = pd.DataFrame()\n",
    "evaluation['name'] = names\n",
    "evaluation['coeff'] = lst\n",
    "evaluation.sort_values('coeff')"
   ]
  },
  {
   "cell_type": "markdown",
   "metadata": {},
   "source": [
    "### Next Idea:\n",
    "Analyze 2013 to see if spraying has an immediate effect on the number of mosquitos captured. \n",
    "Line graph with x-axis being date and y-axis being number of mosquitos. Do this for 5 traps in heavy spray zones and 5 traps in non-spray zones. Make markers on graph to denote a spray event. See if line graph goes up/down immediately following the event. "
   ]
  },
  {
   "cell_type": "code",
   "execution_count": 795,
   "metadata": {
    "collapsed": true
   },
   "outputs": [
    {
     "data": {
      "text/plain": [
       "0        False\n",
       "1        False\n",
       "2        False\n",
       "3        False\n",
       "4        False\n",
       "5        False\n",
       "6        False\n",
       "7        False\n",
       "8        False\n",
       "9        False\n",
       "10       False\n",
       "11       False\n",
       "12       False\n",
       "13       False\n",
       "14       False\n",
       "15       False\n",
       "16       False\n",
       "17       False\n",
       "18       False\n",
       "19       False\n",
       "20       False\n",
       "21       False\n",
       "22       False\n",
       "23       False\n",
       "24       False\n",
       "25       False\n",
       "26       False\n",
       "27       False\n",
       "28       False\n",
       "29       False\n",
       "         ...  \n",
       "10476     True\n",
       "10477     True\n",
       "10478     True\n",
       "10479     True\n",
       "10480     True\n",
       "10481     True\n",
       "10482     True\n",
       "10483     True\n",
       "10484     True\n",
       "10485     True\n",
       "10486     True\n",
       "10487     True\n",
       "10488     True\n",
       "10489     True\n",
       "10490     True\n",
       "10491     True\n",
       "10492     True\n",
       "10493     True\n",
       "10494     True\n",
       "10495     True\n",
       "10496     True\n",
       "10497     True\n",
       "10498     True\n",
       "10499     True\n",
       "10500     True\n",
       "10501     True\n",
       "10502     True\n",
       "10503     True\n",
       "10504     True\n",
       "10505     True\n",
       "Name: Date, Length: 10506, dtype: bool"
      ]
     },
     "execution_count": 795,
     "metadata": {},
     "output_type": "execute_result"
    }
   ],
   "source": [
    "df['Date'].dt.year == 2013"
   ]
  },
  {
   "cell_type": "markdown",
   "metadata": {},
   "source": [
    "### Precipation: Feature Engineering\n",
    "Below, we will add a column to X that shows the sum of precipitation for n amount of days before the date given in a particular row on the train/test set. Thus, we will get a precip_sum for each row in our train/test data set. "
   ]
  },
  {
   "cell_type": "code",
   "execution_count": 796,
   "metadata": {
    "collapsed": true
   },
   "outputs": [],
   "source": [
    "# Make list that has sum of all days specified in delta\n",
    "delta = pd.Timedelta('-21 days')\n",
    "precips = []\n",
    "for date in weather.Date:\n",
    "    precips.append(weather.loc[((weather['Date'] > (date + delta)) & \n",
    "                                (weather['Date'] <= date))].PrecipTotal.sum())\n",
    "weather['precips'] = precips"
   ]
  },
  {
   "cell_type": "code",
   "execution_count": 798,
   "metadata": {},
   "outputs": [],
   "source": [
    "df = df.merge(weather[['Date', 'precips']], how = 'left', on = 'Date')"
   ]
  },
  {
   "cell_type": "code",
   "execution_count": 799,
   "metadata": {},
   "outputs": [
    {
     "data": {
      "text/plain": [
       "array([[ 1.        ,  0.03463149],\n",
       "       [ 0.03463149,  1.        ]])"
      ]
     },
     "execution_count": 799,
     "metadata": {},
     "output_type": "execute_result"
    }
   ],
   "source": [
    "np.corrcoef(df['precips'], y)"
   ]
  },
  {
   "cell_type": "code",
   "execution_count": 801,
   "metadata": {},
   "outputs": [],
   "source": [
    "X['precips'] = df['precips']\n",
    "X = X.drop('WetBulb', axis = 1)\n",
    "X = X.drop('NumMosquitos', axis = 1)"
   ]
  },
  {
   "cell_type": "markdown",
   "metadata": {},
   "source": [
    "### Retest our model\n",
    "Remove Some Columns: Year dummy variables, Wetbulb\n",
    "\n",
    "Add some columns:\n"
   ]
  },
  {
   "cell_type": "code",
   "execution_count": 1210,
   "metadata": {
    "collapsed": true
   },
   "outputs": [],
   "source": [
    "X_train, X_test, y_train, y_test = train_test_split(X, y, test_size = 0.3, random_state = 42,\n",
    "                                                    stratify = y)\n",
    "\n",
    "lg = LogisticRegression()\n",
    "ss = StandardScaler()\n",
    "\n",
    "X_train = ss.fit_transform(X_train)\n",
    "X_test = ss.transform(X_test)"
   ]
  },
  {
   "cell_type": "code",
   "execution_count": 1211,
   "metadata": {},
   "outputs": [
    {
     "name": "stdout",
     "output_type": "stream",
     "text": [
      "[[2987    0]\n",
      " [ 165    0]]\n",
      "accuracy = 0.948\n",
      "roc_auc_score = 0.794\n"
     ]
    }
   ],
   "source": [
    "lg.fit(X_train, y_train)\n",
    "lg_preds = lg.predict(X_test)\n",
    "lg_probs = lg.predict_proba(X_test)\n",
    "print(metrics.confusion_matrix(y_test, lg_preds))\n",
    "print('accuracy =',round(metrics.accuracy_score(y_test, lg_preds), 3))\n",
    "lg_auc = round(metrics.roc_auc_score(y_test, lg_probs[:, 1]), 3)\n",
    "print('roc_auc_score =', lg_auc)"
   ]
  },
  {
   "cell_type": "code",
   "execution_count": 1213,
   "metadata": {},
   "outputs": [
    {
     "data": {
      "text/plain": [
       "<matplotlib.lines.Line2D at 0x1a496099e8>"
      ]
     },
     "execution_count": 1213,
     "metadata": {},
     "output_type": "execute_result"
    },
    {
     "data": {
      "image/png": "[encoded data removed]",
      "text/plain": [
       "<matplotlib.figure.Figure at 0x1a494d1748>"
      ]
     },
     "metadata": {},
     "output_type": "display_data"
    }
   ],
   "source": [
    "fig, ax = plt.subplots()\n",
    "fpr, tpr, threshold = metrics.roc_curve(y_test, lg_probs[:, 1])\n",
    "ax.plot(fpr, tpr, label = ('AUC =', str(lg_auc)))\n",
    "plt.xlim([0.0, 1.0])\n",
    "plt.ylim([0.0, 1.0])\n",
    "plt.title('ROC Curve WNV Classification Logistic')\n",
    "plt.xlabel('False Positive Rate')\n",
    "plt.ylabel('True Positive Rate')\n",
    "legend = ax.legend(loc = 'lower right', shadow = True, fontsize = 'large')\n",
    "plt.grid(True)\n",
    "plt.axvline(x=0.22)"
   ]
  },
  {
   "cell_type": "code",
   "execution_count": 812,
   "metadata": {},
   "outputs": [
    {
     "name": "stdout",
     "output_type": "stream",
     "text": [
      "[[2927   60]\n",
      " [ 143   22]]\n",
      "accuracy = 0.935596446701\n",
      "precision = 0.268292682927\n",
      "baseline = 0.9476522842639594\n",
      "recall = 0.133\n"
     ]
    }
   ],
   "source": [
    "new_preds = Binarizer(threshold = 0.2).transform(lg_probs)\n",
    "print(metrics.confusion_matrix(y_test, new_preds[:, 1]))\n",
    "print('accuracy =', metrics.accuracy_score(y_test, new_preds[:, 1]))\n",
    "print('precision =', metrics.precision_score(y_test, new_preds[:, 1]))\n",
    "print('baseline =', 1 - (y_test.sum()/len(y_test)))\n",
    "print('recall = {}'.format(round(metrics.recall_score(y_test, new_preds[:,1]), 3)))"
   ]
  },
  {
   "cell_type": "markdown",
   "metadata": {},
   "source": [
    "### Finally: Adapt our Model for the test data\n",
    "First: get our test data ready to go...basically follow the steps for train"
   ]
  },
  {
   "cell_type": "code",
   "execution_count": 854,
   "metadata": {},
   "outputs": [],
   "source": [
    "df_test = test.merge(weather, how='left', on='Date')\n",
    "month = pd.get_dummies(df_test['Date'].dt.month)\n",
    "df_test = pd.concat([df_test, month], axis = 1)\n",
    "species = pd.get_dummies(df_test['Species'])\n",
    "df_test = pd.concat([df_test, species], axis = 1)\n",
    "df_test = df_test.drop(['UNSPECIFIED CULEX'], axis=1)\n",
    "df_test = df_test.drop(['Id', 'Date', 'Address', 'Block', 'Street', 'Trap', \n",
    "                        'AddressNumberAndStreet', 'Tmax', 'Tmin', 'Cool', 'WetBulb',\n",
    "                        'Species', 'AddressAccuracy', 'Station'], axis=1)"
   ]
  },
  {
   "cell_type": "code",
   "execution_count": 856,
   "metadata": {},
   "outputs": [
    {
     "name": "stderr",
     "output_type": "stream",
     "text": [
      "100%|██████████| 151/151 [00:29<00:00,  5.04it/s]\n",
      "100%|██████████| 116293/116293 [00:01<00:00, 84299.13it/s]\n"
     ]
    }
   ],
   "source": [
    "traps = test[['Trap', 'Longitude', 'Latitude']]\n",
    "traps = traps.drop_duplicates()\n",
    "trap_cords = []\n",
    "for row in traps.index.values:\n",
    "    trap_cords.append((traps.Longitude[row], traps.Latitude[row]))\n",
    "\n",
    "# Make list of coordinates of all spray events\n",
    "ts = pd.to_datetime('2013 - 1 - 1')\n",
    "s_2013 = spray[spray.Date > ts]\n",
    "s_2013 = s_2013[['Latitude', 'Longitude']].drop_duplicates()\n",
    "spray_cords = []\n",
    "for val in s_2013.index.values:\n",
    "    spray_cords.append((s_2013.Longitude[val], s_2013.Latitude[val]))\n",
    "    \n",
    "locs = []\n",
    "for j in tqdm.tqdm(trap_cords):\n",
    "    locs.append([vincenty(j, cord).kilometers for cord in spray_cords])\n",
    "\n",
    "min_distances = []\n",
    "for distances in range(len(locs)):\n",
    "    min_distances.append(min(locs[distances]))\n",
    "traps['dist'] = min_distances\n",
    "\n",
    "trap_dict = dict(zip(traps.Trap, traps.dist))    \n",
    "\n",
    "yeah_baby = []\n",
    "for row in tqdm.tqdm(range(len(test))):\n",
    "    yeah_baby.append(trap_dict[test.Trap[row]])\n",
    "    \n",
    "df_test['distances'] = yeah_baby"
   ]
  },
  {
   "cell_type": "code",
   "execution_count": 861,
   "metadata": {},
   "outputs": [],
   "source": [
    "lg = LogisticRegression()\n",
    "ss = StandardScaler()\n",
    "\n",
    "X_train = X\n",
    "X_test = df_test\n",
    "\n",
    "Xs = ss.fit_transform(X_train)\n",
    "X_test = ss.transform(X_test)\n",
    "\n",
    "lg.fit(X_train, y)\n",
    "lg_probs = lg.predict_proba(X_test)\n",
    "\n",
    "new_preds = Binarizer(threshold = 0.2).transform(lg_probs)\n"
   ]
  },
  {
   "cell_type": "code",
   "execution_count": 885,
   "metadata": {},
   "outputs": [],
   "source": [
    "test['WnvPresent'] = lg_probs[:, 1]\n",
    "new_preds = test[['Id', 'WnvPresent']]"
   ]
  },
  {
   "cell_type": "code",
   "execution_count": 886,
   "metadata": {},
   "outputs": [],
   "source": [
    "new_preds.to_csv('./predictions.csv', index=False)"
   ]
  },
  {
   "cell_type": "code",
   "execution_count": 887,
   "metadata": {
    "collapsed": true
   },
   "outputs": [],
   "source": [
    "lg_preds = lg.predict(X_test)"
   ]
  },
  {
   "cell_type": "markdown",
   "metadata": {},
   "source": [
    "### Random things"
   ]
  },
  {
   "cell_type": "code",
   "execution_count": 1158,
   "metadata": {},
   "outputs": [
    {
     "data": {
      "text/html": [
       "<div>\n",
       "<style>\n",
       "    .dataframe thead tr:only-child th {\n",
       "        text-align: right;\n",
       "    }\n",
       "\n",
       "    .dataframe thead th {\n",
       "        text-align: left;\n",
       "    }\n",
       "\n",
       "    .dataframe tbody tr th {\n",
       "        vertical-align: top;\n",
       "    }\n",
       "</style>\n",
       "<table border=\"1\" class=\"dataframe\">\n",
       "  <thead>\n",
       "    <tr style=\"text-align: right;\">\n",
       "      <th></th>\n",
       "      <th>Latitude</th>\n",
       "      <th>Longitude</th>\n",
       "      <th>Tavg</th>\n",
       "      <th>Depart</th>\n",
       "      <th>DewPoint</th>\n",
       "      <th>Heat</th>\n",
       "      <th>PrecipTotal</th>\n",
       "      <th>StnPressure</th>\n",
       "      <th>ResultSpeed</th>\n",
       "      <th>ResultDir</th>\n",
       "      <th>...</th>\n",
       "      <th>CULEX SALINARIUS</th>\n",
       "      <th>CULEX TARSALIS</th>\n",
       "      <th>CULEX TERRITANS</th>\n",
       "      <th>5</th>\n",
       "      <th>6</th>\n",
       "      <th>7</th>\n",
       "      <th>8</th>\n",
       "      <th>9</th>\n",
       "      <th>distances</th>\n",
       "      <th>precips</th>\n",
       "    </tr>\n",
       "  </thead>\n",
       "  <tbody>\n",
       "    <tr>\n",
       "      <th>0</th>\n",
       "      <td>41.954690</td>\n",
       "      <td>-87.800991</td>\n",
       "      <td>74.0</td>\n",
       "      <td>10.0</td>\n",
       "      <td>58</td>\n",
       "      <td>0.0</td>\n",
       "      <td>0.0</td>\n",
       "      <td>29.39</td>\n",
       "      <td>5.8</td>\n",
       "      <td>18</td>\n",
       "      <td>...</td>\n",
       "      <td>0</td>\n",
       "      <td>0</td>\n",
       "      <td>0</td>\n",
       "      <td>1</td>\n",
       "      <td>0</td>\n",
       "      <td>0</td>\n",
       "      <td>0</td>\n",
       "      <td>0</td>\n",
       "      <td>0.019174</td>\n",
       "      <td>1.792</td>\n",
       "    </tr>\n",
       "    <tr>\n",
       "      <th>1</th>\n",
       "      <td>41.954690</td>\n",
       "      <td>-87.800991</td>\n",
       "      <td>74.0</td>\n",
       "      <td>10.0</td>\n",
       "      <td>58</td>\n",
       "      <td>0.0</td>\n",
       "      <td>0.0</td>\n",
       "      <td>29.39</td>\n",
       "      <td>5.8</td>\n",
       "      <td>18</td>\n",
       "      <td>...</td>\n",
       "      <td>0</td>\n",
       "      <td>0</td>\n",
       "      <td>0</td>\n",
       "      <td>1</td>\n",
       "      <td>0</td>\n",
       "      <td>0</td>\n",
       "      <td>0</td>\n",
       "      <td>0</td>\n",
       "      <td>0.019174</td>\n",
       "      <td>1.792</td>\n",
       "    </tr>\n",
       "    <tr>\n",
       "      <th>2</th>\n",
       "      <td>41.994991</td>\n",
       "      <td>-87.769279</td>\n",
       "      <td>74.0</td>\n",
       "      <td>10.0</td>\n",
       "      <td>58</td>\n",
       "      <td>0.0</td>\n",
       "      <td>0.0</td>\n",
       "      <td>29.39</td>\n",
       "      <td>5.8</td>\n",
       "      <td>18</td>\n",
       "      <td>...</td>\n",
       "      <td>0</td>\n",
       "      <td>0</td>\n",
       "      <td>0</td>\n",
       "      <td>1</td>\n",
       "      <td>0</td>\n",
       "      <td>0</td>\n",
       "      <td>0</td>\n",
       "      <td>0</td>\n",
       "      <td>0.016445</td>\n",
       "      <td>1.792</td>\n",
       "    </tr>\n",
       "    <tr>\n",
       "      <th>3</th>\n",
       "      <td>41.974089</td>\n",
       "      <td>-87.824812</td>\n",
       "      <td>74.0</td>\n",
       "      <td>10.0</td>\n",
       "      <td>58</td>\n",
       "      <td>0.0</td>\n",
       "      <td>0.0</td>\n",
       "      <td>29.39</td>\n",
       "      <td>5.8</td>\n",
       "      <td>18</td>\n",
       "      <td>...</td>\n",
       "      <td>0</td>\n",
       "      <td>0</td>\n",
       "      <td>0</td>\n",
       "      <td>1</td>\n",
       "      <td>0</td>\n",
       "      <td>0</td>\n",
       "      <td>0</td>\n",
       "      <td>0</td>\n",
       "      <td>0.418028</td>\n",
       "      <td>1.792</td>\n",
       "    </tr>\n",
       "    <tr>\n",
       "      <th>4</th>\n",
       "      <td>41.974089</td>\n",
       "      <td>-87.824812</td>\n",
       "      <td>74.0</td>\n",
       "      <td>10.0</td>\n",
       "      <td>58</td>\n",
       "      <td>0.0</td>\n",
       "      <td>0.0</td>\n",
       "      <td>29.39</td>\n",
       "      <td>5.8</td>\n",
       "      <td>18</td>\n",
       "      <td>...</td>\n",
       "      <td>0</td>\n",
       "      <td>0</td>\n",
       "      <td>0</td>\n",
       "      <td>1</td>\n",
       "      <td>0</td>\n",
       "      <td>0</td>\n",
       "      <td>0</td>\n",
       "      <td>0</td>\n",
       "      <td>0.418028</td>\n",
       "      <td>1.792</td>\n",
       "    </tr>\n",
       "  </tbody>\n",
       "</table>\n",
       "<p>5 rows × 25 columns</p>\n",
       "</div>"
      ],
      "text/plain": [
       "    Latitude  Longitude  Tavg  Depart  DewPoint  Heat  PrecipTotal  \\\n",
       "0  41.954690 -87.800991  74.0    10.0        58   0.0          0.0   \n",
       "1  41.954690 -87.800991  74.0    10.0        58   0.0          0.0   \n",
       "2  41.994991 -87.769279  74.0    10.0        58   0.0          0.0   \n",
       "3  41.974089 -87.824812  74.0    10.0        58   0.0          0.0   \n",
       "4  41.974089 -87.824812  74.0    10.0        58   0.0          0.0   \n",
       "\n",
       "   StnPressure  ResultSpeed  ResultDir   ...     CULEX SALINARIUS  \\\n",
       "0        29.39          5.8         18   ...                    0   \n",
       "1        29.39          5.8         18   ...                    0   \n",
       "2        29.39          5.8         18   ...                    0   \n",
       "3        29.39          5.8         18   ...                    0   \n",
       "4        29.39          5.8         18   ...                    0   \n",
       "\n",
       "   CULEX TARSALIS  CULEX TERRITANS  5  6  7  8  9  distances  precips  \n",
       "0               0                0  1  0  0  0  0   0.019174    1.792  \n",
       "1               0                0  1  0  0  0  0   0.019174    1.792  \n",
       "2               0                0  1  0  0  0  0   0.016445    1.792  \n",
       "3               0                0  1  0  0  0  0   0.418028    1.792  \n",
       "4               0                0  1  0  0  0  0   0.418028    1.792  \n",
       "\n",
       "[5 rows x 25 columns]"
      ]
     },
     "execution_count": 1158,
     "metadata": {},
     "output_type": "execute_result"
    }
   ],
   "source": [
    "X.head()"
   ]
  },
  {
   "cell_type": "code",
   "execution_count": 1159,
   "metadata": {
    "scrolled": true
   },
   "outputs": [
    {
     "data": {
      "image/png": "[encoded data removed]",
      "text/plain": [
       "<matplotlib.figure.Figure at 0x1a4af7e278>"
      ]
     },
     "metadata": {},
     "output_type": "display_data"
    }
   ],
   "source": [
    "correlations = X.corr()\n",
    "# plot correlation matrix\n",
    "fig, ax = plt.subplots(figsize=(20, 10))\n",
    "cax = ax.matshow(correlations, vmin=-1, vmax=1)\n",
    "fig.colorbar(cax)\n",
    "ticks = np.arange(0,len(X.columns),1)\n",
    "ax.set_xticks(ticks)\n",
    "ax.set_yticks(ticks)\n",
    "ax.set_xticklabels(X.columns.values, rotation='vertical')\n",
    "ax.set_yticklabels(X.columns.values)\n",
    "plt.show()"
   ]
  },
  {
   "cell_type": "code",
   "execution_count": 1207,
   "metadata": {
    "scrolled": false
   },
   "outputs": [
    {
     "data": {
      "text/html": [
       "<div>\n",
       "<style>\n",
       "    .dataframe thead tr:only-child th {\n",
       "        text-align: right;\n",
       "    }\n",
       "\n",
       "    .dataframe thead th {\n",
       "        text-align: left;\n",
       "    }\n",
       "\n",
       "    .dataframe tbody tr th {\n",
       "        vertical-align: top;\n",
       "    }\n",
       "</style>\n",
       "<table border=\"1\" class=\"dataframe\">\n",
       "  <thead>\n",
       "    <tr style=\"text-align: right;\">\n",
       "      <th></th>\n",
       "      <th>name</th>\n",
       "      <th>coeff</th>\n",
       "    </tr>\n",
       "  </thead>\n",
       "  <tbody>\n",
       "    <tr>\n",
       "      <th>19</th>\n",
       "      <td>june</td>\n",
       "      <td>-0.09745</td>\n",
       "    </tr>\n",
       "    <tr>\n",
       "      <th>14</th>\n",
       "      <td>CULEX RESTUANS</td>\n",
       "      <td>-0.09209</td>\n",
       "    </tr>\n",
       "    <tr>\n",
       "      <th>20</th>\n",
       "      <td>july</td>\n",
       "      <td>-0.08965</td>\n",
       "    </tr>\n",
       "    <tr>\n",
       "      <th>1</th>\n",
       "      <td>Longitude</td>\n",
       "      <td>-0.06035</td>\n",
       "    </tr>\n",
       "    <tr>\n",
       "      <th>5</th>\n",
       "      <td>Heat</td>\n",
       "      <td>-0.05681</td>\n",
       "    </tr>\n",
       "    <tr>\n",
       "      <th>8</th>\n",
       "      <td>ResultSpeed</td>\n",
       "      <td>-0.05118</td>\n",
       "    </tr>\n",
       "    <tr>\n",
       "      <th>17</th>\n",
       "      <td>CULEX TERRITANS</td>\n",
       "      <td>-0.03457</td>\n",
       "    </tr>\n",
       "    <tr>\n",
       "      <th>10</th>\n",
       "      <td>AvgSpeed</td>\n",
       "      <td>-0.02996</td>\n",
       "    </tr>\n",
       "    <tr>\n",
       "      <th>7</th>\n",
       "      <td>StnPressure</td>\n",
       "      <td>-0.02162</td>\n",
       "    </tr>\n",
       "    <tr>\n",
       "      <th>6</th>\n",
       "      <td>PrecipTotal</td>\n",
       "      <td>-0.02147</td>\n",
       "    </tr>\n",
       "    <tr>\n",
       "      <th>15</th>\n",
       "      <td>CULEX SALINARIUS</td>\n",
       "      <td>-0.02137</td>\n",
       "    </tr>\n",
       "    <tr>\n",
       "      <th>18</th>\n",
       "      <td>may</td>\n",
       "      <td>-0.02112</td>\n",
       "    </tr>\n",
       "    <tr>\n",
       "      <th>16</th>\n",
       "      <td>CULEX TARSALIS</td>\n",
       "      <td>-0.00562</td>\n",
       "    </tr>\n",
       "    <tr>\n",
       "      <th>11</th>\n",
       "      <td>CULEX ERRATICUS</td>\n",
       "      <td>-0.00230</td>\n",
       "    </tr>\n",
       "    <tr>\n",
       "      <th>23</th>\n",
       "      <td>distances</td>\n",
       "      <td>0.00232</td>\n",
       "    </tr>\n",
       "    <tr>\n",
       "      <th>9</th>\n",
       "      <td>ResultDir</td>\n",
       "      <td>0.00792</td>\n",
       "    </tr>\n",
       "    <tr>\n",
       "      <th>22</th>\n",
       "      <td>september</td>\n",
       "      <td>0.00908</td>\n",
       "    </tr>\n",
       "    <tr>\n",
       "      <th>13</th>\n",
       "      <td>CULEX PIPIENS/RESTUANS</td>\n",
       "      <td>0.01096</td>\n",
       "    </tr>\n",
       "    <tr>\n",
       "      <th>0</th>\n",
       "      <td>Latitude</td>\n",
       "      <td>0.02870</td>\n",
       "    </tr>\n",
       "    <tr>\n",
       "      <th>24</th>\n",
       "      <td>precips</td>\n",
       "      <td>0.03463</td>\n",
       "    </tr>\n",
       "    <tr>\n",
       "      <th>3</th>\n",
       "      <td>Depart</td>\n",
       "      <td>0.05544</td>\n",
       "    </tr>\n",
       "    <tr>\n",
       "      <th>2</th>\n",
       "      <td>Tavg</td>\n",
       "      <td>0.06604</td>\n",
       "    </tr>\n",
       "    <tr>\n",
       "      <th>4</th>\n",
       "      <td>DewPoint</td>\n",
       "      <td>0.09046</td>\n",
       "    </tr>\n",
       "    <tr>\n",
       "      <th>12</th>\n",
       "      <td>CULEX PIPIENS</td>\n",
       "      <td>0.09621</td>\n",
       "    </tr>\n",
       "    <tr>\n",
       "      <th>21</th>\n",
       "      <td>aug</td>\n",
       "      <td>0.16065</td>\n",
       "    </tr>\n",
       "  </tbody>\n",
       "</table>\n",
       "</div>"
      ],
      "text/plain": [
       "                      name    coeff\n",
       "19                    june -0.09745\n",
       "14          CULEX RESTUANS -0.09209\n",
       "20                    july -0.08965\n",
       "1                Longitude -0.06035\n",
       "5                     Heat -0.05681\n",
       "8              ResultSpeed -0.05118\n",
       "17         CULEX TERRITANS -0.03457\n",
       "10                AvgSpeed -0.02996\n",
       "7              StnPressure -0.02162\n",
       "6              PrecipTotal -0.02147\n",
       "15        CULEX SALINARIUS -0.02137\n",
       "18                     may -0.02112\n",
       "16          CULEX TARSALIS -0.00562\n",
       "11         CULEX ERRATICUS -0.00230\n",
       "23               distances  0.00232\n",
       "9                ResultDir  0.00792\n",
       "22               september  0.00908\n",
       "13  CULEX PIPIENS/RESTUANS  0.01096\n",
       "0                 Latitude  0.02870\n",
       "24                 precips  0.03463\n",
       "3                   Depart  0.05544\n",
       "2                     Tavg  0.06604\n",
       "4                 DewPoint  0.09046\n",
       "12           CULEX PIPIENS  0.09621\n",
       "21                     aug  0.16065"
      ]
     },
     "execution_count": 1207,
     "metadata": {},
     "output_type": "execute_result"
    }
   ],
   "source": [
    "evaluation[['name', 'coeff']].sort_values('coeff')"
   ]
  },
  {
   "cell_type": "code",
   "execution_count": null,
   "metadata": {
    "collapsed": true
   },
   "outputs": [],
   "source": [
    "df = df.where(df == -1, df - 146200)"
   ]
  },
  {
   "cell_type": "code",
   "execution_count": null,
   "metadata": {
    "collapsed": true
   },
   "outputs": [],
   "source": [
    "DataFrame.set_value(index, col, value, takeable=False)¶\n"
   ]
  },
  {
   "cell_type": "code",
   "execution_count": 1183,
   "metadata": {},
   "outputs": [],
   "source": [
    "evaluation = evaluation.set_value(18, 'name', 'may')\n",
    "evaluation = evaluation.set_value(19, 'name', 'june')\n",
    "evaluation = evaluation.set_value(20, 'name', 'july')\n",
    "evaluation = evaluation.set_value(21, 'name', 'aug')\n",
    "evaluation = evaluation.set_value(22, 'name', 'september')\n"
   ]
  },
  {
   "cell_type": "code",
   "execution_count": 1175,
   "metadata": {
    "collapsed": true
   },
   "outputs": [],
   "source": [
    "evaluation.rename(columns={6:'june', 7:'july', 8:'august', 9:'september'}, inplace=True)"
   ]
  },
  {
   "cell_type": "code",
   "execution_count": 1208,
   "metadata": {
    "scrolled": false
   },
   "outputs": [
    {
     "data": {
      "text/plain": [
       "Text(0.5,1,'Feature Correlation Bargraph against Target')"
      ]
     },
     "execution_count": 1208,
     "metadata": {},
     "output_type": "execute_result"
    },
    {
     "data": {
      "image/png": "[encoded data removed]",
      "text/plain": [
       "<matplotlib.figure.Figure at 0x1a46321f98>"
      ]
     },
     "metadata": {},
     "output_type": "display_data"
    }
   ],
   "source": [
    "lst = []\n",
    "for col in range(len(X.columns)):\n",
    "    lst.append(np.round(np.corrcoef(X[X.columns.values[col]], y)[0, 1], 5))\n",
    "names = X.columns.values\n",
    "evaluation = pd.DataFrame()\n",
    "evaluation['name'] = names\n",
    "evaluation['coeff'] = lst\n",
    "evaluation.sort_values('coeff').plot.bar()\n",
    "plt.title('Feature Correlation against Target')"
   ]
  },
  {
   "cell_type": "code",
   "execution_count": 1180,
   "metadata": {},
   "outputs": [
    {
     "data": {
      "text/html": [
       "<div>\n",
       "<style>\n",
       "    .dataframe thead tr:only-child th {\n",
       "        text-align: right;\n",
       "    }\n",
       "\n",
       "    .dataframe thead th {\n",
       "        text-align: left;\n",
       "    }\n",
       "\n",
       "    .dataframe tbody tr th {\n",
       "        vertical-align: top;\n",
       "    }\n",
       "</style>\n",
       "<table border=\"1\" class=\"dataframe\">\n",
       "  <thead>\n",
       "    <tr style=\"text-align: right;\">\n",
       "      <th></th>\n",
       "      <th>name</th>\n",
       "      <th>coeff</th>\n",
       "    </tr>\n",
       "  </thead>\n",
       "  <tbody>\n",
       "    <tr>\n",
       "      <th>20</th>\n",
       "      <td>7</td>\n",
       "      <td>-0.08965</td>\n",
       "    </tr>\n",
       "    <tr>\n",
       "      <th>21</th>\n",
       "      <td>8</td>\n",
       "      <td>0.16065</td>\n",
       "    </tr>\n",
       "    <tr>\n",
       "      <th>22</th>\n",
       "      <td>9</td>\n",
       "      <td>0.00908</td>\n",
       "    </tr>\n",
       "    <tr>\n",
       "      <th>23</th>\n",
       "      <td>distances</td>\n",
       "      <td>0.00232</td>\n",
       "    </tr>\n",
       "    <tr>\n",
       "      <th>24</th>\n",
       "      <td>precips</td>\n",
       "      <td>0.03463</td>\n",
       "    </tr>\n",
       "  </tbody>\n",
       "</table>\n",
       "</div>"
      ],
      "text/plain": [
       "         name    coeff\n",
       "20          7 -0.08965\n",
       "21          8  0.16065\n",
       "22          9  0.00908\n",
       "23  distances  0.00232\n",
       "24    precips  0.03463"
      ]
     },
     "execution_count": 1180,
     "metadata": {},
     "output_type": "execute_result"
    }
   ],
   "source": [
    "evaluation.tail()"
   ]
  },
  {
   "cell_type": "code",
   "execution_count": 1196,
   "metadata": {},
   "outputs": [
    {
     "data": {
      "text/plain": [
       "25"
      ]
     },
     "execution_count": 1196,
     "metadata": {},
     "output_type": "execute_result"
    }
   ],
   "source": [
    "len(evaluation.sort_values('coeff').name.values)"
   ]
  },
  {
   "cell_type": "code",
   "execution_count": 1201,
   "metadata": {},
   "outputs": [
    {
     "data": {
      "text/plain": [
       "array([-0.09745, -0.09209, -0.08965, -0.06035, -0.05681, -0.05118,\n",
       "       -0.03457, -0.02996, -0.02162, -0.02147, -0.02137, -0.02112,\n",
       "       -0.00562, -0.0023 ,  0.00232,  0.00792,  0.00908,  0.01096,\n",
       "        0.0287 ,  0.03463,  0.05544,  0.06604,  0.09046,  0.09621,  0.16065])"
      ]
     },
     "execution_count": 1201,
     "metadata": {},
     "output_type": "execute_result"
    }
   ],
   "source": [
    "evaluation.sort_values('coeff').coeff.values"
   ]
  },
  {
   "cell_type": "code",
   "execution_count": 1202,
   "metadata": {
    "scrolled": false
   },
   "outputs": [
    {
     "ename": "TypeError",
     "evalue": "<lambda>() missing 1 required positional argument: 'height'",
     "output_type": "error",
     "traceback": [
      "\u001b[0;31m---------------------------------------------------------------------------\u001b[0m",
      "\u001b[0;31mTypeError\u001b[0m                                 Traceback (most recent call last)",
      "\u001b[0;32m<ipython-input-1202-0f9b4c4f2a1b>\u001b[0m in \u001b[0;36m<module>\u001b[0;34m()\u001b[0m\n\u001b[1;32m      1\u001b[0m \u001b[0mfig\u001b[0m\u001b[0;34m,\u001b[0m \u001b[0max\u001b[0m \u001b[0;34m=\u001b[0m \u001b[0mplt\u001b[0m\u001b[0;34m.\u001b[0m\u001b[0msubplots\u001b[0m\u001b[0;34m(\u001b[0m\u001b[0;34m)\u001b[0m\u001b[0;34m\u001b[0m\u001b[0m\n\u001b[0;32m----> 2\u001b[0;31m \u001b[0max\u001b[0m\u001b[0;34m.\u001b[0m\u001b[0mbar\u001b[0m\u001b[0;34m(\u001b[0m\u001b[0mevaluation\u001b[0m\u001b[0;34m.\u001b[0m\u001b[0msort_values\u001b[0m\u001b[0;34m(\u001b[0m\u001b[0;34m'coeff'\u001b[0m\u001b[0;34m)\u001b[0m\u001b[0;34m.\u001b[0m\u001b[0mcoeff\u001b[0m\u001b[0;34m.\u001b[0m\u001b[0mvalues\u001b[0m\u001b[0;34m)\u001b[0m\u001b[0;34m\u001b[0m\u001b[0m\n\u001b[0m\u001b[1;32m      3\u001b[0m \u001b[0;31m# plt.title('Correlation against wnv presence')\u001b[0m\u001b[0;34m\u001b[0m\u001b[0;34m\u001b[0m\u001b[0m\n\u001b[1;32m      4\u001b[0m \u001b[0;31m# plt.xticks(['june', 'CULEX RESTUANS', 'july', 'Longitude', 'Heat',\u001b[0m\u001b[0;34m\u001b[0m\u001b[0;34m\u001b[0m\u001b[0m\n\u001b[1;32m      5\u001b[0m \u001b[0;31m#        'ResultSpeed', 'CULEX TERRITANS', 'AvgSpeed', 'StnPressure',\u001b[0m\u001b[0;34m\u001b[0m\u001b[0;34m\u001b[0m\u001b[0m\n",
      "\u001b[0;32m~/anaconda3/lib/python3.6/site-packages/matplotlib/__init__.py\u001b[0m in \u001b[0;36minner\u001b[0;34m(ax, *args, **kwargs)\u001b[0m\n\u001b[1;32m   1708\u001b[0m                     warnings.warn(msg % (label_namer, func.__name__),\n\u001b[1;32m   1709\u001b[0m                                   RuntimeWarning, stacklevel=2)\n\u001b[0;32m-> 1710\u001b[0;31m             \u001b[0;32mreturn\u001b[0m \u001b[0mfunc\u001b[0m\u001b[0;34m(\u001b[0m\u001b[0max\u001b[0m\u001b[0;34m,\u001b[0m \u001b[0;34m*\u001b[0m\u001b[0margs\u001b[0m\u001b[0;34m,\u001b[0m \u001b[0;34m**\u001b[0m\u001b[0mkwargs\u001b[0m\u001b[0;34m)\u001b[0m\u001b[0;34m\u001b[0m\u001b[0m\n\u001b[0m\u001b[1;32m   1711\u001b[0m         \u001b[0mpre_doc\u001b[0m \u001b[0;34m=\u001b[0m \u001b[0minner\u001b[0m\u001b[0;34m.\u001b[0m\u001b[0m__doc__\u001b[0m\u001b[0;34m\u001b[0m\u001b[0m\n\u001b[1;32m   1712\u001b[0m         \u001b[0;32mif\u001b[0m \u001b[0mpre_doc\u001b[0m \u001b[0;32mis\u001b[0m \u001b[0;32mNone\u001b[0m\u001b[0;34m:\u001b[0m\u001b[0;34m\u001b[0m\u001b[0m\n",
      "\u001b[0;32m~/anaconda3/lib/python3.6/site-packages/matplotlib/axes/_axes.py\u001b[0m in \u001b[0;36mbar\u001b[0;34m(self, *args, **kwargs)\u001b[0m\n\u001b[1;32m   2025\u001b[0m                 \u001b[0;32mbreak\u001b[0m\u001b[0;34m\u001b[0m\u001b[0m\n\u001b[1;32m   2026\u001b[0m         \u001b[0;32melse\u001b[0m\u001b[0;34m:\u001b[0m\u001b[0;34m\u001b[0m\u001b[0m\n\u001b[0;32m-> 2027\u001b[0;31m             \u001b[0;32mraise\u001b[0m \u001b[0mexps\u001b[0m\u001b[0;34m[\u001b[0m\u001b[0;36m0\u001b[0m\u001b[0;34m]\u001b[0m\u001b[0;34m\u001b[0m\u001b[0m\n\u001b[0m\u001b[1;32m   2028\u001b[0m         \u001b[0;31m# if we matched the second-case, then the user passed in\u001b[0m\u001b[0;34m\u001b[0m\u001b[0;34m\u001b[0m\u001b[0m\n\u001b[1;32m   2029\u001b[0m         \u001b[0;31m# left=val as a kwarg which we want to deprecate\u001b[0m\u001b[0;34m\u001b[0m\u001b[0;34m\u001b[0m\u001b[0m\n",
      "\u001b[0;32m~/anaconda3/lib/python3.6/site-packages/matplotlib/axes/_axes.py\u001b[0m in \u001b[0;36mbar\u001b[0;34m(self, *args, **kwargs)\u001b[0m\n\u001b[1;32m   2017\u001b[0m         \u001b[0;32mfor\u001b[0m \u001b[0mmatcher\u001b[0m \u001b[0;32min\u001b[0m \u001b[0mmatchers\u001b[0m\u001b[0;34m:\u001b[0m\u001b[0;34m\u001b[0m\u001b[0m\n\u001b[1;32m   2018\u001b[0m             \u001b[0;32mtry\u001b[0m\u001b[0;34m:\u001b[0m\u001b[0;34m\u001b[0m\u001b[0m\n\u001b[0;32m-> 2019\u001b[0;31m                 \u001b[0mdp\u001b[0m\u001b[0;34m,\u001b[0m \u001b[0mx\u001b[0m\u001b[0;34m,\u001b[0m \u001b[0mheight\u001b[0m\u001b[0;34m,\u001b[0m \u001b[0mwidth\u001b[0m\u001b[0;34m,\u001b[0m \u001b[0my\u001b[0m\u001b[0;34m,\u001b[0m \u001b[0mkwargs\u001b[0m \u001b[0;34m=\u001b[0m \u001b[0mmatcher\u001b[0m\u001b[0;34m(\u001b[0m\u001b[0;34m*\u001b[0m\u001b[0margs\u001b[0m\u001b[0;34m,\u001b[0m \u001b[0;34m**\u001b[0m\u001b[0mkwargs\u001b[0m\u001b[0;34m)\u001b[0m\u001b[0;34m\u001b[0m\u001b[0m\n\u001b[0m\u001b[1;32m   2020\u001b[0m             \u001b[0;32mexcept\u001b[0m \u001b[0mTypeError\u001b[0m \u001b[0;32mas\u001b[0m \u001b[0me\u001b[0m\u001b[0;34m:\u001b[0m\u001b[0;34m\u001b[0m\u001b[0m\n\u001b[1;32m   2021\u001b[0m                 \u001b[0;31m# This can only come from a no-match as there is\u001b[0m\u001b[0;34m\u001b[0m\u001b[0;34m\u001b[0m\u001b[0m\n",
      "\u001b[0;31mTypeError\u001b[0m: <lambda>() missing 1 required positional argument: 'height'"
     ]
    },
    {
     "data": {
      "image/png": "[encoded data removed]",
      "text/plain": [
       "<matplotlib.figure.Figure at 0x1a458a5320>"
      ]
     },
     "metadata": {},
     "output_type": "display_data"
    }
   ],
   "source": [
    "fig, ax = plt.subplots()\n",
    "ax.bar(evaluation.sort_values('coeff').coeff.values)\n",
    "# plt.title('Correlation against wnv presence')\n",
    "# plt.xticks(['june', 'CULEX RESTUANS', 'july', 'Longitude', 'Heat',\n",
    "#        'ResultSpeed', 'CULEX TERRITANS', 'AvgSpeed', 'StnPressure',\n",
    "#        'PrecipTotal', 'CULEX SALINARIUS', 'may', 'CULEX TARSALIS',\n",
    "#        'CULEX ERRATICUS', 'distances', 'ResultDir', 'september',\n",
    "#        'CULEX PIPIENS/RESTUANS', 'Latitude', 'precips', 'Depart', 'Tavg',\n",
    "#        'DewPoint', 'CULEX PIPIENS', 'aug'])"
   ]
  },
  {
   "cell_type": "code",
   "execution_count": 1172,
   "metadata": {},
   "outputs": [
    {
     "data": {
      "text/plain": [
       "array([6, 'CULEX RESTUANS', 7, 'Longitude', 'Heat', 'ResultSpeed',\n",
       "       'CULEX TERRITANS', 'AvgSpeed', 'StnPressure', 'PrecipTotal',\n",
       "       'CULEX SALINARIUS', 5, 'CULEX TARSALIS', 'CULEX ERRATICUS',\n",
       "       'distances', 'ResultDir', 9, 'CULEX PIPIENS/RESTUANS', 'Latitude',\n",
       "       'precips', 'Depart', 'Tavg', 'DewPoint', 'CULEX PIPIENS', 8], dtype=object)"
      ]
     },
     "execution_count": 1172,
     "metadata": {},
     "output_type": "execute_result"
    }
   ],
   "source": [
    "evaluation.sort_values('coeff').name.values"
   ]
  },
  {
   "cell_type": "code",
   "execution_count": 1167,
   "metadata": {},
   "outputs": [
    {
     "ename": "ValueError",
     "evalue": "shape mismatch: objects cannot be broadcast to a single shape",
     "output_type": "error",
     "traceback": [
      "\u001b[0;31m---------------------------------------------------------------------------\u001b[0m",
      "\u001b[0;31mValueError\u001b[0m                                Traceback (most recent call last)",
      "\u001b[0;32m<ipython-input-1167-6f9d1c698aa9>\u001b[0m in \u001b[0;36m<module>\u001b[0;34m()\u001b[0m\n\u001b[1;32m      1\u001b[0m \u001b[0mfig\u001b[0m\u001b[0;34m,\u001b[0m \u001b[0max\u001b[0m \u001b[0;34m=\u001b[0m \u001b[0mplt\u001b[0m\u001b[0;34m.\u001b[0m\u001b[0msubplots\u001b[0m\u001b[0;34m(\u001b[0m\u001b[0;34m)\u001b[0m\u001b[0;34m\u001b[0m\u001b[0m\n\u001b[1;32m      2\u001b[0m \u001b[0mind\u001b[0m \u001b[0;34m=\u001b[0m \u001b[0mnp\u001b[0m\u001b[0;34m.\u001b[0m\u001b[0marange\u001b[0m\u001b[0;34m(\u001b[0m\u001b[0;36m1\u001b[0m\u001b[0;34m,\u001b[0m \u001b[0;34m(\u001b[0m\u001b[0mlen\u001b[0m\u001b[0;34m(\u001b[0m\u001b[0mX\u001b[0m\u001b[0;34m)\u001b[0m\u001b[0;34m+\u001b[0m\u001b[0;36m1\u001b[0m\u001b[0;34m)\u001b[0m\u001b[0;34m)\u001b[0m\u001b[0;34m\u001b[0m\u001b[0m\n\u001b[0;32m----> 3\u001b[0;31m \u001b[0max\u001b[0m\u001b[0;34m.\u001b[0m\u001b[0mbar\u001b[0m\u001b[0;34m(\u001b[0m\u001b[0mind\u001b[0m\u001b[0;34m,\u001b[0m \u001b[0mevaluation\u001b[0m\u001b[0;34m.\u001b[0m\u001b[0msort_values\u001b[0m\u001b[0;34m(\u001b[0m\u001b[0;34m'coeff'\u001b[0m\u001b[0;34m)\u001b[0m\u001b[0;34m.\u001b[0m\u001b[0mcoeff\u001b[0m\u001b[0;34m.\u001b[0m\u001b[0mvalues\u001b[0m\u001b[0;34m)\u001b[0m\u001b[0;34m\u001b[0m\u001b[0m\n\u001b[0m",
      "\u001b[0;32m~/anaconda3/lib/python3.6/site-packages/matplotlib/__init__.py\u001b[0m in \u001b[0;36minner\u001b[0;34m(ax, *args, **kwargs)\u001b[0m\n\u001b[1;32m   1708\u001b[0m                     warnings.warn(msg % (label_namer, func.__name__),\n\u001b[1;32m   1709\u001b[0m                                   RuntimeWarning, stacklevel=2)\n\u001b[0;32m-> 1710\u001b[0;31m             \u001b[0;32mreturn\u001b[0m \u001b[0mfunc\u001b[0m\u001b[0;34m(\u001b[0m\u001b[0max\u001b[0m\u001b[0;34m,\u001b[0m \u001b[0;34m*\u001b[0m\u001b[0margs\u001b[0m\u001b[0;34m,\u001b[0m \u001b[0;34m**\u001b[0m\u001b[0mkwargs\u001b[0m\u001b[0;34m)\u001b[0m\u001b[0;34m\u001b[0m\u001b[0m\n\u001b[0m\u001b[1;32m   1711\u001b[0m         \u001b[0mpre_doc\u001b[0m \u001b[0;34m=\u001b[0m \u001b[0minner\u001b[0m\u001b[0;34m.\u001b[0m\u001b[0m__doc__\u001b[0m\u001b[0;34m\u001b[0m\u001b[0m\n\u001b[1;32m   1712\u001b[0m         \u001b[0;32mif\u001b[0m \u001b[0mpre_doc\u001b[0m \u001b[0;32mis\u001b[0m \u001b[0;32mNone\u001b[0m\u001b[0;34m:\u001b[0m\u001b[0;34m\u001b[0m\u001b[0m\n",
      "\u001b[0;32m~/anaconda3/lib/python3.6/site-packages/matplotlib/axes/_axes.py\u001b[0m in \u001b[0;36mbar\u001b[0;34m(self, *args, **kwargs)\u001b[0m\n\u001b[1;32m   2079\u001b[0m         x, height, width, y, linewidth = np.broadcast_arrays(\n\u001b[1;32m   2080\u001b[0m             \u001b[0;31m# Make args iterable too.\u001b[0m\u001b[0;34m\u001b[0m\u001b[0;34m\u001b[0m\u001b[0m\n\u001b[0;32m-> 2081\u001b[0;31m             np.atleast_1d(x), height, width, y, linewidth)\n\u001b[0m\u001b[1;32m   2082\u001b[0m \u001b[0;34m\u001b[0m\u001b[0m\n\u001b[1;32m   2083\u001b[0m         \u001b[0;32mif\u001b[0m \u001b[0morientation\u001b[0m \u001b[0;34m==\u001b[0m \u001b[0;34m'vertical'\u001b[0m\u001b[0;34m:\u001b[0m\u001b[0;34m\u001b[0m\u001b[0m\n",
      "\u001b[0;32m~/anaconda3/lib/python3.6/site-packages/numpy/lib/stride_tricks.py\u001b[0m in \u001b[0;36mbroadcast_arrays\u001b[0;34m(*args, **kwargs)\u001b[0m\n\u001b[1;32m    247\u001b[0m     \u001b[0margs\u001b[0m \u001b[0;34m=\u001b[0m \u001b[0;34m[\u001b[0m\u001b[0mnp\u001b[0m\u001b[0;34m.\u001b[0m\u001b[0marray\u001b[0m\u001b[0;34m(\u001b[0m\u001b[0m_m\u001b[0m\u001b[0;34m,\u001b[0m \u001b[0mcopy\u001b[0m\u001b[0;34m=\u001b[0m\u001b[0;32mFalse\u001b[0m\u001b[0;34m,\u001b[0m \u001b[0msubok\u001b[0m\u001b[0;34m=\u001b[0m\u001b[0msubok\u001b[0m\u001b[0;34m)\u001b[0m \u001b[0;32mfor\u001b[0m \u001b[0m_m\u001b[0m \u001b[0;32min\u001b[0m \u001b[0margs\u001b[0m\u001b[0;34m]\u001b[0m\u001b[0;34m\u001b[0m\u001b[0m\n\u001b[1;32m    248\u001b[0m \u001b[0;34m\u001b[0m\u001b[0m\n\u001b[0;32m--> 249\u001b[0;31m     \u001b[0mshape\u001b[0m \u001b[0;34m=\u001b[0m \u001b[0m_broadcast_shape\u001b[0m\u001b[0;34m(\u001b[0m\u001b[0;34m*\u001b[0m\u001b[0margs\u001b[0m\u001b[0;34m)\u001b[0m\u001b[0;34m\u001b[0m\u001b[0m\n\u001b[0m\u001b[1;32m    250\u001b[0m \u001b[0;34m\u001b[0m\u001b[0m\n\u001b[1;32m    251\u001b[0m     \u001b[0;32mif\u001b[0m \u001b[0mall\u001b[0m\u001b[0;34m(\u001b[0m\u001b[0marray\u001b[0m\u001b[0;34m.\u001b[0m\u001b[0mshape\u001b[0m \u001b[0;34m==\u001b[0m \u001b[0mshape\u001b[0m \u001b[0;32mfor\u001b[0m \u001b[0marray\u001b[0m \u001b[0;32min\u001b[0m \u001b[0margs\u001b[0m\u001b[0;34m)\u001b[0m\u001b[0;34m:\u001b[0m\u001b[0;34m\u001b[0m\u001b[0m\n",
      "\u001b[0;32m~/anaconda3/lib/python3.6/site-packages/numpy/lib/stride_tricks.py\u001b[0m in \u001b[0;36m_broadcast_shape\u001b[0;34m(*args)\u001b[0m\n\u001b[1;32m    182\u001b[0m     \u001b[0;31m# use the old-iterator because np.nditer does not handle size 0 arrays\u001b[0m\u001b[0;34m\u001b[0m\u001b[0;34m\u001b[0m\u001b[0m\n\u001b[1;32m    183\u001b[0m     \u001b[0;31m# consistently\u001b[0m\u001b[0;34m\u001b[0m\u001b[0;34m\u001b[0m\u001b[0m\n\u001b[0;32m--> 184\u001b[0;31m     \u001b[0mb\u001b[0m \u001b[0;34m=\u001b[0m \u001b[0mnp\u001b[0m\u001b[0;34m.\u001b[0m\u001b[0mbroadcast\u001b[0m\u001b[0;34m(\u001b[0m\u001b[0;34m*\u001b[0m\u001b[0margs\u001b[0m\u001b[0;34m[\u001b[0m\u001b[0;34m:\u001b[0m\u001b[0;36m32\u001b[0m\u001b[0;34m]\u001b[0m\u001b[0;34m)\u001b[0m\u001b[0;34m\u001b[0m\u001b[0m\n\u001b[0m\u001b[1;32m    185\u001b[0m     \u001b[0;31m# unfortunately, it cannot handle 32 or more arguments directly\u001b[0m\u001b[0;34m\u001b[0m\u001b[0;34m\u001b[0m\u001b[0m\n\u001b[1;32m    186\u001b[0m     \u001b[0;32mfor\u001b[0m \u001b[0mpos\u001b[0m \u001b[0;32min\u001b[0m \u001b[0mrange\u001b[0m\u001b[0;34m(\u001b[0m\u001b[0;36m32\u001b[0m\u001b[0;34m,\u001b[0m \u001b[0mlen\u001b[0m\u001b[0;34m(\u001b[0m\u001b[0margs\u001b[0m\u001b[0;34m)\u001b[0m\u001b[0;34m,\u001b[0m \u001b[0;36m31\u001b[0m\u001b[0;34m)\u001b[0m\u001b[0;34m:\u001b[0m\u001b[0;34m\u001b[0m\u001b[0m\n",
      "\u001b[0;31mValueError\u001b[0m: shape mismatch: objects cannot be broadcast to a single shape"
     ]
    },
    {
     "data": {
      "image/png": "[encoded data removed]",
      "text/plain": [
       "<matplotlib.figure.Figure at 0x1a402ecbe0>"
      ]
     },
     "metadata": {},
     "output_type": "display_data"
    }
   ],
   "source": [
    "fig, ax = plt.subplots()\n",
    "ind = np.arange(1, (len(X)+1))\n",
    "ax.bar(ind, evaluation.sort_values('coeff').coeff.values)"
   ]
  },
  {
   "cell_type": "code",
   "execution_count": 1164,
   "metadata": {},
   "outputs": [
    {
     "ename": "TypeError",
     "evalue": "unsupported operand type(s) for -: 'str' and 'float'",
     "output_type": "error",
     "traceback": [
      "\u001b[0;31m---------------------------------------------------------------------------\u001b[0m",
      "\u001b[0;31mTypeError\u001b[0m                                 Traceback (most recent call last)",
      "\u001b[0;32m<ipython-input-1164-f043ae03ef4f>\u001b[0m in \u001b[0;36m<module>\u001b[0;34m()\u001b[0m\n\u001b[1;32m      2\u001b[0m \u001b[0;31m# ax.bar()\u001b[0m\u001b[0;34m\u001b[0m\u001b[0;34m\u001b[0m\u001b[0m\n\u001b[1;32m      3\u001b[0m plt.bar(evaluation.sort_values('coeff').name.values, \n\u001b[0;32m----> 4\u001b[0;31m          evaluation.sort_values('coeff').coeff.values)\n\u001b[0m",
      "\u001b[0;32m~/anaconda3/lib/python3.6/site-packages/matplotlib/pyplot.py\u001b[0m in \u001b[0;36mbar\u001b[0;34m(*args, **kwargs)\u001b[0m\n\u001b[1;32m   2625\u001b[0m                       mplDeprecation)\n\u001b[1;32m   2626\u001b[0m     \u001b[0;32mtry\u001b[0m\u001b[0;34m:\u001b[0m\u001b[0;34m\u001b[0m\u001b[0m\n\u001b[0;32m-> 2627\u001b[0;31m         \u001b[0mret\u001b[0m \u001b[0;34m=\u001b[0m \u001b[0max\u001b[0m\u001b[0;34m.\u001b[0m\u001b[0mbar\u001b[0m\u001b[0;34m(\u001b[0m\u001b[0;34m*\u001b[0m\u001b[0margs\u001b[0m\u001b[0;34m,\u001b[0m \u001b[0;34m**\u001b[0m\u001b[0mkwargs\u001b[0m\u001b[0;34m)\u001b[0m\u001b[0;34m\u001b[0m\u001b[0m\n\u001b[0m\u001b[1;32m   2628\u001b[0m     \u001b[0;32mfinally\u001b[0m\u001b[0;34m:\u001b[0m\u001b[0;34m\u001b[0m\u001b[0m\n\u001b[1;32m   2629\u001b[0m         \u001b[0max\u001b[0m\u001b[0;34m.\u001b[0m\u001b[0m_hold\u001b[0m \u001b[0;34m=\u001b[0m \u001b[0mwashold\u001b[0m\u001b[0;34m\u001b[0m\u001b[0m\n",
      "\u001b[0;32m~/anaconda3/lib/python3.6/site-packages/matplotlib/__init__.py\u001b[0m in \u001b[0;36minner\u001b[0;34m(ax, *args, **kwargs)\u001b[0m\n\u001b[1;32m   1708\u001b[0m                     warnings.warn(msg % (label_namer, func.__name__),\n\u001b[1;32m   1709\u001b[0m                                   RuntimeWarning, stacklevel=2)\n\u001b[0;32m-> 1710\u001b[0;31m             \u001b[0;32mreturn\u001b[0m \u001b[0mfunc\u001b[0m\u001b[0;34m(\u001b[0m\u001b[0max\u001b[0m\u001b[0;34m,\u001b[0m \u001b[0;34m*\u001b[0m\u001b[0margs\u001b[0m\u001b[0;34m,\u001b[0m \u001b[0;34m**\u001b[0m\u001b[0mkwargs\u001b[0m\u001b[0;34m)\u001b[0m\u001b[0;34m\u001b[0m\u001b[0m\n\u001b[0m\u001b[1;32m   1711\u001b[0m         \u001b[0mpre_doc\u001b[0m \u001b[0;34m=\u001b[0m \u001b[0minner\u001b[0m\u001b[0;34m.\u001b[0m\u001b[0m__doc__\u001b[0m\u001b[0;34m\u001b[0m\u001b[0m\n\u001b[1;32m   1712\u001b[0m         \u001b[0;32mif\u001b[0m \u001b[0mpre_doc\u001b[0m \u001b[0;32mis\u001b[0m \u001b[0;32mNone\u001b[0m\u001b[0;34m:\u001b[0m\u001b[0;34m\u001b[0m\u001b[0m\n",
      "\u001b[0;32m~/anaconda3/lib/python3.6/site-packages/matplotlib/axes/_axes.py\u001b[0m in \u001b[0;36mbar\u001b[0;34m(self, *args, **kwargs)\u001b[0m\n\u001b[1;32m   2127\u001b[0m         \u001b[0;32mif\u001b[0m \u001b[0malign\u001b[0m \u001b[0;34m==\u001b[0m \u001b[0;34m'center'\u001b[0m\u001b[0;34m:\u001b[0m\u001b[0;34m\u001b[0m\u001b[0m\n\u001b[1;32m   2128\u001b[0m             \u001b[0;32mif\u001b[0m \u001b[0morientation\u001b[0m \u001b[0;34m==\u001b[0m \u001b[0;34m'vertical'\u001b[0m\u001b[0;34m:\u001b[0m\u001b[0;34m\u001b[0m\u001b[0m\n\u001b[0;32m-> 2129\u001b[0;31m                 \u001b[0mleft\u001b[0m \u001b[0;34m=\u001b[0m \u001b[0mx\u001b[0m \u001b[0;34m-\u001b[0m \u001b[0mwidth\u001b[0m \u001b[0;34m/\u001b[0m \u001b[0;36m2\u001b[0m\u001b[0;34m\u001b[0m\u001b[0m\n\u001b[0m\u001b[1;32m   2130\u001b[0m                 \u001b[0mbottom\u001b[0m \u001b[0;34m=\u001b[0m \u001b[0my\u001b[0m\u001b[0;34m\u001b[0m\u001b[0m\n\u001b[1;32m   2131\u001b[0m             \u001b[0;32melif\u001b[0m \u001b[0morientation\u001b[0m \u001b[0;34m==\u001b[0m \u001b[0;34m'horizontal'\u001b[0m\u001b[0;34m:\u001b[0m\u001b[0;34m\u001b[0m\u001b[0m\n",
      "\u001b[0;31mTypeError\u001b[0m: unsupported operand type(s) for -: 'str' and 'float'"
     ]
    },
    {
     "data": {
      "image/png": "[encoded data removed]",
      "text/plain": [
       "<matplotlib.figure.Figure at 0x1a3e771048>"
      ]
     },
     "metadata": {},
     "output_type": "display_data"
    }
   ],
   "source": [
    "# fig, ax = plt.subplots()\n",
    "# ax.bar()\n",
    "plt.bar(evaluation.sort_values('coeff').name.values, \n",
    "         evaluation.sort_values('coeff').coeff.values)"
   ]
  },
  {
   "cell_type": "markdown",
   "metadata": {},
   "source": [
    "### Time vs Num Mosquitos\n",
    "Get plots that show how number of mosquitos change with respect to time for traps that are near a particular spray event"
   ]
  },
  {
   "cell_type": "code",
   "execution_count": 895,
   "metadata": {},
   "outputs": [
    {
     "data": {
      "text/html": [
       "<div>\n",
       "<style>\n",
       "    .dataframe thead tr:only-child th {\n",
       "        text-align: right;\n",
       "    }\n",
       "\n",
       "    .dataframe thead th {\n",
       "        text-align: left;\n",
       "    }\n",
       "\n",
       "    .dataframe tbody tr th {\n",
       "        vertical-align: top;\n",
       "    }\n",
       "</style>\n",
       "<table border=\"1\" class=\"dataframe\">\n",
       "  <thead>\n",
       "    <tr style=\"text-align: right;\">\n",
       "      <th></th>\n",
       "      <th>Latitude</th>\n",
       "      <th>Longitude</th>\n",
       "      <th>Tavg</th>\n",
       "      <th>Depart</th>\n",
       "      <th>DewPoint</th>\n",
       "      <th>Heat</th>\n",
       "      <th>PrecipTotal</th>\n",
       "      <th>StnPressure</th>\n",
       "      <th>ResultSpeed</th>\n",
       "      <th>ResultDir</th>\n",
       "      <th>...</th>\n",
       "      <th>CULEX SALINARIUS</th>\n",
       "      <th>CULEX TARSALIS</th>\n",
       "      <th>CULEX TERRITANS</th>\n",
       "      <th>5</th>\n",
       "      <th>6</th>\n",
       "      <th>7</th>\n",
       "      <th>8</th>\n",
       "      <th>9</th>\n",
       "      <th>distances</th>\n",
       "      <th>precips</th>\n",
       "    </tr>\n",
       "  </thead>\n",
       "  <tbody>\n",
       "    <tr>\n",
       "      <th>0</th>\n",
       "      <td>41.954690</td>\n",
       "      <td>-87.800991</td>\n",
       "      <td>74.0</td>\n",
       "      <td>10.0</td>\n",
       "      <td>58</td>\n",
       "      <td>0.0</td>\n",
       "      <td>0.0</td>\n",
       "      <td>29.39</td>\n",
       "      <td>5.8</td>\n",
       "      <td>18</td>\n",
       "      <td>...</td>\n",
       "      <td>0</td>\n",
       "      <td>0</td>\n",
       "      <td>0</td>\n",
       "      <td>1</td>\n",
       "      <td>0</td>\n",
       "      <td>0</td>\n",
       "      <td>0</td>\n",
       "      <td>0</td>\n",
       "      <td>0.019174</td>\n",
       "      <td>1.792</td>\n",
       "    </tr>\n",
       "    <tr>\n",
       "      <th>1</th>\n",
       "      <td>41.954690</td>\n",
       "      <td>-87.800991</td>\n",
       "      <td>74.0</td>\n",
       "      <td>10.0</td>\n",
       "      <td>58</td>\n",
       "      <td>0.0</td>\n",
       "      <td>0.0</td>\n",
       "      <td>29.39</td>\n",
       "      <td>5.8</td>\n",
       "      <td>18</td>\n",
       "      <td>...</td>\n",
       "      <td>0</td>\n",
       "      <td>0</td>\n",
       "      <td>0</td>\n",
       "      <td>1</td>\n",
       "      <td>0</td>\n",
       "      <td>0</td>\n",
       "      <td>0</td>\n",
       "      <td>0</td>\n",
       "      <td>0.019174</td>\n",
       "      <td>1.792</td>\n",
       "    </tr>\n",
       "    <tr>\n",
       "      <th>2</th>\n",
       "      <td>41.994991</td>\n",
       "      <td>-87.769279</td>\n",
       "      <td>74.0</td>\n",
       "      <td>10.0</td>\n",
       "      <td>58</td>\n",
       "      <td>0.0</td>\n",
       "      <td>0.0</td>\n",
       "      <td>29.39</td>\n",
       "      <td>5.8</td>\n",
       "      <td>18</td>\n",
       "      <td>...</td>\n",
       "      <td>0</td>\n",
       "      <td>0</td>\n",
       "      <td>0</td>\n",
       "      <td>1</td>\n",
       "      <td>0</td>\n",
       "      <td>0</td>\n",
       "      <td>0</td>\n",
       "      <td>0</td>\n",
       "      <td>0.016445</td>\n",
       "      <td>1.792</td>\n",
       "    </tr>\n",
       "    <tr>\n",
       "      <th>3</th>\n",
       "      <td>41.974089</td>\n",
       "      <td>-87.824812</td>\n",
       "      <td>74.0</td>\n",
       "      <td>10.0</td>\n",
       "      <td>58</td>\n",
       "      <td>0.0</td>\n",
       "      <td>0.0</td>\n",
       "      <td>29.39</td>\n",
       "      <td>5.8</td>\n",
       "      <td>18</td>\n",
       "      <td>...</td>\n",
       "      <td>0</td>\n",
       "      <td>0</td>\n",
       "      <td>0</td>\n",
       "      <td>1</td>\n",
       "      <td>0</td>\n",
       "      <td>0</td>\n",
       "      <td>0</td>\n",
       "      <td>0</td>\n",
       "      <td>0.418028</td>\n",
       "      <td>1.792</td>\n",
       "    </tr>\n",
       "    <tr>\n",
       "      <th>4</th>\n",
       "      <td>41.974089</td>\n",
       "      <td>-87.824812</td>\n",
       "      <td>74.0</td>\n",
       "      <td>10.0</td>\n",
       "      <td>58</td>\n",
       "      <td>0.0</td>\n",
       "      <td>0.0</td>\n",
       "      <td>29.39</td>\n",
       "      <td>5.8</td>\n",
       "      <td>18</td>\n",
       "      <td>...</td>\n",
       "      <td>0</td>\n",
       "      <td>0</td>\n",
       "      <td>0</td>\n",
       "      <td>1</td>\n",
       "      <td>0</td>\n",
       "      <td>0</td>\n",
       "      <td>0</td>\n",
       "      <td>0</td>\n",
       "      <td>0.418028</td>\n",
       "      <td>1.792</td>\n",
       "    </tr>\n",
       "  </tbody>\n",
       "</table>\n",
       "<p>5 rows × 25 columns</p>\n",
       "</div>"
      ],
      "text/plain": [
       "    Latitude  Longitude  Tavg  Depart  DewPoint  Heat  PrecipTotal  \\\n",
       "0  41.954690 -87.800991  74.0    10.0        58   0.0          0.0   \n",
       "1  41.954690 -87.800991  74.0    10.0        58   0.0          0.0   \n",
       "2  41.994991 -87.769279  74.0    10.0        58   0.0          0.0   \n",
       "3  41.974089 -87.824812  74.0    10.0        58   0.0          0.0   \n",
       "4  41.974089 -87.824812  74.0    10.0        58   0.0          0.0   \n",
       "\n",
       "   StnPressure  ResultSpeed  ResultDir   ...     CULEX SALINARIUS  \\\n",
       "0        29.39          5.8         18   ...                    0   \n",
       "1        29.39          5.8         18   ...                    0   \n",
       "2        29.39          5.8         18   ...                    0   \n",
       "3        29.39          5.8         18   ...                    0   \n",
       "4        29.39          5.8         18   ...                    0   \n",
       "\n",
       "   CULEX TARSALIS  CULEX TERRITANS  5  6  7  8  9  distances  precips  \n",
       "0               0                0  1  0  0  0  0   0.019174    1.792  \n",
       "1               0                0  1  0  0  0  0   0.019174    1.792  \n",
       "2               0                0  1  0  0  0  0   0.016445    1.792  \n",
       "3               0                0  1  0  0  0  0   0.418028    1.792  \n",
       "4               0                0  1  0  0  0  0   0.418028    1.792  \n",
       "\n",
       "[5 rows x 25 columns]"
      ]
     },
     "execution_count": 895,
     "metadata": {},
     "output_type": "execute_result"
    }
   ],
   "source": [
    "X.head()"
   ]
  },
  {
   "cell_type": "code",
   "execution_count": 898,
   "metadata": {},
   "outputs": [],
   "source": [
    "train['distances'] = X['distances']"
   ]
  },
  {
   "cell_type": "code",
   "execution_count": 903,
   "metadata": {
    "collapsed": true
   },
   "outputs": [
    {
     "ename": "KeyError",
     "evalue": "'distanecs'",
     "output_type": "error",
     "traceback": [
      "\u001b[0;31m---------------------------------------------------------------------------\u001b[0m",
      "\u001b[0;31mKeyError\u001b[0m                                  Traceback (most recent call last)",
      "\u001b[0;32m~/anaconda3/lib/python3.6/site-packages/pandas/core/indexes/base.py\u001b[0m in \u001b[0;36mget_loc\u001b[0;34m(self, key, method, tolerance)\u001b[0m\n\u001b[1;32m   2441\u001b[0m             \u001b[0;32mtry\u001b[0m\u001b[0;34m:\u001b[0m\u001b[0;34m\u001b[0m\u001b[0m\n\u001b[0;32m-> 2442\u001b[0;31m                 \u001b[0;32mreturn\u001b[0m \u001b[0mself\u001b[0m\u001b[0;34m.\u001b[0m\u001b[0m_engine\u001b[0m\u001b[0;34m.\u001b[0m\u001b[0mget_loc\u001b[0m\u001b[0;34m(\u001b[0m\u001b[0mkey\u001b[0m\u001b[0;34m)\u001b[0m\u001b[0;34m\u001b[0m\u001b[0m\n\u001b[0m\u001b[1;32m   2443\u001b[0m             \u001b[0;32mexcept\u001b[0m \u001b[0mKeyError\u001b[0m\u001b[0;34m:\u001b[0m\u001b[0;34m\u001b[0m\u001b[0m\n",
      "\u001b[0;32mpandas/_libs/index.pyx\u001b[0m in \u001b[0;36mpandas._libs.index.IndexEngine.get_loc\u001b[0;34m()\u001b[0m\n",
      "\u001b[0;32mpandas/_libs/index.pyx\u001b[0m in \u001b[0;36mpandas._libs.index.IndexEngine.get_loc\u001b[0;34m()\u001b[0m\n",
      "\u001b[0;32mpandas/_libs/hashtable_class_helper.pxi\u001b[0m in \u001b[0;36mpandas._libs.hashtable.PyObjectHashTable.get_item\u001b[0;34m()\u001b[0m\n",
      "\u001b[0;32mpandas/_libs/hashtable_class_helper.pxi\u001b[0m in \u001b[0;36mpandas._libs.hashtable.PyObjectHashTable.get_item\u001b[0;34m()\u001b[0m\n",
      "\u001b[0;31mKeyError\u001b[0m: 'distanecs'",
      "\nDuring handling of the above exception, another exception occurred:\n",
      "\u001b[0;31mKeyError\u001b[0m                                  Traceback (most recent call last)",
      "\u001b[0;32m<ipython-input-903-128bfa4b6ece>\u001b[0m in \u001b[0;36m<module>\u001b[0;34m()\u001b[0m\n\u001b[0;32m----> 1\u001b[0;31m \u001b[0mtrain\u001b[0m\u001b[0;34m[\u001b[0m\u001b[0;34m[\u001b[0m\u001b[0;34m'Trap'\u001b[0m\u001b[0;34m,\u001b[0m \u001b[0;34m'distances'\u001b[0m\u001b[0;34m]\u001b[0m\u001b[0;34m]\u001b[0m\u001b[0;34m.\u001b[0m\u001b[0msort_values\u001b[0m\u001b[0;34m(\u001b[0m\u001b[0mby\u001b[0m\u001b[0;34m=\u001b[0m\u001b[0;34m'distanecs'\u001b[0m\u001b[0;34m)\u001b[0m\u001b[0;34m.\u001b[0m\u001b[0mhead\u001b[0m\u001b[0;34m(\u001b[0m\u001b[0;36m100\u001b[0m\u001b[0;34m)\u001b[0m\u001b[0;34m\u001b[0m\u001b[0m\n\u001b[0m",
      "\u001b[0;32m~/anaconda3/lib/python3.6/site-packages/pandas/core/frame.py\u001b[0m in \u001b[0;36msort_values\u001b[0;34m(self, by, axis, ascending, inplace, kind, na_position)\u001b[0m\n\u001b[1;32m   3184\u001b[0m \u001b[0;34m\u001b[0m\u001b[0m\n\u001b[1;32m   3185\u001b[0m             \u001b[0mby\u001b[0m \u001b[0;34m=\u001b[0m \u001b[0mby\u001b[0m\u001b[0;34m[\u001b[0m\u001b[0;36m0\u001b[0m\u001b[0;34m]\u001b[0m\u001b[0;34m\u001b[0m\u001b[0m\n\u001b[0;32m-> 3186\u001b[0;31m             \u001b[0mk\u001b[0m \u001b[0;34m=\u001b[0m \u001b[0mself\u001b[0m\u001b[0;34m.\u001b[0m\u001b[0mxs\u001b[0m\u001b[0;34m(\u001b[0m\u001b[0mby\u001b[0m\u001b[0;34m,\u001b[0m \u001b[0maxis\u001b[0m\u001b[0;34m=\u001b[0m\u001b[0mother_axis\u001b[0m\u001b[0;34m)\u001b[0m\u001b[0;34m.\u001b[0m\u001b[0mvalues\u001b[0m\u001b[0;34m\u001b[0m\u001b[0m\n\u001b[0m\u001b[1;32m   3187\u001b[0m             \u001b[0;32mif\u001b[0m \u001b[0mk\u001b[0m\u001b[0;34m.\u001b[0m\u001b[0mndim\u001b[0m \u001b[0;34m==\u001b[0m \u001b[0;36m2\u001b[0m\u001b[0;34m:\u001b[0m\u001b[0;34m\u001b[0m\u001b[0m\n\u001b[1;32m   3188\u001b[0m \u001b[0;34m\u001b[0m\u001b[0m\n",
      "\u001b[0;32m~/anaconda3/lib/python3.6/site-packages/pandas/core/generic.py\u001b[0m in \u001b[0;36mxs\u001b[0;34m(self, key, axis, level, drop_level)\u001b[0m\n\u001b[1;32m   2021\u001b[0m \u001b[0;34m\u001b[0m\u001b[0m\n\u001b[1;32m   2022\u001b[0m         \u001b[0;32mif\u001b[0m \u001b[0maxis\u001b[0m \u001b[0;34m==\u001b[0m \u001b[0;36m1\u001b[0m\u001b[0;34m:\u001b[0m\u001b[0;34m\u001b[0m\u001b[0m\n\u001b[0;32m-> 2023\u001b[0;31m             \u001b[0;32mreturn\u001b[0m \u001b[0mself\u001b[0m\u001b[0;34m[\u001b[0m\u001b[0mkey\u001b[0m\u001b[0;34m]\u001b[0m\u001b[0;34m\u001b[0m\u001b[0m\n\u001b[0m\u001b[1;32m   2024\u001b[0m \u001b[0;34m\u001b[0m\u001b[0m\n\u001b[1;32m   2025\u001b[0m         \u001b[0mself\u001b[0m\u001b[0;34m.\u001b[0m\u001b[0m_consolidate_inplace\u001b[0m\u001b[0;34m(\u001b[0m\u001b[0;34m)\u001b[0m\u001b[0;34m\u001b[0m\u001b[0m\n",
      "\u001b[0;32m~/anaconda3/lib/python3.6/site-packages/pandas/core/frame.py\u001b[0m in \u001b[0;36m__getitem__\u001b[0;34m(self, key)\u001b[0m\n\u001b[1;32m   1962\u001b[0m             \u001b[0;32mreturn\u001b[0m \u001b[0mself\u001b[0m\u001b[0;34m.\u001b[0m\u001b[0m_getitem_multilevel\u001b[0m\u001b[0;34m(\u001b[0m\u001b[0mkey\u001b[0m\u001b[0;34m)\u001b[0m\u001b[0;34m\u001b[0m\u001b[0m\n\u001b[1;32m   1963\u001b[0m         \u001b[0;32melse\u001b[0m\u001b[0;34m:\u001b[0m\u001b[0;34m\u001b[0m\u001b[0m\n\u001b[0;32m-> 1964\u001b[0;31m             \u001b[0;32mreturn\u001b[0m \u001b[0mself\u001b[0m\u001b[0;34m.\u001b[0m\u001b[0m_getitem_column\u001b[0m\u001b[0;34m(\u001b[0m\u001b[0mkey\u001b[0m\u001b[0;34m)\u001b[0m\u001b[0;34m\u001b[0m\u001b[0m\n\u001b[0m\u001b[1;32m   1965\u001b[0m \u001b[0;34m\u001b[0m\u001b[0m\n\u001b[1;32m   1966\u001b[0m     \u001b[0;32mdef\u001b[0m \u001b[0m_getitem_column\u001b[0m\u001b[0;34m(\u001b[0m\u001b[0mself\u001b[0m\u001b[0;34m,\u001b[0m \u001b[0mkey\u001b[0m\u001b[0;34m)\u001b[0m\u001b[0;34m:\u001b[0m\u001b[0;34m\u001b[0m\u001b[0m\n",
      "\u001b[0;32m~/anaconda3/lib/python3.6/site-packages/pandas/core/frame.py\u001b[0m in \u001b[0;36m_getitem_column\u001b[0;34m(self, key)\u001b[0m\n\u001b[1;32m   1969\u001b[0m         \u001b[0;31m# get column\u001b[0m\u001b[0;34m\u001b[0m\u001b[0;34m\u001b[0m\u001b[0m\n\u001b[1;32m   1970\u001b[0m         \u001b[0;32mif\u001b[0m \u001b[0mself\u001b[0m\u001b[0;34m.\u001b[0m\u001b[0mcolumns\u001b[0m\u001b[0;34m.\u001b[0m\u001b[0mis_unique\u001b[0m\u001b[0;34m:\u001b[0m\u001b[0;34m\u001b[0m\u001b[0m\n\u001b[0;32m-> 1971\u001b[0;31m             \u001b[0;32mreturn\u001b[0m \u001b[0mself\u001b[0m\u001b[0;34m.\u001b[0m\u001b[0m_get_item_cache\u001b[0m\u001b[0;34m(\u001b[0m\u001b[0mkey\u001b[0m\u001b[0;34m)\u001b[0m\u001b[0;34m\u001b[0m\u001b[0m\n\u001b[0m\u001b[1;32m   1972\u001b[0m \u001b[0;34m\u001b[0m\u001b[0m\n\u001b[1;32m   1973\u001b[0m         \u001b[0;31m# duplicate columns & possible reduce dimensionality\u001b[0m\u001b[0;34m\u001b[0m\u001b[0;34m\u001b[0m\u001b[0m\n",
      "\u001b[0;32m~/anaconda3/lib/python3.6/site-packages/pandas/core/generic.py\u001b[0m in \u001b[0;36m_get_item_cache\u001b[0;34m(self, item)\u001b[0m\n\u001b[1;32m   1643\u001b[0m         \u001b[0mres\u001b[0m \u001b[0;34m=\u001b[0m \u001b[0mcache\u001b[0m\u001b[0;34m.\u001b[0m\u001b[0mget\u001b[0m\u001b[0;34m(\u001b[0m\u001b[0mitem\u001b[0m\u001b[0;34m)\u001b[0m\u001b[0;34m\u001b[0m\u001b[0m\n\u001b[1;32m   1644\u001b[0m         \u001b[0;32mif\u001b[0m \u001b[0mres\u001b[0m \u001b[0;32mis\u001b[0m \u001b[0;32mNone\u001b[0m\u001b[0;34m:\u001b[0m\u001b[0;34m\u001b[0m\u001b[0m\n\u001b[0;32m-> 1645\u001b[0;31m             \u001b[0mvalues\u001b[0m \u001b[0;34m=\u001b[0m \u001b[0mself\u001b[0m\u001b[0;34m.\u001b[0m\u001b[0m_data\u001b[0m\u001b[0;34m.\u001b[0m\u001b[0mget\u001b[0m\u001b[0;34m(\u001b[0m\u001b[0mitem\u001b[0m\u001b[0;34m)\u001b[0m\u001b[0;34m\u001b[0m\u001b[0m\n\u001b[0m\u001b[1;32m   1646\u001b[0m             \u001b[0mres\u001b[0m \u001b[0;34m=\u001b[0m \u001b[0mself\u001b[0m\u001b[0;34m.\u001b[0m\u001b[0m_box_item_values\u001b[0m\u001b[0;34m(\u001b[0m\u001b[0mitem\u001b[0m\u001b[0;34m,\u001b[0m \u001b[0mvalues\u001b[0m\u001b[0;34m)\u001b[0m\u001b[0;34m\u001b[0m\u001b[0m\n\u001b[1;32m   1647\u001b[0m             \u001b[0mcache\u001b[0m\u001b[0;34m[\u001b[0m\u001b[0mitem\u001b[0m\u001b[0;34m]\u001b[0m \u001b[0;34m=\u001b[0m \u001b[0mres\u001b[0m\u001b[0;34m\u001b[0m\u001b[0m\n",
      "\u001b[0;32m~/anaconda3/lib/python3.6/site-packages/pandas/core/internals.py\u001b[0m in \u001b[0;36mget\u001b[0;34m(self, item, fastpath)\u001b[0m\n\u001b[1;32m   3588\u001b[0m \u001b[0;34m\u001b[0m\u001b[0m\n\u001b[1;32m   3589\u001b[0m             \u001b[0;32mif\u001b[0m \u001b[0;32mnot\u001b[0m \u001b[0misnull\u001b[0m\u001b[0;34m(\u001b[0m\u001b[0mitem\u001b[0m\u001b[0;34m)\u001b[0m\u001b[0;34m:\u001b[0m\u001b[0;34m\u001b[0m\u001b[0m\n\u001b[0;32m-> 3590\u001b[0;31m                 \u001b[0mloc\u001b[0m \u001b[0;34m=\u001b[0m \u001b[0mself\u001b[0m\u001b[0;34m.\u001b[0m\u001b[0mitems\u001b[0m\u001b[0;34m.\u001b[0m\u001b[0mget_loc\u001b[0m\u001b[0;34m(\u001b[0m\u001b[0mitem\u001b[0m\u001b[0;34m)\u001b[0m\u001b[0;34m\u001b[0m\u001b[0m\n\u001b[0m\u001b[1;32m   3591\u001b[0m             \u001b[0;32melse\u001b[0m\u001b[0;34m:\u001b[0m\u001b[0;34m\u001b[0m\u001b[0m\n\u001b[1;32m   3592\u001b[0m                 \u001b[0mindexer\u001b[0m \u001b[0;34m=\u001b[0m \u001b[0mnp\u001b[0m\u001b[0;34m.\u001b[0m\u001b[0marange\u001b[0m\u001b[0;34m(\u001b[0m\u001b[0mlen\u001b[0m\u001b[0;34m(\u001b[0m\u001b[0mself\u001b[0m\u001b[0;34m.\u001b[0m\u001b[0mitems\u001b[0m\u001b[0;34m)\u001b[0m\u001b[0;34m)\u001b[0m\u001b[0;34m[\u001b[0m\u001b[0misnull\u001b[0m\u001b[0;34m(\u001b[0m\u001b[0mself\u001b[0m\u001b[0;34m.\u001b[0m\u001b[0mitems\u001b[0m\u001b[0;34m)\u001b[0m\u001b[0;34m]\u001b[0m\u001b[0;34m\u001b[0m\u001b[0m\n",
      "\u001b[0;32m~/anaconda3/lib/python3.6/site-packages/pandas/core/indexes/base.py\u001b[0m in \u001b[0;36mget_loc\u001b[0;34m(self, key, method, tolerance)\u001b[0m\n\u001b[1;32m   2442\u001b[0m                 \u001b[0;32mreturn\u001b[0m \u001b[0mself\u001b[0m\u001b[0;34m.\u001b[0m\u001b[0m_engine\u001b[0m\u001b[0;34m.\u001b[0m\u001b[0mget_loc\u001b[0m\u001b[0;34m(\u001b[0m\u001b[0mkey\u001b[0m\u001b[0;34m)\u001b[0m\u001b[0;34m\u001b[0m\u001b[0m\n\u001b[1;32m   2443\u001b[0m             \u001b[0;32mexcept\u001b[0m \u001b[0mKeyError\u001b[0m\u001b[0;34m:\u001b[0m\u001b[0;34m\u001b[0m\u001b[0m\n\u001b[0;32m-> 2444\u001b[0;31m                 \u001b[0;32mreturn\u001b[0m \u001b[0mself\u001b[0m\u001b[0;34m.\u001b[0m\u001b[0m_engine\u001b[0m\u001b[0;34m.\u001b[0m\u001b[0mget_loc\u001b[0m\u001b[0;34m(\u001b[0m\u001b[0mself\u001b[0m\u001b[0;34m.\u001b[0m\u001b[0m_maybe_cast_indexer\u001b[0m\u001b[0;34m(\u001b[0m\u001b[0mkey\u001b[0m\u001b[0;34m)\u001b[0m\u001b[0;34m)\u001b[0m\u001b[0;34m\u001b[0m\u001b[0m\n\u001b[0m\u001b[1;32m   2445\u001b[0m \u001b[0;34m\u001b[0m\u001b[0m\n\u001b[1;32m   2446\u001b[0m         \u001b[0mindexer\u001b[0m \u001b[0;34m=\u001b[0m \u001b[0mself\u001b[0m\u001b[0;34m.\u001b[0m\u001b[0mget_indexer\u001b[0m\u001b[0;34m(\u001b[0m\u001b[0;34m[\u001b[0m\u001b[0mkey\u001b[0m\u001b[0;34m]\u001b[0m\u001b[0;34m,\u001b[0m \u001b[0mmethod\u001b[0m\u001b[0;34m=\u001b[0m\u001b[0mmethod\u001b[0m\u001b[0;34m,\u001b[0m \u001b[0mtolerance\u001b[0m\u001b[0;34m=\u001b[0m\u001b[0mtolerance\u001b[0m\u001b[0;34m)\u001b[0m\u001b[0;34m\u001b[0m\u001b[0m\n",
      "\u001b[0;32mpandas/_libs/index.pyx\u001b[0m in \u001b[0;36mpandas._libs.index.IndexEngine.get_loc\u001b[0;34m()\u001b[0m\n",
      "\u001b[0;32mpandas/_libs/index.pyx\u001b[0m in \u001b[0;36mpandas._libs.index.IndexEngine.get_loc\u001b[0;34m()\u001b[0m\n",
      "\u001b[0;32mpandas/_libs/hashtable_class_helper.pxi\u001b[0m in \u001b[0;36mpandas._libs.hashtable.PyObjectHashTable.get_item\u001b[0;34m()\u001b[0m\n",
      "\u001b[0;32mpandas/_libs/hashtable_class_helper.pxi\u001b[0m in \u001b[0;36mpandas._libs.hashtable.PyObjectHashTable.get_item\u001b[0;34m()\u001b[0m\n",
      "\u001b[0;31mKeyError\u001b[0m: 'distanecs'"
     ]
    }
   ],
   "source": [
    "train[['Trap', 'distances']].sort_values(by='distanecs').head(100)"
   ]
  },
  {
   "cell_type": "code",
   "execution_count": 906,
   "metadata": {},
   "outputs": [],
   "source": [
    "X.to_csv('./X.csv')"
   ]
  },
  {
   "cell_type": "code",
   "execution_count": 911,
   "metadata": {
    "collapsed": true
   },
   "outputs": [],
   "source": [
    "ts1 = pd.to_datetime('2013-01-01')"
   ]
  },
  {
   "cell_type": "code",
   "execution_count": 914,
   "metadata": {},
   "outputs": [
    {
     "data": {
      "text/plain": [
       "Timestamp('2013-01-01 00:00:00')"
      ]
     },
     "execution_count": 914,
     "metadata": {},
     "output_type": "execute_result"
    }
   ],
   "source": [
    "ts1"
   ]
  },
  {
   "cell_type": "code",
   "execution_count": 916,
   "metadata": {},
   "outputs": [],
   "source": [
    "train['Date'] = pd.to_datetime(train['Date'])"
   ]
  },
  {
   "cell_type": "code",
   "execution_count": 923,
   "metadata": {},
   "outputs": [
    {
     "data": {
      "text/plain": [
       "Text(0.5,1,'Histogram of Spraying')"
      ]
     },
     "execution_count": 923,
     "metadata": {},
     "output_type": "execute_result"
    },
    {
     "data": {
      "image/png": "[encoded data removed]",
      "text/plain": [
       "<matplotlib.figure.Figure at 0x1a38dd4198>"
      ]
     },
     "metadata": {},
     "output_type": "display_data"
    }
   ],
   "source": [
    "train.distances.sort_values().hist()\n",
    "plt.xlabel('Distance to nearest Spray (km)')\n",
    "plt.ylabel('Frequency')\n",
    "plt.title('Histogram of Spraying')"
   ]
  },
  {
   "cell_type": "code",
   "execution_count": 941,
   "metadata": {},
   "outputs": [
    {
     "data": {
      "text/plain": [
       "<matplotlib.axes._subplots.AxesSubplot at 0x1a3c8714e0>"
      ]
     },
     "execution_count": 941,
     "metadata": {},
     "output_type": "execute_result"
    },
    {
     "data": {
      "image/png": "[encoded data removed]",
      "text/plain": [
       "<matplotlib.figure.Figure at 0x1a3c8d8d68>"
      ]
     },
     "metadata": {},
     "output_type": "display_data"
    }
   ],
   "source": [
    "train.boxplot('distances', figsize=(6, 2), vert=False)\n"
   ]
  },
  {
   "cell_type": "code",
   "execution_count": 954,
   "metadata": {},
   "outputs": [],
   "source": [
    "spray['Date'] = pd.to_datetime(spray['Date'])"
   ]
  },
  {
   "cell_type": "markdown",
   "metadata": {},
   "source": [
    "### Anothe question arose: do we spray in same locations every time?\n",
    "\n",
    "What I'd like to do, is check how number of mosquitos changed with respect to time for traps that are in the vicinity of a spray event, versus traps that are further away from a spray event. Then see what the correlation is between distance and avg number of mosquitos for the next couple days. "
   ]
  },
  {
   "cell_type": "code",
   "execution_count": 961,
   "metadata": {},
   "outputs": [
    {
     "data": {
      "text/plain": [
       "Date\n",
       "2013-06-07     4.200000\n",
       "2013-06-14    12.428571\n",
       "2013-06-21    12.153846\n",
       "2013-06-27    13.333333\n",
       "2013-06-28    21.600000\n",
       "2013-07-08    20.666667\n",
       "2013-07-12    28.950000\n",
       "2013-07-19    27.958333\n",
       "2013-07-25    20.235294\n",
       "2013-08-01    16.777778\n",
       "2013-08-08    22.782609\n",
       "2013-08-15    14.666667\n",
       "2013-08-22    19.300000\n",
       "2013-08-29    25.866667\n",
       "2013-09-06    15.285714\n",
       "2013-09-12    18.923077\n",
       "2013-09-19    11.909091\n",
       "2013-09-26     7.900000\n",
       "Name: NumMosquitos, dtype: float64"
      ]
     },
     "execution_count": 961,
     "metadata": {},
     "output_type": "execute_result"
    }
   ],
   "source": [
    "# Dates of collections\n",
    "train[(train['Date'] > ts1) & (train['distances'] < .01)].groupby('Date').NumMosquitos.mean()"
   ]
  },
  {
   "cell_type": "code",
   "execution_count": 964,
   "metadata": {},
   "outputs": [
    {
     "data": {
      "text/plain": [
       "2209    2013-07-17\n",
       "4411    2013-07-25\n",
       "6018    2013-08-08\n",
       "7213    2013-08-15\n",
       "9881    2013-08-16\n",
       "10022   2013-08-22\n",
       "11609   2013-08-29\n",
       "13911   2013-09-05\n",
       "Name: Date, dtype: datetime64[ns]"
      ]
     },
     "execution_count": 964,
     "metadata": {},
     "output_type": "execute_result"
    }
   ],
   "source": [
    "# 2013 spray dates\n",
    "spray[spray['Date'] > pd.to_datetime('2013-07-1')].Date.drop_duplicates()"
   ]
  },
  {
   "cell_type": "code",
   "execution_count": 994,
   "metadata": {},
   "outputs": [
    {
     "name": "stdout",
     "output_type": "stream",
     "text": [
      "2209\n",
      "4411\n",
      "6018\n",
      "7213\n",
      "9881\n",
      "10022\n",
      "11609\n",
      "13911\n"
     ]
    }
   ],
   "source": [
    "\n",
    "for date in spray[spray['Date'] > pd.to_datetime('2013-07-1')].Date.drop_duplicates().index.values:\n",
    "    print(date)"
   ]
  },
  {
   "cell_type": "code",
   "execution_count": 967,
   "metadata": {
    "collapsed": true
   },
   "outputs": [],
   "source": [
    "dates_of_sprays = {}\n",
    "for date in spray[spray['Date'] > pd.to_datetime('2013-07-1')].Date.drop_duplicates().index.values:\n",
    "spray[spray['Date'] > pd.to_datetime('2013-07-1')].Date.drop_duplicates():\n",
    "    dates_of_sprays[date] = spray_locs()"
   ]
  },
  {
   "cell_type": "code",
   "execution_count": 993,
   "metadata": {
    "scrolled": true
   },
   "outputs": [
    {
     "data": {
      "text/html": [
       "<div>\n",
       "<style>\n",
       "    .dataframe thead tr:only-child th {\n",
       "        text-align: right;\n",
       "    }\n",
       "\n",
       "    .dataframe thead th {\n",
       "        text-align: left;\n",
       "    }\n",
       "\n",
       "    .dataframe tbody tr th {\n",
       "        vertical-align: top;\n",
       "    }\n",
       "</style>\n",
       "<table border=\"1\" class=\"dataframe\">\n",
       "  <thead>\n",
       "    <tr style=\"text-align: right;\">\n",
       "      <th></th>\n",
       "      <th>Latitude</th>\n",
       "      <th>Longitude</th>\n",
       "    </tr>\n",
       "  </thead>\n",
       "  <tbody>\n",
       "    <tr>\n",
       "      <th>2209</th>\n",
       "      <td>41.997728</td>\n",
       "      <td>-87.767532</td>\n",
       "    </tr>\n",
       "    <tr>\n",
       "      <th>2210</th>\n",
       "      <td>41.997990</td>\n",
       "      <td>-87.768085</td>\n",
       "    </tr>\n",
       "    <tr>\n",
       "      <th>2211</th>\n",
       "      <td>41.998237</td>\n",
       "      <td>-87.768623</td>\n",
       "    </tr>\n",
       "    <tr>\n",
       "      <th>2212</th>\n",
       "      <td>41.998510</td>\n",
       "      <td>-87.769225</td>\n",
       "    </tr>\n",
       "    <tr>\n",
       "      <th>2213</th>\n",
       "      <td>41.998793</td>\n",
       "      <td>-87.769833</td>\n",
       "    </tr>\n",
       "    <tr>\n",
       "      <th>2214</th>\n",
       "      <td>41.999080</td>\n",
       "      <td>-87.770452</td>\n",
       "    </tr>\n",
       "    <tr>\n",
       "      <th>2215</th>\n",
       "      <td>41.999377</td>\n",
       "      <td>-87.771073</td>\n",
       "    </tr>\n",
       "    <tr>\n",
       "      <th>2216</th>\n",
       "      <td>41.999675</td>\n",
       "      <td>-87.771713</td>\n",
       "    </tr>\n",
       "    <tr>\n",
       "      <th>2217</th>\n",
       "      <td>41.999958</td>\n",
       "      <td>-87.772302</td>\n",
       "    </tr>\n",
       "    <tr>\n",
       "      <th>2218</th>\n",
       "      <td>42.000262</td>\n",
       "      <td>-87.772937</td>\n",
       "    </tr>\n",
       "    <tr>\n",
       "      <th>2219</th>\n",
       "      <td>42.000518</td>\n",
       "      <td>-87.773490</td>\n",
       "    </tr>\n",
       "    <tr>\n",
       "      <th>2220</th>\n",
       "      <td>42.000773</td>\n",
       "      <td>-87.774032</td>\n",
       "    </tr>\n",
       "    <tr>\n",
       "      <th>2221</th>\n",
       "      <td>42.001028</td>\n",
       "      <td>-87.774578</td>\n",
       "    </tr>\n",
       "    <tr>\n",
       "      <th>2222</th>\n",
       "      <td>42.001303</td>\n",
       "      <td>-87.775165</td>\n",
       "    </tr>\n",
       "    <tr>\n",
       "      <th>2223</th>\n",
       "      <td>42.001587</td>\n",
       "      <td>-87.775762</td>\n",
       "    </tr>\n",
       "    <tr>\n",
       "      <th>2224</th>\n",
       "      <td>42.001877</td>\n",
       "      <td>-87.776380</td>\n",
       "    </tr>\n",
       "    <tr>\n",
       "      <th>2225</th>\n",
       "      <td>42.002167</td>\n",
       "      <td>-87.776998</td>\n",
       "    </tr>\n",
       "    <tr>\n",
       "      <th>2226</th>\n",
       "      <td>42.002468</td>\n",
       "      <td>-87.777638</td>\n",
       "    </tr>\n",
       "    <tr>\n",
       "      <th>2227</th>\n",
       "      <td>42.002785</td>\n",
       "      <td>-87.778322</td>\n",
       "    </tr>\n",
       "    <tr>\n",
       "      <th>2228</th>\n",
       "      <td>42.003103</td>\n",
       "      <td>-87.779003</td>\n",
       "    </tr>\n",
       "    <tr>\n",
       "      <th>2229</th>\n",
       "      <td>42.003408</td>\n",
       "      <td>-87.779670</td>\n",
       "    </tr>\n",
       "    <tr>\n",
       "      <th>2230</th>\n",
       "      <td>42.003702</td>\n",
       "      <td>-87.780295</td>\n",
       "    </tr>\n",
       "    <tr>\n",
       "      <th>2231</th>\n",
       "      <td>42.003995</td>\n",
       "      <td>-87.780935</td>\n",
       "    </tr>\n",
       "    <tr>\n",
       "      <th>2232</th>\n",
       "      <td>42.004322</td>\n",
       "      <td>-87.781587</td>\n",
       "    </tr>\n",
       "    <tr>\n",
       "      <th>2233</th>\n",
       "      <td>42.004698</td>\n",
       "      <td>-87.782203</td>\n",
       "    </tr>\n",
       "    <tr>\n",
       "      <th>2234</th>\n",
       "      <td>42.005090</td>\n",
       "      <td>-87.782670</td>\n",
       "    </tr>\n",
       "    <tr>\n",
       "      <th>2235</th>\n",
       "      <td>42.005630</td>\n",
       "      <td>-87.783193</td>\n",
       "    </tr>\n",
       "    <tr>\n",
       "      <th>2236</th>\n",
       "      <td>42.006047</td>\n",
       "      <td>-87.783560</td>\n",
       "    </tr>\n",
       "    <tr>\n",
       "      <th>2237</th>\n",
       "      <td>42.006588</td>\n",
       "      <td>-87.784028</td>\n",
       "    </tr>\n",
       "    <tr>\n",
       "      <th>2238</th>\n",
       "      <td>42.007055</td>\n",
       "      <td>-87.784433</td>\n",
       "    </tr>\n",
       "    <tr>\n",
       "      <th>...</th>\n",
       "      <td>...</td>\n",
       "      <td>...</td>\n",
       "    </tr>\n",
       "    <tr>\n",
       "      <th>4381</th>\n",
       "      <td>42.002098</td>\n",
       "      <td>-87.775343</td>\n",
       "    </tr>\n",
       "    <tr>\n",
       "      <th>4382</th>\n",
       "      <td>42.001633</td>\n",
       "      <td>-87.775710</td>\n",
       "    </tr>\n",
       "    <tr>\n",
       "      <th>4383</th>\n",
       "      <td>42.001237</td>\n",
       "      <td>-87.774992</td>\n",
       "    </tr>\n",
       "    <tr>\n",
       "      <th>4384</th>\n",
       "      <td>41.998578</td>\n",
       "      <td>-87.766955</td>\n",
       "    </tr>\n",
       "    <tr>\n",
       "      <th>4385</th>\n",
       "      <td>41.998187</td>\n",
       "      <td>-87.767298</td>\n",
       "    </tr>\n",
       "    <tr>\n",
       "      <th>4386</th>\n",
       "      <td>41.998205</td>\n",
       "      <td>-87.768262</td>\n",
       "    </tr>\n",
       "    <tr>\n",
       "      <th>4387</th>\n",
       "      <td>41.998565</td>\n",
       "      <td>-87.768298</td>\n",
       "    </tr>\n",
       "    <tr>\n",
       "      <th>4388</th>\n",
       "      <td>41.999043</td>\n",
       "      <td>-87.767897</td>\n",
       "    </tr>\n",
       "    <tr>\n",
       "      <th>4389</th>\n",
       "      <td>41.999550</td>\n",
       "      <td>-87.767492</td>\n",
       "    </tr>\n",
       "    <tr>\n",
       "      <th>4390</th>\n",
       "      <td>41.999798</td>\n",
       "      <td>-87.767465</td>\n",
       "    </tr>\n",
       "    <tr>\n",
       "      <th>4391</th>\n",
       "      <td>42.000078</td>\n",
       "      <td>-87.768057</td>\n",
       "    </tr>\n",
       "    <tr>\n",
       "      <th>4392</th>\n",
       "      <td>42.000377</td>\n",
       "      <td>-87.768692</td>\n",
       "    </tr>\n",
       "    <tr>\n",
       "      <th>4393</th>\n",
       "      <td>42.000650</td>\n",
       "      <td>-87.769297</td>\n",
       "    </tr>\n",
       "    <tr>\n",
       "      <th>4394</th>\n",
       "      <td>42.000932</td>\n",
       "      <td>-87.769932</td>\n",
       "    </tr>\n",
       "    <tr>\n",
       "      <th>4395</th>\n",
       "      <td>42.001122</td>\n",
       "      <td>-87.770407</td>\n",
       "    </tr>\n",
       "    <tr>\n",
       "      <th>4396</th>\n",
       "      <td>42.001438</td>\n",
       "      <td>-87.771040</td>\n",
       "    </tr>\n",
       "    <tr>\n",
       "      <th>4397</th>\n",
       "      <td>42.001560</td>\n",
       "      <td>-87.771307</td>\n",
       "    </tr>\n",
       "    <tr>\n",
       "      <th>4398</th>\n",
       "      <td>42.001830</td>\n",
       "      <td>-87.771895</td>\n",
       "    </tr>\n",
       "    <tr>\n",
       "      <th>4399</th>\n",
       "      <td>42.002233</td>\n",
       "      <td>-87.772683</td>\n",
       "    </tr>\n",
       "    <tr>\n",
       "      <th>4400</th>\n",
       "      <td>42.002557</td>\n",
       "      <td>-87.773380</td>\n",
       "    </tr>\n",
       "    <tr>\n",
       "      <th>4401</th>\n",
       "      <td>42.002918</td>\n",
       "      <td>-87.774103</td>\n",
       "    </tr>\n",
       "    <tr>\n",
       "      <th>4402</th>\n",
       "      <td>42.003332</td>\n",
       "      <td>-87.774223</td>\n",
       "    </tr>\n",
       "    <tr>\n",
       "      <th>4403</th>\n",
       "      <td>42.003878</td>\n",
       "      <td>-87.773843</td>\n",
       "    </tr>\n",
       "    <tr>\n",
       "      <th>4404</th>\n",
       "      <td>42.004418</td>\n",
       "      <td>-87.773437</td>\n",
       "    </tr>\n",
       "    <tr>\n",
       "      <th>4405</th>\n",
       "      <td>42.004373</td>\n",
       "      <td>-87.772918</td>\n",
       "    </tr>\n",
       "    <tr>\n",
       "      <th>4406</th>\n",
       "      <td>42.004090</td>\n",
       "      <td>-87.772218</td>\n",
       "    </tr>\n",
       "    <tr>\n",
       "      <th>4407</th>\n",
       "      <td>42.003767</td>\n",
       "      <td>-87.771517</td>\n",
       "    </tr>\n",
       "    <tr>\n",
       "      <th>4408</th>\n",
       "      <td>42.003463</td>\n",
       "      <td>-87.770842</td>\n",
       "    </tr>\n",
       "    <tr>\n",
       "      <th>4409</th>\n",
       "      <td>42.003143</td>\n",
       "      <td>-87.770137</td>\n",
       "    </tr>\n",
       "    <tr>\n",
       "      <th>4410</th>\n",
       "      <td>42.002805</td>\n",
       "      <td>-87.769352</td>\n",
       "    </tr>\n",
       "  </tbody>\n",
       "</table>\n",
       "<p>2202 rows × 2 columns</p>\n",
       "</div>"
      ],
      "text/plain": [
       "       Latitude  Longitude\n",
       "2209  41.997728 -87.767532\n",
       "2210  41.997990 -87.768085\n",
       "2211  41.998237 -87.768623\n",
       "2212  41.998510 -87.769225\n",
       "2213  41.998793 -87.769833\n",
       "2214  41.999080 -87.770452\n",
       "2215  41.999377 -87.771073\n",
       "2216  41.999675 -87.771713\n",
       "2217  41.999958 -87.772302\n",
       "2218  42.000262 -87.772937\n",
       "2219  42.000518 -87.773490\n",
       "2220  42.000773 -87.774032\n",
       "2221  42.001028 -87.774578\n",
       "2222  42.001303 -87.775165\n",
       "2223  42.001587 -87.775762\n",
       "2224  42.001877 -87.776380\n",
       "2225  42.002167 -87.776998\n",
       "2226  42.002468 -87.777638\n",
       "2227  42.002785 -87.778322\n",
       "2228  42.003103 -87.779003\n",
       "2229  42.003408 -87.779670\n",
       "2230  42.003702 -87.780295\n",
       "2231  42.003995 -87.780935\n",
       "2232  42.004322 -87.781587\n",
       "2233  42.004698 -87.782203\n",
       "2234  42.005090 -87.782670\n",
       "2235  42.005630 -87.783193\n",
       "2236  42.006047 -87.783560\n",
       "2237  42.006588 -87.784028\n",
       "2238  42.007055 -87.784433\n",
       "...         ...        ...\n",
       "4381  42.002098 -87.775343\n",
       "4382  42.001633 -87.775710\n",
       "4383  42.001237 -87.774992\n",
       "4384  41.998578 -87.766955\n",
       "4385  41.998187 -87.767298\n",
       "4386  41.998205 -87.768262\n",
       "4387  41.998565 -87.768298\n",
       "4388  41.999043 -87.767897\n",
       "4389  41.999550 -87.767492\n",
       "4390  41.999798 -87.767465\n",
       "4391  42.000078 -87.768057\n",
       "4392  42.000377 -87.768692\n",
       "4393  42.000650 -87.769297\n",
       "4394  42.000932 -87.769932\n",
       "4395  42.001122 -87.770407\n",
       "4396  42.001438 -87.771040\n",
       "4397  42.001560 -87.771307\n",
       "4398  42.001830 -87.771895\n",
       "4399  42.002233 -87.772683\n",
       "4400  42.002557 -87.773380\n",
       "4401  42.002918 -87.774103\n",
       "4402  42.003332 -87.774223\n",
       "4403  42.003878 -87.773843\n",
       "4404  42.004418 -87.773437\n",
       "4405  42.004373 -87.772918\n",
       "4406  42.004090 -87.772218\n",
       "4407  42.003767 -87.771517\n",
       "4408  42.003463 -87.770842\n",
       "4409  42.003143 -87.770137\n",
       "4410  42.002805 -87.769352\n",
       "\n",
       "[2202 rows x 2 columns]"
      ]
     },
     "execution_count": 993,
     "metadata": {},
     "output_type": "execute_result"
    }
   ],
   "source": [
    "spray[spray.Date == spray[spray['Date'] > \n",
    "                          pd.to_datetime('2013-07-1')].Date.drop_duplicates()[2209]][['Latitude', 'Longitude']]"
   ]
  },
  {
   "cell_type": "code",
   "execution_count": 969,
   "metadata": {},
   "outputs": [
    {
     "data": {
      "text/plain": [
       "'Jul'"
      ]
     },
     "execution_count": 969,
     "metadata": {},
     "output_type": "execute_result"
    }
   ],
   "source": [
    "calendar.month_abbr[pd.to_datetime('2013-07-17').month]"
   ]
  },
  {
   "cell_type": "code",
   "execution_count": 979,
   "metadata": {
    "collapsed": true
   },
   "outputs": [],
   "source": [
    "def title_returner(date):\n",
    "    ts = pd.to_datetime(date)\n",
    "    title = '{}_{}'.format(calendar.month_abbr[ts.month], ts.day)\n",
    "    return title\n",
    "\n",
    "def spray_locs(date):\n",
    "    coordinates = spray[spray.Date == pd.to_datetime(date)][['Latitude', 'Longitude']]\n",
    "    return coordinates"
   ]
  },
  {
   "cell_type": "code",
   "execution_count": 981,
   "metadata": {},
   "outputs": [
    {
     "data": {
      "text/plain": [
       "'Jul_17'"
      ]
     },
     "execution_count": 981,
     "metadata": {},
     "output_type": "execute_result"
    }
   ],
   "source": [
    "title_returner('2013-07-17')"
   ]
  },
  {
   "cell_type": "code",
   "execution_count": 983,
   "metadata": {},
   "outputs": [
    {
     "data": {
      "text/plain": [
       "'Jul_17'"
      ]
     },
     "execution_count": 983,
     "metadata": {},
     "output_type": "execute_result"
    }
   ],
   "source": [
    "title_returner('2013-07-17')"
   ]
  },
  {
   "cell_type": "code",
   "execution_count": 984,
   "metadata": {},
   "outputs": [],
   "source": [
    "Jul_17 = spray_locs('2013-07-17')"
   ]
  },
  {
   "cell_type": "code",
   "execution_count": 1134,
   "metadata": {},
   "outputs": [],
   "source": [
    "# 2013 spray dates\n",
    "times = spray[spray['Date'] > pd.to_datetime('2013-07-1')].Date.drop_duplicates().values"
   ]
  },
  {
   "cell_type": "code",
   "execution_count": 1135,
   "metadata": {},
   "outputs": [
    {
     "data": {
      "text/plain": [
       "array(['2013-07-17T00:00:00.000000000', '2013-07-25T00:00:00.000000000',\n",
       "       '2013-08-08T00:00:00.000000000', '2013-08-15T00:00:00.000000000',\n",
       "       '2013-08-16T00:00:00.000000000', '2013-08-22T00:00:00.000000000',\n",
       "       '2013-08-29T00:00:00.000000000', '2013-09-05T00:00:00.000000000'], dtype='datetime64[ns]')"
      ]
     },
     "execution_count": 1135,
     "metadata": {},
     "output_type": "execute_result"
    }
   ],
   "source": [
    "times"
   ]
  },
  {
   "cell_type": "code",
   "execution_count": 996,
   "metadata": {},
   "outputs": [],
   "source": [
    "jul_13_sprays = spray[spray.Date == pd.to_datetime('2013-07-17')][['Latitude', 'Longitude']]\n",
    "jul_13_sprays = spray[spray.Date == pd.to_datetime('2013-07-25')][['Latitude', 'Longitude']]\n",
    "aug_08_sprays = spray[spray.Date == pd.to_datetime('2013-08-08')][['Latitude', 'Longitude']]\n",
    "aug_15_sprays = spray[spray.Date == pd.to_datetime('2013-08-15')][['Latitude', 'Longitude']]\n",
    "aug_16_sprays = spray[spray.Date == pd.to_datetime('2013-08-16')][['Latitude', 'Longitude']]\n",
    "aug_22_sprays = spray[spray.Date == pd.to_datetime('2013-08-22')][['Latitude', 'Longitude']]\n",
    "aug_29_sprays = spray[spray.Date == pd.to_datetime('2013-08-29')][['Latitude', 'Longitude']]\n",
    "sep_05_sprays = spray[spray.Date == pd.to_datetime('2013-09-05')][['Latitude', 'Longitude']]"
   ]
  },
  {
   "cell_type": "code",
   "execution_count": 998,
   "metadata": {
    "collapsed": true
   },
   "outputs": [
    {
     "data": {
      "text/plain": [
       "[(-87.800990999999996, 41.954689999999999),\n",
       " (-87.769278999999997, 41.994990999999999),\n",
       " (-87.824811999999994, 41.974088999999999),\n",
       " (-87.666454999999999, 41.921599999999998),\n",
       " (-87.654491000000007, 41.891117999999999),\n",
       " (-87.654223999999999, 41.867108000000002),\n",
       " (-87.655231999999998, 41.896281999999999),\n",
       " (-87.694259000000002, 41.919342999999998),\n",
       " (-87.632085000000004, 41.921965),\n",
       " (-87.676709000000002, 41.688324000000001),\n",
       " (-87.648859999999999, 41.862291999999997),\n",
       " (-87.666014000000004, 41.720847999999997),\n",
       " (-87.677511999999993, 41.731921999999997),\n",
       " (-87.611559999999997, 41.891126),\n",
       " (-87.795585000000003, 41.999128999999996),\n",
       " (-87.687768999999989, 42.017429999999997),\n",
       " (-87.760885999999999, 41.907645000000002),\n",
       " (-87.649642, 41.732984000000002),\n",
       " (-87.812826999999999, 41.981964000000005),\n",
       " (-87.832763, 41.944868999999997),\n",
       " (-87.811506000000008, 42.011600999999999),\n",
       " (-87.698456999999991, 41.949829999999999),\n",
       " (-87.750938000000005, 41.979242999999997),\n",
       " (-87.689778000000004, 41.986921000000002),\n",
       " (-87.763416000000007, 41.801497999999995),\n",
       " (-87.701430999999999, 41.906638000000001),\n",
       " (-87.649969999999996, 41.723195000000004),\n",
       " (-87.666900999999996, 41.868077),\n",
       " (-87.627561, 41.869215999999994),\n",
       " (-87.724607999999989, 41.662013999999999),\n",
       " (-87.760069999999999, 41.961742999999998),\n",
       " (-87.776792, 41.953066999999997),\n",
       " (-87.629797999999994, 41.878114000000004),\n",
       " (-87.702574999999996, 41.958271000000003),\n",
       " (-87.700117000000006, 41.932093999999999),\n",
       " (-87.667736000000005, 41.994469000000002),\n",
       " (-87.675918999999993, 42.006858000000001),\n",
       " (-87.800515000000004, 41.916265000000003),\n",
       " (-87.716277000000005, 41.846074999999999),\n",
       " (-87.752329000000003, 41.918704999999996),\n",
       " (-87.707972999999996, 41.682586999999998),\n",
       " (-87.614257999999992, 41.725516999999996),\n",
       " (-87.730698000000004, 41.948166999999998),\n",
       " (-87.691810000000004, 41.963976000000002),\n",
       " (-87.733974000000003, 41.953704999999999),\n",
       " (-87.757638999999998, 41.964241999999999),\n",
       " (-87.797127000000003, 41.990284000000003),\n",
       " (-87.777920999999992, 42.008313999999999),\n",
       " (-87.747112999999999, 41.991428999999997),\n",
       " (-87.686762999999999, 41.843810999999995),\n",
       " (-87.795180000000002, 41.921177),\n",
       " (-87.719887, 41.852651999999999),\n",
       " (-87.694991000000002, 41.857402),\n",
       " (-87.696269000000001, 41.868141999999999),\n",
       " (-87.656913000000003, 41.846283),\n",
       " (-87.648064000000005, 41.721474000000001),\n",
       " (-87.696293000000011, 41.869107),\n",
       " (-87.675088000000002, 41.719059000000001),\n",
       " (-87.674677000000003, 41.966986999999996),\n",
       " (-87.785287999999994, 41.923738),\n",
       " (-87.787992000000003, 41.970247999999998),\n",
       " (-87.662140000000008, 42.010412000000002),\n",
       " (-87.716787999999994, 41.899229999999996),\n",
       " (-87.598865000000004, 41.692554999999999),\n",
       " (-87.794895999999994, 41.940159999999999),\n",
       " (-87.68826700000001, 41.903002000000001),\n",
       " (-87.776385000000005, 41.942114000000004),\n",
       " (-87.777189000000007, 41.960615999999995),\n",
       " (-87.705084999999997, 41.883284000000003),\n",
       " (-87.703735999999992, 41.704335999999998),\n",
       " (-87.748367000000002, 41.962728000000006),\n",
       " (-87.677736999999993, 41.836644),\n",
       " (-87.729383999999996, 41.837084999999995),\n",
       " (-87.726737, 41.911823999999996),\n",
       " (-87.678378000000009, 41.823065),\n",
       " (-87.679446999999996, 41.801178999999998),\n",
       " (-87.711880000000008, 41.800736999999998),\n",
       " (-87.752410999999995, 41.778296999999995),\n",
       " (-87.703046999999998, 41.771659999999997),\n",
       " (-87.745602000000005, 41.759346000000001),\n",
       " (-87.678648999999993, 41.768388000000002),\n",
       " (-87.797893999999999, 41.797615999999998),\n",
       " (-87.776531999999989, 41.781416),\n",
       " (-87.600880000000004, 41.773215),\n",
       " (-87.666343000000012, 41.822535999999999),\n",
       " (-87.585487000000001, 41.799281999999998),\n",
       " (-87.615988999999999, 41.794781),\n",
       " (-87.586427, 41.778748),\n",
       " (-87.562888999999998, 41.766202),\n",
       " (-87.612921999999998, 41.754676000000003),\n",
       " (-87.627795999999989, 41.821581999999999),\n",
       " (-87.642983999999998, 41.803422999999995),\n",
       " (-87.590772999999999, 41.754292),\n",
       " (-87.736812, 41.798696999999997),\n",
       " (-87.778926999999996, 41.776156),\n",
       " (-87.726549000000006, 41.825609999999998),\n",
       " (-87.599862000000002, 41.673408000000002),\n",
       " (-87.585413000000003, 41.726465000000005),\n",
       " (-87.559308000000001, 41.678618),\n",
       " (-87.543067000000008, 41.737051999999998),\n",
       " (-87.546587000000002, 41.740640999999997),\n",
       " (-87.535197999999994, 41.680945999999999),\n",
       " (-87.531634999999994, 41.686397999999997),\n",
       " (-87.582699000000005, 41.729669000000001),\n",
       " (-87.565666000000007, 41.704571999999999),\n",
       " (-87.702716000000009, 41.74785),\n",
       " (-87.655356000000012, 41.775050999999998),\n",
       " (-87.604497999999992, 41.644612000000002),\n",
       " (-87.555509999999998, 41.733643000000001),\n",
       " (-87.531656999999996, 41.717753000000002),\n",
       " (-87.605294000000001, 41.750498),\n",
       " (-87.536496999999997, 41.702723999999996),\n",
       " (-87.728492000000003, 41.984809000000006),\n",
       " (-87.740029000000007, 41.772846000000001),\n",
       " (-87.667827000000003, 41.825901999999999),\n",
       " (-87.538693000000009, 41.659112),\n",
       " (-87.862994999999998, 41.992478000000006),\n",
       " (-87.890614999999997, 41.974688999999998),\n",
       " (-87.930994999999996, 41.957799000000001),\n",
       " (-87.656929000000005, 41.690422999999996),\n",
       " (-87.661637999999996, 41.868532999999999),\n",
       " (-87.651515000000003, 41.675876000000002),\n",
       " (-87.548540000000003, 41.731929000000001),\n",
       " (-87.567726000000008, 41.738582999999998),\n",
       " (-87.543762000000001, 41.646540999999999),\n",
       " (-87.730890000000002, 41.954770000000003),\n",
       " (-87.738416000000001, 41.933652000000002),\n",
       " (-87.741340000000008, 41.948279999999997),\n",
       " (-87.746381, 41.925197999999995),\n",
       " (-87.805059, 41.973845000000004),\n",
       " (-87.731435000000005, 41.743402000000003),\n",
       " (-87.600963000000007, 41.728495000000002),\n",
       " (-87.67145699999999, 41.947227000000005),\n",
       " (-87.654234000000002, 41.793818000000002),\n",
       " (-87.639817000000008, 41.753411),\n",
       " (-87.756155000000007, 41.904193999999997),\n",
       " (-87.725056999999993, 41.951865999999995),\n",
       " (-87.742301999999995, 41.763733000000002),\n",
       " (-87.666066000000001, 41.987279999999998),\n",
       " (-87.66805500000001, 41.912562999999999),\n",
       " (-87.781978000000009, 41.965571000000004),\n",
       " (-87.789233999999993, 41.951878000000001),\n",
       " (-87.807276999999999, 42.009875999999998),\n",
       " (-87.761725999999996, 41.942284999999998),\n",
       " (-87.627095999999995, 41.776428000000003),\n",
       " (-87.770899, 41.994678999999998),\n",
       " (-87.695443000000012, 41.738903000000001),\n",
       " (-87.707393999999994, 41.753391000000001),\n",
       " (-87.749149000000003, 41.777689000000002),\n",
       " (-87.669539, 41.719140000000003),\n",
       " (-87.633589999999998, 41.925651999999999)]"
      ]
     },
     "execution_count": 998,
     "metadata": {},
     "output_type": "execute_result"
    }
   ],
   "source": [
    "trap_cords"
   ]
  },
  {
   "cell_type": "code",
   "execution_count": 999,
   "metadata": {},
   "outputs": [],
   "source": [
    "trap_cords = []\n",
    "for row in traps.index.values:\n",
    "    trap_cords.append((traps.Longitude[row], traps.Latitude[row]))"
   ]
  },
  {
   "cell_type": "code",
   "execution_count": 1001,
   "metadata": {
    "collapsed": true
   },
   "outputs": [],
   "source": [
    "jul_13_cords = []\n",
    "for val in jul_13_sprays.index.values:\n",
    "    jul_13_cords.append((jul_13_sprays.Longitude[val], jul_13_sprays.Latitude[val]))"
   ]
  },
  {
   "cell_type": "code",
   "execution_count": 1002,
   "metadata": {
    "collapsed": true
   },
   "outputs": [
    {
     "data": {
      "text/plain": [
       "[(-87.739783333333307, 41.960520000000002),\n",
       " (-87.739786666666703, 41.960515000000001),\n",
       " (-87.739786666666703, 41.960508333333294),\n",
       " (-87.739791666666704, 41.960498333333298),\n",
       " (-87.739800000000002, 41.960526666666702),\n",
       " (-87.739840000000001, 41.960371666666703),\n",
       " (-87.739800000000002, 41.959708333333296),\n",
       " (-87.739596666666699, 41.95928),\n",
       " (-87.739036666666692, 41.9590033333333),\n",
       " (-87.738465000000005, 41.958905000000001),\n",
       " (-87.738071666666698, 41.956316666666702),\n",
       " (-87.738060000000004, 41.955843333333299),\n",
       " (-87.738015000000004, 41.955266666666702),\n",
       " (-87.737991666666701, 41.954598333333294),\n",
       " (-87.737984999999995, 41.954063333333295),\n",
       " (-87.737973333333301, 41.953403333333299),\n",
       " (-87.7379416666667, 41.9528483333333),\n",
       " (-87.737928333333301, 41.952473333333295),\n",
       " (-87.7378966666667, 41.952024999999999),\n",
       " (-87.737951666666703, 41.951601666666704),\n",
       " (-87.737933333333302, 41.951084999999999),\n",
       " (-87.737911666666704, 41.950548333333295),\n",
       " (-87.737919999999988, 41.950029999999998),\n",
       " (-87.737899999999996, 41.949424999999998),\n",
       " (-87.737873333333297, 41.948974999999997),\n",
       " (-87.738011666666694, 41.948506666666702),\n",
       " (-87.737184999999997, 41.947699999999998),\n",
       " (-87.736658333333295, 41.948291666666705),\n",
       " (-87.7366733333333, 41.948869999999999),\n",
       " (-87.736701666666704, 41.949441666666701),\n",
       " (-87.736719999999991, 41.949975000000002),\n",
       " (-87.736746666666704, 41.950580000000002),\n",
       " (-87.736769999999993, 41.951190000000004),\n",
       " (-87.736796666666692, 41.951603333333296),\n",
       " (-87.736818333333304, 41.952233333333297),\n",
       " (-87.736861666666698, 41.952915000000004),\n",
       " (-87.736879999999999, 41.953958333333297),\n",
       " (-87.736886666666692, 41.954651666666706),\n",
       " (-87.737031666666695, 41.955129999999997),\n",
       " (-87.736809999999991, 41.954783333333296),\n",
       " (-87.733923333333308, 41.952919999999999),\n",
       " (-87.733918333333307, 41.952233333333297),\n",
       " (-87.733905000000007, 41.951754999999999),\n",
       " (-87.733893333333299, 41.951233333333299),\n",
       " (-87.733879999999999, 41.950613333333294),\n",
       " (-87.733850000000004, 41.950191666666704),\n",
       " (-87.733801666666693, 41.949674999999999),\n",
       " (-87.733789999999999, 41.949024999999999),\n",
       " (-87.733741666666702, 41.948434999999996),\n",
       " (-87.734115000000003, 41.948300000000003),\n",
       " (-87.734776666666704, 41.948234999999997),\n",
       " (-87.735223333333295, 41.948403333333296),\n",
       " (-87.735253333333304, 41.949008333333296),\n",
       " (-87.735246666666697, 41.949543333333295),\n",
       " (-87.735303333333306, 41.950001666666701),\n",
       " (-87.735305000000011, 41.950609999999998),\n",
       " (-87.735336666666697, 41.951278333333299),\n",
       " (-87.735376666666696, 41.951921666666706),\n",
       " (-87.735401666666704, 41.952365),\n",
       " (-87.731755000000007, 41.953175000000002),\n",
       " (-87.731008333333307, 41.952754999999996),\n",
       " (-87.730518333333308, 41.952486666666701),\n",
       " (-87.729843333333307, 41.9521083333333),\n",
       " (-87.729236666666694, 41.951749999999997),\n",
       " (-87.729115000000007, 41.951273333333297),\n",
       " (-87.729108333333301, 41.950768333333293),\n",
       " (-87.729066666666697, 41.950181666666701),\n",
       " (-87.729244999999992, 41.949925),\n",
       " (-87.729934999999998, 41.949906666666706),\n",
       " (-87.730501666666697, 41.949898333333294),\n",
       " (-87.730646666666701, 41.950204999999997),\n",
       " (-87.730665000000002, 41.950711666666706),\n",
       " (-87.730719999999991, 41.951243333333295),\n",
       " (-87.730741666666702, 41.951711666666704),\n",
       " (-87.730758333333299, 41.952376666666702),\n",
       " (-87.730391666666705, 41.952356666666702),\n",
       " (-87.729683333333298, 41.951956666666703),\n",
       " (-87.729119999999995, 41.951643333333294),\n",
       " (-87.728409999999997, 41.9512583333333),\n",
       " (-87.727474999999998, 41.949293333333294),\n",
       " (-87.727761666666694, 41.948906666666701),\n",
       " (-87.728610000000003, 41.948895),\n",
       " (-87.729406666666705, 41.948841666666702),\n",
       " (-87.730248333333307, 41.948865000000005),\n",
       " (-87.730576666666693, 41.94867),\n",
       " (-87.730576666666693, 41.948161666666707),\n",
       " (-87.730040000000002, 41.948043333333295),\n",
       " (-87.729406666666705, 41.948070000000001),\n",
       " (-87.728669999999994, 41.948079999999997),\n",
       " (-87.727893333333299, 41.948099999999997),\n",
       " (-87.728331666666705, 41.947188333333294),\n",
       " (-87.729123333333305, 41.947186666666703),\n",
       " (-87.729768333333297, 41.9471633333333),\n",
       " (-87.729784999999993, 41.946775000000002),\n",
       " (-87.729784999999993, 41.946459999999995),\n",
       " (-87.730238333333304, 41.946354999999997),\n",
       " (-87.732148333333299, 41.946350000000002),\n",
       " (-87.732258333333306, 41.946813333333296),\n",
       " (-87.732288333333301, 41.9474466666667),\n",
       " (-87.732315, 41.947978333333296),\n",
       " (-87.732336666666697, 41.9485283333333),\n",
       " (-87.732361666666705, 41.949056666666706),\n",
       " (-87.732396666666702, 41.949550000000002),\n",
       " (-87.732411666666692, 41.950060000000001),\n",
       " (-87.732425000000006, 41.950783333333298),\n",
       " (-87.732438333333306, 41.951416666666702),\n",
       " (-87.732456666666693, 41.951911666666703),\n",
       " (-87.732498333333297, 41.952703333333297),\n",
       " (-87.731761666666699, 41.953123333333295),\n",
       " (-87.730936666666693, 41.952663333333298),\n",
       " (-87.730789999999999, 41.952055000000001),\n",
       " (-87.73078000000001, 41.951605000000001),\n",
       " (-87.730726666666698, 41.951043333333295),\n",
       " (-87.730705, 41.950478333333294),\n",
       " (-87.730689999999996, 41.94997),\n",
       " (-87.7306733333333, 41.949516666666703),\n",
       " (-87.730668333333298, 41.949058333333298),\n",
       " (-87.730675000000005, 41.948450000000001),\n",
       " (-87.730633333333301, 41.948071666666706),\n",
       " (-87.730643333333305, 41.947418333333296),\n",
       " (-87.730658333333295, 41.946905000000001),\n",
       " (-87.720166666666699, 41.946751666666707),\n",
       " (-87.720943333333295, 41.947193333333296),\n",
       " (-87.722536666666699, 41.948066666666705),\n",
       " (-87.722583333333304, 41.947628333333299),\n",
       " (-87.722549999999998, 41.946959999999997),\n",
       " (-87.7235716666667, 41.946528333333298),\n",
       " (-87.723664999999997, 41.946818333333297),\n",
       " (-87.723680000000002, 41.94726),\n",
       " (-87.723721666666705, 41.947755000000001),\n",
       " (-87.723743333333303, 41.948228333333297),\n",
       " (-87.7237783333333, 41.948605000000001),\n",
       " (-87.72439, 41.949033333333297),\n",
       " (-87.725076666666695, 41.949321666666705),\n",
       " (-87.724998333333303, 41.948816666666701),\n",
       " (-87.724978333333297, 41.948316666666706),\n",
       " (-87.724969999999999, 41.947800000000001),\n",
       " (-87.724935000000002, 41.947121666666703),\n",
       " (-87.725958333333296, 41.9466866666667),\n",
       " (-87.726010000000002, 41.9473366666667),\n",
       " (-87.726021666666696, 41.947958333333297),\n",
       " (-87.726030000000009, 41.948590000000003),\n",
       " (-87.726065000000006, 41.949293333333294),\n",
       " (-87.726101666666693, 41.949833333333295),\n",
       " (-87.725575000000006, 41.949624999999997),\n",
       " (-87.725018333333296, 41.949163333333296),\n",
       " (-87.725006666666701, 41.948531666666703),\n",
       " (-87.724856666666696, 41.948165000000003),\n",
       " (-87.724278333333302, 41.948203333333296),\n",
       " (-87.723966666666698, 41.948208333333298),\n",
       " (-87.723889999999997, 41.947918333333298),\n",
       " (-87.7239, 41.947563333333299),\n",
       " (-87.723871666666696, 41.947153333333297),\n",
       " (-87.723855, 41.946873333333293),\n",
       " (-87.724198333333305, 41.946554999999996),\n",
       " (-87.737183333333306, 41.945986666666705),\n",
       " (-87.737230000000011, 41.945270000000001),\n",
       " (-87.737211666666695, 41.944556666666706),\n",
       " (-87.737195, 41.943871666666702),\n",
       " (-87.737161666666694, 41.943196666666701),\n",
       " (-87.736823333333305, 41.943083333333298),\n",
       " (-87.736146666666698, 41.943100000000001),\n",
       " (-87.736036666666692, 41.943365),\n",
       " (-87.736048333333301, 41.9439383333333),\n",
       " (-87.736066666666702, 41.944443333333297),\n",
       " (-87.736091666666695, 41.945045),\n",
       " (-87.736085000000003, 41.945630000000001),\n",
       " (-87.734849999999994, 41.945363333333297),\n",
       " (-87.734814999999998, 41.944650000000003),\n",
       " (-87.734790000000004, 41.9440733333333),\n",
       " (-87.734764999999996, 41.9433516666667),\n",
       " (-87.734738333333297, 41.942811666666707),\n",
       " (-87.734731666666704, 41.942370000000004),\n",
       " (-87.734713333333303, 41.941958333333297),\n",
       " (-87.734719999999996, 41.941473333333299),\n",
       " (-87.734698333333299, 41.941038333333296),\n",
       " (-87.734669999999994, 41.940494999999999),\n",
       " (-87.734633333333306, 41.940084999999996),\n",
       " (-87.7339566666667, 41.940033333333297),\n",
       " (-87.733249999999998, 41.940041666666701),\n",
       " (-87.732531666666702, 41.940049999999999),\n",
       " (-87.731873333333297, 41.940075),\n",
       " (-87.731034999999991, 41.940083333333298),\n",
       " (-87.730326666666699, 41.940116666666704),\n",
       " (-87.729663333333306, 41.940116666666704),\n",
       " (-87.728708333333302, 41.94012),\n",
       " (-87.738311666666704, 41.939378333333295),\n",
       " (-87.738348333333306, 41.940134999999998),\n",
       " (-87.7383466666667, 41.940676666666704),\n",
       " (-87.738371666666694, 41.941271666666701),\n",
       " (-87.738384999999994, 41.941743333333299),\n",
       " (-87.738408333333297, 41.942243333333295),\n",
       " (-87.738115000000008, 41.942533333333294),\n",
       " (-87.737521666666694, 41.942536666666705),\n",
       " (-87.737246666666692, 41.942059999999998),\n",
       " (-87.737221666666699, 41.941556666666706),\n",
       " (-87.737219999999994, 41.9410666666667),\n",
       " (-87.737195, 41.940498333333295),\n",
       " (-87.737176666666699, 41.939933333333293),\n",
       " (-87.737160000000003, 41.939415000000004),\n",
       " (-87.732126666666701, 41.9393733333333),\n",
       " (-87.732133333333294, 41.9398816666667),\n",
       " (-87.732144999999988, 41.940521666666704),\n",
       " (-87.732171666666702, 41.940961666666702),\n",
       " (-87.732168333333306, 41.941490000000002),\n",
       " (-87.732185000000001, 41.941883333333294),\n",
       " (-87.732155000000006, 41.942313333333296),\n",
       " (-87.732181666666705, 41.942754999999998),\n",
       " (-87.732223333333295, 41.943245000000005),\n",
       " (-87.732236666666694, 41.943753333333298),\n",
       " (-87.734781666666692, 41.944685),\n",
       " (-87.734759999999994, 41.944035),\n",
       " (-87.734728333333308, 41.943384999999999),\n",
       " (-87.7347033333333, 41.942770000000003),\n",
       " (-87.734219999999993, 41.942659999999997),\n",
       " (-87.733540000000005, 41.942758333333295),\n",
       " (-87.733571666666705, 41.943246666666703),\n",
       " (-87.733588333333302, 41.943713333333299),\n",
       " (-87.733618333333297, 41.944240000000001),\n",
       " (-87.734861666666703, 41.9455283333333),\n",
       " (-87.734843333333302, 41.944936666666706),\n",
       " (-87.734825000000001, 41.944299999999998),\n",
       " (-87.734801666666698, 41.943656666666705),\n",
       " (-87.734769999999997, 41.943015000000003),\n",
       " (-87.734763333333305, 41.942463333333293),\n",
       " (-87.734756666666698, 41.941994999999999),\n",
       " (-87.734480000000005, 41.941788333333299),\n",
       " (-87.733761666666695, 41.9418133333333),\n",
       " (-87.7330616666667, 41.941839999999999),\n",
       " (-87.732416666666694, 41.941841666666704),\n",
       " (-87.731684999999999, 41.941845000000001),\n",
       " (-87.730981666666693, 41.941845000000001),\n",
       " (-87.730193333333304, 41.941868333333296),\n",
       " (-87.729959999999991, 41.9414983333333),\n",
       " (-87.730056666666698, 41.940976666666707),\n",
       " (-87.730708333333297, 41.940959999999997),\n",
       " (-87.731245000000001, 41.940896666666703),\n",
       " (-87.731881666666695, 41.940873333333293),\n",
       " (-87.732650000000007, 41.940858333333296),\n",
       " (-87.733280000000008, 41.940823333333299),\n",
       " (-87.733923333333308, 41.940815000000001),\n",
       " (-87.734506666666704, 41.940716666666702),\n",
       " (-87.734476666666694, 41.940288333333299),\n",
       " (-87.734188333333307, 41.939945000000002),\n",
       " (-87.733578333333298, 41.9399533333333),\n",
       " (-87.732900000000001, 41.939976666666702),\n",
       " (-87.732144999999988, 41.940004999999999),\n",
       " (-87.732116666666698, 41.9405966666667),\n",
       " (-87.732133333333294, 41.941283333333296),\n",
       " (-87.732151666666695, 41.941711666666706),\n",
       " (-87.732153333333301, 41.942161666666706),\n",
       " (-87.732088333333309, 41.942651666666706),\n",
       " (-87.731421666666705, 41.942676666666706),\n",
       " (-87.730871666666701, 41.942891666666704),\n",
       " (-87.729505000000003, 41.942509999999999),\n",
       " (-87.729219999999998, 41.942828333333296),\n",
       " (-87.729078333333305, 41.943129999999996),\n",
       " (-87.728266666666698, 41.943151666666701),\n",
       " (-87.727693333333306, 41.943191666666706),\n",
       " (-87.727451666666695, 41.943540000000006),\n",
       " (-87.727513333333306, 41.943958333333299),\n",
       " (-87.727906666666698, 41.943959999999997),\n",
       " (-87.728430000000003, 41.943963333333294),\n",
       " (-87.729138333333296, 41.943936666666701),\n",
       " (-87.729846666666703, 41.943909999999995),\n",
       " (-87.730584999999991, 41.943896666666703),\n",
       " (-87.731031666666695, 41.943854999999999),\n",
       " (-87.731343333333299, 41.943743333333295),\n",
       " (-87.732015000000004, 41.944286666666706),\n",
       " (-87.731965000000002, 41.944843333333296),\n",
       " (-87.731324999999998, 41.9448516666667),\n",
       " (-87.730928333333296, 41.944756666666706),\n",
       " (-87.730031666666704, 41.9447616666667),\n",
       " (-87.729333333333301, 41.944796666666704),\n",
       " (-87.7284966666667, 41.944816666666703),\n",
       " (-87.727693333333306, 41.945648333333295),\n",
       " (-87.728375, 41.945616666666702),\n",
       " (-87.729068333333302, 41.945581666666705),\n",
       " (-87.729678333333297, 41.945518333333297),\n",
       " (-87.730260000000001, 41.945509999999999),\n",
       " (-87.730816666666698, 41.945500000000003),\n",
       " (-87.731331666666705, 41.945546666666701),\n",
       " (-87.731911666666704, 41.945558333333295),\n",
       " (-87.731961666666692, 41.946091666666703),\n",
       " (-87.727505000000008, 41.946291666666703),\n",
       " (-87.727284999999995, 41.945801666666704),\n",
       " (-87.726951666666693, 41.945453333333298),\n",
       " (-87.726316666666705, 41.945465000000006),\n",
       " (-87.725648333333297, 41.945478333333298),\n",
       " (-87.72500500000001, 41.945488333333294),\n",
       " (-87.724310000000003, 41.945509999999999),\n",
       " (-87.723613333333304, 41.945509999999999),\n",
       " (-87.7228833333333, 41.945516666666705),\n",
       " (-87.722206666666693, 41.945533333333294),\n",
       " (-87.721543333333301, 41.945551666666702),\n",
       " (-87.720943333333295, 41.9455733333333),\n",
       " (-87.7203016666667, 41.945615000000004),\n",
       " (-87.719521666666694, 41.9456633333333),\n",
       " (-87.719048333333305, 41.945666666666703),\n",
       " (-87.718731666666699, 41.945363333333297),\n",
       " (-87.718516666666702, 41.944798333333296),\n",
       " (-87.719061666666704, 41.944718333333299),\n",
       " (-87.719790000000003, 41.944690000000001),\n",
       " (-87.720591666666692, 41.944676666666702),\n",
       " (-87.721403333333299, 41.944668333333297),\n",
       " (-87.722278333333307, 41.944641666666705),\n",
       " (-87.723231666666692, 41.944625000000002),\n",
       " (-87.724076666666704, 41.944595),\n",
       " (-87.724881666666704, 41.944565000000004),\n",
       " (-87.725756666666697, 41.944546666666703),\n",
       " (-87.720069999999993, 41.945926666666701),\n",
       " (-87.719998333333308, 41.945451666666706),\n",
       " (-87.719954999999999, 41.944853333333299),\n",
       " (-87.719940000000008, 41.944245000000002),\n",
       " (-87.719913333333295, 41.943781666666702),\n",
       " (-87.719886666666696, 41.943238333333298),\n",
       " (-87.719891666666697, 41.942720000000001),\n",
       " (-87.71987, 41.942281666666702),\n",
       " (-87.719844999999992, 41.941701666666702),\n",
       " (-87.719836666666694, 41.9412533333333),\n",
       " (-87.719826666666705, 41.940643333333298),\n",
       " (-87.719800000000006, 41.940123333333297),\n",
       " (-87.721013333333303, 41.939626666666705),\n",
       " (-87.721029999999999, 41.940121666666705),\n",
       " (-87.721046666666695, 41.940640000000002),\n",
       " (-87.721106666666699, 41.941143333333294),\n",
       " (-87.721130000000002, 41.941631666666702),\n",
       " (-87.721176666666693, 41.942243333333295),\n",
       " (-87.721204999999998, 41.942693333333295),\n",
       " (-87.721238333333304, 41.943338333333294),\n",
       " (-87.721265000000002, 41.944011666666704),\n",
       " (-87.721323333333302, 41.944524999999999),\n",
       " (-87.722048333333305, 41.944528333333295),\n",
       " (-87.722376666666705, 41.944331666666706),\n",
       " (-87.722363333333305, 41.943811666666704),\n",
       " (-87.722328333333309, 41.943354999999997),\n",
       " (-87.722308333333302, 41.9429266666667),\n",
       " (-87.722283333333309, 41.942313333333296),\n",
       " (-87.722266666666698, 41.941841666666704),\n",
       " (-87.722248333333297, 41.941340000000004),\n",
       " (-87.722215000000006, 41.940808333333294),\n",
       " (-87.722205000000002, 41.940333333333299),\n",
       " (-87.722183333333305, 41.939846666666703),\n",
       " (-87.723441666666702, 41.939788333333297),\n",
       " (-87.723491666666703, 41.940491666666702),\n",
       " (-87.723523333333304, 41.940934999999996),\n",
       " (-87.72354, 41.941533333333297),\n",
       " (-87.7235533333333, 41.9422),\n",
       " (-87.723574999999997, 41.942743333333297),\n",
       " (-87.723614999999995, 41.943426666666703),\n",
       " (-87.723631666666705, 41.944134999999996),\n",
       " (-87.723818333333298, 41.944436666666704),\n",
       " (-87.724516666666702, 41.944384999999997),\n",
       " (-87.725321666666702, 41.944369999999999),\n",
       " (-87.726126666666701, 41.944351666666705),\n",
       " (-87.726931666666701, 41.944333333333297),\n",
       " (-87.727181666666695, 41.944775),\n",
       " (-87.724869999999996, 41.945903333333298),\n",
       " (-87.724828333333306, 41.945411666666701),\n",
       " (-87.7248083333333, 41.944811666666702),\n",
       " (-87.724783333333306, 41.944309999999994),\n",
       " (-87.724778333333305, 41.943800000000003),\n",
       " (-87.724756666666693, 41.943363333333295),\n",
       " (-87.724744999999999, 41.942734999999999),\n",
       " (-87.724730000000008, 41.942016666666703),\n",
       " (-87.724710000000002, 41.941305),\n",
       " (-87.725076666666695, 41.9410216666667),\n",
       " (-87.725851666666699, 41.941018333333297),\n",
       " (-87.725936666666698, 41.941540000000003),\n",
       " (-87.725984999999994, 41.942098333333298),\n",
       " (-87.726013333333299, 41.942598333333294),\n",
       " (-87.726048333333296, 41.943148333333298),\n",
       " (-87.726103333333299, 41.943643333333299),\n",
       " (-87.726128333333307, 41.944140000000004),\n",
       " (-87.726271666666705, 41.944431666666702),\n",
       " (-87.716251666666693, 41.939341666666706),\n",
       " (-87.716266666666698, 41.939853333333296),\n",
       " (-87.716346666666695, 41.940288333333299),\n",
       " (-87.716319999999996, 41.940779999999997),\n",
       " (-87.716373333333308, 41.941285000000001),\n",
       " (-87.716409999999996, 41.941786666666701),\n",
       " (-87.716616666666695, 41.942031666666701),\n",
       " (-87.717388333333304, 41.941981666666706),\n",
       " (-87.717550000000003, 41.941556666666706),\n",
       " (-87.717524999999995, 41.940944999999999),\n",
       " (-87.717956666666694, 41.940883333333296),\n",
       " (-87.718548333333302, 41.940878333333295),\n",
       " (-87.718661666666705, 41.94126),\n",
       " (-87.718684999999994, 41.941778333333296),\n",
       " (-87.718696666666702, 41.942215000000004),\n",
       " (-87.718725000000006, 41.942761666666705),\n",
       " (-87.718738333333306, 41.943345000000001),\n",
       " (-87.718766666666696, 41.943915000000004),\n",
       " (-87.718819999999994, 41.944391666666704),\n",
       " (-87.719503333333307, 41.9444083333333),\n",
       " (-87.720365000000001, 41.944413333333294),\n",
       " (-87.721164999999999, 41.944409999999998),\n",
       " (-87.72211999999999, 41.944398333333297),\n",
       " (-87.722300000000004, 41.944834999999998),\n",
       " (-87.722380000000001, 41.9454383333333),\n",
       " (-87.724728333333303, 41.942018333333294),\n",
       " (-87.724701666666704, 41.941340000000004),\n",
       " (-87.724935000000002, 41.9410216666667),\n",
       " (-87.725726666666702, 41.940984999999998),\n",
       " (-87.725909999999999, 41.941466666666706),\n",
       " (-87.725953333333308, 41.942043333333295),\n",
       " (-87.725980000000007, 41.942595000000004),\n",
       " (-87.725471666666692, 41.94276),\n",
       " (-87.724706666666705, 41.942766666666706),\n",
       " (-87.723871666666696, 41.942778333333294),\n",
       " (-87.723030000000008, 41.942801666666703),\n",
       " (-87.722259999999991, 41.942806666666705),\n",
       " (-87.721429999999998, 41.942856666666707),\n",
       " (-87.720576666666702, 41.942891666666704),\n",
       " (-87.719723333333306, 41.942896666666705),\n",
       " (-87.719104999999999, 41.942896666666705),\n",
       " (-87.718276666666696, 41.9429083333333),\n",
       " (-87.7177066666667, 41.942824999999999),\n",
       " (-87.7176616666667, 41.942196666666703),\n",
       " (-87.717631666666705, 41.941478333333293),\n",
       " (-87.717593333333298, 41.940798333333298),\n",
       " (-87.717559999999992, 41.940115000000006),\n",
       " (-87.717515000000006, 41.939405000000001),\n",
       " (-87.721046666666695, 41.939308333333294),\n",
       " (-87.721156666666701, 41.939796666666702),\n",
       " (-87.721194999999994, 41.9402616666667),\n",
       " (-87.721209999999999, 41.940713333333299),\n",
       " (-87.721234999999993, 41.941315000000003),\n",
       " (-87.721273333333301, 41.941971666666703),\n",
       " (-87.721281666666698, 41.942616666666702),\n",
       " (-87.721306666666692, 41.943221666666702),\n",
       " (-87.721318333333301, 41.943871666666702),\n",
       " (-87.721338333333307, 41.944504999999999),\n",
       " (-87.721900000000005, 41.944623333333297),\n",
       " (-87.722791666666694, 41.944603333333298),\n",
       " (-87.723626666666703, 41.944591666666703),\n",
       " (-87.724506666666699, 41.944565000000004),\n",
       " (-87.724809999999991, 41.944358333333298),\n",
       " (-87.724781666666701, 41.943854999999999),\n",
       " (-87.724746666666704, 41.943418333333298),\n",
       " (-87.724711666666693, 41.942844999999998),\n",
       " (-87.7240033333333, 41.942823333333294),\n",
       " (-87.7235716666667, 41.942968333333297),\n",
       " (-87.723605000000006, 41.943559999999998),\n",
       " (-87.723633333333296, 41.944198333333297),\n",
       " (-87.723831666666698, 41.944584999999996),\n",
       " (-87.724620000000002, 41.944575),\n",
       " (-87.725498333333306, 41.9445366666667),\n",
       " (-87.726338333333302, 41.944515000000003),\n",
       " (-87.727125000000001, 41.944528333333295),\n",
       " (-87.726611666666699, 41.9454316666667),\n",
       " (-87.725888333333302, 41.945463333333294),\n",
       " (-87.725216666666697, 41.945488333333294),\n",
       " (-87.7244666666667, 41.945508333333294),\n",
       " (-87.723714999999999, 41.945531666666703),\n",
       " (-87.722991666666701, 41.945535),\n",
       " (-87.722706666666696, 41.945803333333295),\n",
       " (-87.722743333333298, 41.946259999999995),\n",
       " (-87.723065000000005, 41.946451666666704),\n",
       " (-87.723933333333306, 41.946463333333298),\n",
       " (-87.720731666666694, 41.967741666666704),\n",
       " (-87.720705000000009, 41.967291666666704),\n",
       " (-87.72072, 41.967088333333294),\n",
       " (-87.720711666666702, 41.966578333333295),\n",
       " (-87.720693333333301, 41.9662966666667),\n",
       " (-87.720668333333307, 41.965903333333294),\n",
       " (-87.7206433333333, 41.965595),\n",
       " (-87.720626666666703, 41.965253333333294),\n",
       " (-87.720600000000005, 41.964383333333295),\n",
       " (-87.720579999999998, 41.963976666666703),\n",
       " (-87.720573333333306, 41.963540000000002),\n",
       " (-87.720559999999992, 41.963248333333297),\n",
       " (-87.720523333333304, 41.962861666666704),\n",
       " (-87.720500000000001, 41.962544999999999),\n",
       " (-87.720480000000009, 41.962166666666704),\n",
       " (-87.720489999999998, 41.961828333333294),\n",
       " (-87.720469999999992, 41.961529999999996),\n",
       " (-87.720460000000003, 41.961174999999997),\n",
       " (-87.720448333333294, 41.960816666666702),\n",
       " (-87.720421666666695, 41.960433333333299),\n",
       " (-87.720421666666695, 41.960096666666701),\n",
       " (-87.720399999999998, 41.9597816666667),\n",
       " (-87.720380000000006, 41.959471666666701),\n",
       " (-87.720375000000004, 41.959128333333297),\n",
       " (-87.720368333333298, 41.958721666666705),\n",
       " (-87.720338333333302, 41.958271666666704),\n",
       " (-87.720318333333296, 41.957809999999995),\n",
       " (-87.720320000000001, 41.957340000000002),\n",
       " (-87.72030500000001, 41.95682),\n",
       " (-87.720293333333302, 41.956440000000001),\n",
       " (-87.720228333333296, 41.956209999999999),\n",
       " (-87.7199283333333, 41.956161666666702),\n",
       " (-87.719580000000008, 41.956123333333295),\n",
       " (-87.719246666666692, 41.956431666666703),\n",
       " (-87.719253333333299, 41.956701666666703),\n",
       " (-87.719265000000007, 41.957184999999996),\n",
       " (-87.719283333333308, 41.957496666666707),\n",
       " (-87.719300000000004, 41.957988333333297),\n",
       " (-87.719311666666698, 41.958399999999997),\n",
       " (-87.719300000000004, 41.958824999999997),\n",
       " (-87.719308333333302, 41.959231666666703),\n",
       " (-87.719323333333307, 41.959721666666702),\n",
       " (-87.719326666666703, 41.960108333333295),\n",
       " (-87.71934499999999, 41.960608333333298),\n",
       " (-87.719350000000006, 41.961179999999999),\n",
       " (-87.719369999999998, 41.961563333333295),\n",
       " (-87.719364999999996, 41.9619583333333),\n",
       " (-87.719369999999998, 41.9624466666667),\n",
       " (-87.719383333333298, 41.962816666666704),\n",
       " (-87.719394999999992, 41.963320000000003),\n",
       " (-87.719409999999996, 41.963840000000005),\n",
       " (-87.71942, 41.964238333333299),\n",
       " (-87.719466666666705, 41.964684999999996),\n",
       " (-87.7194966666667, 41.965046666666701),\n",
       " (-87.719515000000001, 41.965415),\n",
       " (-87.719523333333299, 41.965906666666704),\n",
       " (-87.719446666666698, 41.966709999999999),\n",
       " (-87.719438333333301, 41.967100000000002),\n",
       " (-87.719458333333307, 41.9675716666667),\n",
       " (-87.719465, 41.968015000000001),\n",
       " (-87.718933333333297, 41.968091666666702),\n",
       " (-87.718483333333296, 41.968081666666706),\n",
       " (-87.718268333333299, 41.967911666666701),\n",
       " (-87.718260000000001, 41.967586666666705),\n",
       " (-87.718243333333305, 41.967138333333295),\n",
       " (-87.718203333333307, 41.966613333333299),\n",
       " (-87.718201666666701, 41.966234999999998),\n",
       " (-87.718159999999997, 41.965791666666703),\n",
       " (-87.718151666666699, 41.965328333333296),\n",
       " (-87.718103333333303, 41.964561666666704),\n",
       " (-87.718063333333305, 41.964046666666704),\n",
       " (-87.718024999999997, 41.963563333333298),\n",
       " (-87.717995000000002, 41.963188333333299),\n",
       " (-87.717973333333305, 41.962573333333296),\n",
       " (-87.717956666666694, 41.962045000000003),\n",
       " (-87.717974999999996, 41.961469999999998),\n",
       " (-87.717969999999994, 41.9609733333333),\n",
       " (-87.718013333333303, 41.960543333333298),\n",
       " (-87.718013333333303, 41.9601616666667),\n",
       " (-87.71799, 41.9597366666667),\n",
       " (-87.717968333333303, 41.9591833333333),\n",
       " (-87.717961666666696, 41.958776666666701),\n",
       " (-87.717955000000003, 41.958185),\n",
       " (-87.717926666666699, 41.957636666666701),\n",
       " (-87.717916666666696, 41.957228333333298),\n",
       " (-87.717893333333308, 41.956726666666704),\n",
       " (-87.717871666666696, 41.956328333333296),\n",
       " (-87.717846666666702, 41.955975000000002),\n",
       " (-87.717858333333297, 41.955629999999999),\n",
       " (-87.717843333333306, 41.955234999999995),\n",
       " (-87.717821666666694, 41.954798333333294),\n",
       " (-87.717703333333304, 41.954358333333296),\n",
       " (-87.716961666666705, 41.954321666666701),\n",
       " (-87.716623333333303, 41.954679999999996),\n",
       " (-87.716638333333307, 41.955076666666706),\n",
       " (-87.716658333333299, 41.955471666666703),\n",
       " (-87.716695000000001, 41.955964999999999),\n",
       " (-87.716719999999995, 41.956538333333299),\n",
       " (-87.716738333333296, 41.957018333333295),\n",
       " (-87.716743333333298, 41.957571666666702),\n",
       " (-87.716759999999994, 41.958009999999994),\n",
       " (-87.716790000000003, 41.9584166666667),\n",
       " (-87.716794999999991, 41.958708333333298),\n",
       " (-87.716798333333301, 41.959090000000003),\n",
       " (-87.716803333333303, 41.959434999999999),\n",
       " (-87.716843333333301, 41.959895000000003),\n",
       " (-87.7168566666667, 41.9603683333333),\n",
       " (-87.716868333333295, 41.960861666666702),\n",
       " (-87.716899999999995, 41.961226666666704),\n",
       " (-87.716938333333303, 41.961683333333298),\n",
       " (-87.716948333333306, 41.962159999999997),\n",
       " (-87.716958333333295, 41.962565000000005),\n",
       " (-87.716984999999994, 41.963149999999999),\n",
       " (-87.717006666666705, 41.963659999999997),\n",
       " (-87.717010000000002, 41.964121666666706),\n",
       " (-87.717023333333302, 41.964545000000001),\n",
       " (-87.717031666666699, 41.964906666666707),\n",
       " (-87.717033333333305, 41.965376666666707),\n",
       " (-87.717061666666694, 41.965775000000001),\n",
       " (-87.717088333333308, 41.966221666666705),\n",
       " (-87.717118333333303, 41.966738333333296),\n",
       " (-87.717111666666696, 41.967309999999998),\n",
       " (-87.717113333333302, 41.967816666666707),\n",
       " (-87.716756666666697, 41.968023333333299),\n",
       " (-87.716023333333297, 41.968053333333295),\n",
       " (-87.7158716666667, 41.967750000000002),\n",
       " (-87.715848333333298, 41.967341666666705),\n",
       " (-87.715818333333303, 41.9668383333333),\n",
       " (-87.715810000000005, 41.966526666666702),\n",
       " (-87.715771666666697, 41.966103333333294),\n",
       " (-87.715744999999998, 41.9657366666667),\n",
       " (-87.715734999999995, 41.965416666666705),\n",
       " (-87.715696666666702, 41.965206666666703),\n",
       " (-87.715661666666705, 41.964945),\n",
       " (-87.715628333333299, 41.964508333333299),\n",
       " (-87.715615, 41.964266666666703),\n",
       " (-87.715609999999998, 41.963826666666705),\n",
       " (-87.715616666666705, 41.963359999999994),\n",
       " (-87.715615, 41.963000000000001),\n",
       " (-87.715596666666698, 41.962586666666702),\n",
       " (-87.715564999999998, 41.962308333333297),\n",
       " (-87.715543333333301, 41.961858333333296),\n",
       " (-87.715523333333309, 41.960861666666702),\n",
       " (-87.715526666666705, 41.960340000000002),\n",
       " (-87.715555000000009, 41.959963333333299),\n",
       " (-87.715535000000003, 41.959485000000001),\n",
       " (-87.715541666666695, 41.959070000000004),\n",
       " (-87.715519999999998, 41.958635000000001),\n",
       " (-87.715509999999995, 41.958203333333294),\n",
       " (-87.715473333333307, 41.957795000000004),\n",
       " (-87.715446666666693, 41.957205000000002),\n",
       " (-87.715431666666703, 41.956670000000003),\n",
       " (-87.715409999999991, 41.956186666666703),\n",
       " (-87.715391666666704, 41.955708333333298),\n",
       " (-87.715365000000006, 41.955241666666701),\n",
       " (-87.715353333333297, 41.954906666666702),\n",
       " (-87.715023333333306, 41.954475000000002),\n",
       " (-87.714299999999994, 41.954441666666703),\n",
       " (-87.714146666666693, 41.954751666666702),\n",
       " (-87.714176666666702, 41.955170000000003),\n",
       " (-87.714200000000005, 41.955648333333293),\n",
       " (-87.714241666666695, 41.956081666666705),\n",
       " (-87.714250000000007, 41.9564733333333),\n",
       " (-87.714275000000001, 41.956911666666706),\n",
       " (-87.714296666666698, 41.957236666666702),\n",
       " (-87.714309999999998, 41.957495000000002),\n",
       " (-87.714311666666703, 41.957836666666701),\n",
       " (-87.714331666666695, 41.958301666666706),\n",
       " (-87.714340000000007, 41.958753333333298),\n",
       " (-87.714368333333297, 41.959236666666705),\n",
       " (-87.714373333333299, 41.959706666666705),\n",
       " (-87.714390000000009, 41.960286666666704),\n",
       " (-87.714406666666704, 41.960704999999997),\n",
       " (-87.714413333333297, 41.961013333333298),\n",
       " (-87.714439999999996, 41.961325000000002),\n",
       " (-87.714449999999999, 41.961690000000004),\n",
       " (-87.714461666666693, 41.962128333333297),\n",
       " (-87.714478333333304, 41.962568333333294),\n",
       " (-87.714510000000004, 41.963063333333295),\n",
       " (-87.714515000000006, 41.9634516666667),\n",
       " (-87.714528333333305, 41.963970000000003),\n",
       " (-87.713880000000003, 41.964343333333296),\n",
       " (-87.713374999999999, 41.964500000000001),\n",
       " (-87.713333333333296, 41.965203333333299),\n",
       " (-87.713369999999998, 41.965873333333299),\n",
       " (-87.713441666666697, 41.966315000000002),\n",
       " (-87.71408000000001, 41.9663683333333),\n",
       " (-87.714496666666705, 41.966411666666701),\n",
       " (-87.714609999999993, 41.967075000000001),\n",
       " (-87.714656666666698, 41.967411666666706),\n",
       " (-87.714648333333301, 41.967843333333299),\n",
       " (-87.714183333333295, 41.967880000000001),\n",
       " (-87.713428333333297, 41.96772),\n",
       " (-87.713388333333299, 41.967343333333297),\n",
       " (-87.713364999999996, 41.966904999999997),\n",
       " (-87.713419999999999, 41.964366666666706),\n",
       " (-87.713398333333302, 41.963818333333293),\n",
       " (-87.713359999999994, 41.96331),\n",
       " (-87.713323333333307, 41.962793333333295),\n",
       " (-87.713261666666696, 41.962351666666706),\n",
       " (-87.713228333333305, 41.961933333333299),\n",
       " (-87.713221666666698, 41.961504999999995),\n",
       " (-87.713861666666702, 41.961433333333297),\n",
       " (-87.714653333333302, 41.961376666666702),\n",
       " (-87.7153633333333, 41.961334999999998),\n",
       " (-87.716023333333297, 41.961325000000002),\n",
       " (-87.716796666666696, 41.961269999999999),\n",
       " (-87.718391666666705, 41.961213333333298),\n",
       " (-87.719051666666701, 41.961211666666706),\n",
       " (-87.719178333333303, 41.961596666666701),\n",
       " (-87.719178333333303, 41.961929999999995),\n",
       " (-87.7192133333333, 41.962315000000004),\n",
       " (-87.719228333333305, 41.962701666666703),\n",
       " (-87.718919999999997, 41.962778333333297),\n",
       " (-87.718476666666703, 41.962766666666703),\n",
       " (-87.717939999999999, 41.962850000000003),\n",
       " (-87.717396666666701, 41.9628716666667),\n",
       " (-87.717086666666702, 41.962888333333296),\n",
       " (-87.716276666666701, 41.962998333333296),\n",
       " (-87.715696666666702, 41.9630266666667),\n",
       " (-87.715101666666698, 41.963045000000001),\n",
       " (-87.714585, 41.962991666666703),\n",
       " (-87.713963333333297, 41.963011666666702),\n",
       " (-87.713306666666696, 41.960426666666706),\n",
       " (-87.713281666666703, 41.959748333333295),\n",
       " (-87.713364999999996, 41.959404999999997),\n",
       " (-87.713863333333308, 41.959384999999997),\n",
       " (-87.714390000000009, 41.959355000000002),\n",
       " (-87.715056666666698, 41.959321666666703),\n",
       " (-87.715563333333307, 41.959309999999995),\n",
       " (-87.716238333333308, 41.959288333333298),\n",
       " (-87.717334999999991, 41.959248333333299),\n",
       " (-87.717860000000002, 41.959245000000003),\n",
       " (-87.718516666666702, 41.9592283333333),\n",
       " (-87.719014999999999, 41.959193333333296),\n",
       " (-87.719751666666696, 41.959113333333299),\n",
       " (-87.720073333333303, 41.958756666666702),\n",
       " (-87.720051666666691, 41.958323333333297),\n",
       " (-87.720050000000001, 41.957893333333296),\n",
       " (-87.720041666666702, 41.957630000000002),\n",
       " (-87.719608333333298, 41.957596666666703),\n",
       " (-87.719081666666696, 41.957571666666702),\n",
       " (-87.718531666666692, 41.957556666666704),\n",
       " (-87.717993333333297, 41.957520000000002),\n",
       " (-87.717415000000003, 41.957509999999999),\n",
       " (-87.716991666666701, 41.957493333333296),\n",
       " (-87.716300000000004, 41.957506666666703),\n",
       " (-87.715608333333307, 41.957508333333294),\n",
       " (-87.714883333333304, 41.957541666666707),\n",
       " (-87.714365000000001, 41.957574999999999),\n",
       " (-87.713755000000006, 41.957558333333296),\n",
       " (-87.713336666666692, 41.957531666666704),\n",
       " (-87.713243333333295, 41.957066666666705),\n",
       " (-87.713103333333308, 41.956720000000004),\n",
       " (-87.712673333333299, 41.956693333333298),\n",
       " (-87.712201666666701, 41.956688333333297),\n",
       " (-87.711621666666701, 41.956670000000003),\n",
       " (-87.711116666666697, 41.956670000000003),\n",
       " (-87.710809999999995, 41.956645000000002),\n",
       " (-87.709686666666698, 41.956569999999999),\n",
       " (-87.709090000000003, 41.956583333333299),\n",
       " (-87.708484999999996, 41.955554999999997),\n",
       " (-87.708846666666702, 41.955511666666702),\n",
       " (-87.709215, 41.955494999999999),\n",
       " (-87.709654999999998, 41.955500000000001),\n",
       " (-87.710063333333295, 41.955511666666702),\n",
       " (-87.710400000000007, 41.955565),\n",
       " (-87.710868333333295, 41.955498333333296),\n",
       " (-87.711368333333297, 41.955451666666704),\n",
       " (-87.712044999999989, 41.955421666666702),\n",
       " (-87.71249499999999, 41.9554233333333),\n",
       " (-87.713026666666693, 41.955398333333299),\n",
       " (-87.713589999999996, 41.955420000000004),\n",
       " (-87.714221666666703, 41.955445000000005),\n",
       " (-87.715068333333306, 41.955353333333299),\n",
       " (-87.715748333333295, 41.955259999999996),\n",
       " (-87.716308333333302, 41.955275),\n",
       " (-87.716953333333308, 41.955269999999999),\n",
       " (-87.717410000000001, 41.955190000000002),\n",
       " (-87.717416666666693, 41.954666666666704),\n",
       " (-87.717386666666698, 41.954116666666707),\n",
       " (-87.717398333333307, 41.953834999999998),\n",
       " (-87.717344999999995, 41.953643333333297),\n",
       " (-87.712815000000006, 41.954430000000002),\n",
       " (-87.712630000000004, 41.95476),\n",
       " (-87.712061666666699, 41.954774999999998),\n",
       " (-87.711558333333301, 41.954778333333294),\n",
       " (-87.711081666666701, 41.9548116666667),\n",
       " (-87.710581666666698, 41.954828333333296),\n",
       " (-87.710558333333296, 41.954486666666703),\n",
       " (-87.710548333333307, 41.9541683333333),\n",
       " (-87.709811666666695, 41.953975),\n",
       " (-87.709313333333299, 41.954143333333299),\n",
       " (-87.709341666666703, 41.954665000000006),\n",
       " (-87.709330000000008, 41.955071666666704),\n",
       " (-87.709378333333305, 41.955563333333295),\n",
       " (-87.709726666666697, 41.955636666666706),\n",
       " (-87.710255000000004, 41.955611666666705),\n",
       " (-87.710755000000006, 41.955616666666707),\n",
       " (-87.711231666666691, 41.955636666666706),\n",
       " (-87.711559999999992, 41.955606666666704),\n",
       " (-87.712156666666701, 41.955643333333299),\n",
       " (-87.712651666666702, 41.9556616666667),\n",
       " (-87.712696666666702, 41.956600000000002),\n",
       " (-87.712149999999994, 41.956586666666702),\n",
       " (-87.711538333333309, 41.956584999999997),\n",
       " (-87.710921666666692, 41.956583333333299),\n",
       " (-87.710556666666704, 41.956576666666706),\n",
       " (-87.710028333333298, 41.956526666666704),\n",
       " (-87.709294999999997, 41.95655),\n",
       " (-87.708664999999996, 41.956553333333297),\n",
       " (-87.708460000000002, 41.956578333333297),\n",
       " (-87.7087516666667, 41.957416666666703),\n",
       " (-87.709116666666702, 41.957416666666703),\n",
       " (-87.709514999999996, 41.957383333333297),\n",
       " (-87.709941666666694, 41.957355),\n",
       " (-87.710746666666694, 41.957268333333296),\n",
       " (-87.711638333333298, 41.957225000000001),\n",
       " (-87.712234999999993, 41.9572516666667),\n",
       " (-87.712780000000009, 41.958069999999999),\n",
       " (-87.7124666666667, 41.958193333333298),\n",
       " (-87.712001666666694, 41.958211666666706),\n",
       " (-87.711406666666704, 41.958224999999999),\n",
       " (-87.710823333333295, 41.9581916666667),\n",
       " (-87.710630000000009, 41.958413333333297),\n",
       " (-87.710658333333299, 41.9588483333333),\n",
       " (-87.710554999999999, 41.959105000000001),\n",
       " (-87.710088333333303, 41.959115000000004),\n",
       " (-87.709648333333305, 41.959123333333295),\n",
       " (-87.709086666666693, 41.959140000000005),\n",
       " (-87.708488333333307, 41.959154999999996),\n",
       " (-87.708298333333303, 41.959123333333295),\n",
       " (-87.709221666666693, 41.957328333333294),\n",
       " (-87.709326666666698, 41.957648333333296),\n",
       " (-87.709381666666701, 41.958058333333298),\n",
       " (-87.709415000000007, 41.958428333333295),\n",
       " (-87.709459999999993, 41.958816666666706),\n",
       " (-87.709469999999996, 41.959223333333298),\n",
       " (-87.709465000000009, 41.959665000000001),\n",
       " (-87.709461666666698, 41.960029999999996),\n",
       " (-87.709474999999998, 41.960470000000001),\n",
       " (-87.710201666666705, 41.960806666666706),\n",
       " (-87.710613333333299, 41.960523333333299),\n",
       " (-87.7105866666667, 41.960106666666704),\n",
       " (-87.710975000000005, 41.959911666666706),\n",
       " (-87.711536666666703, 41.959911666666706),\n",
       " (-87.712149999999994, 41.959831666666702),\n",
       " (-87.712831666666702, 41.959111666666701),\n",
       " (-87.712413333333302, 41.959026666666702),\n",
       " (-87.7118866666667, 41.959054999999999),\n",
       " (-87.711258333333305, 41.959084999999995),\n",
       " (-87.710651666666692, 41.959136666666701),\n",
       " (-87.710049999999995, 41.959209999999999),\n",
       " (-87.709419999999994, 41.959215),\n",
       " (-87.708775000000003, 41.959223333333298),\n",
       " (-87.710626666666698, 41.960180000000001),\n",
       " (-87.710575000000006, 41.959695000000004),\n",
       " (-87.710560000000001, 41.959254999999999),\n",
       " (-87.710530000000006, 41.958750000000002),\n",
       " (-87.710518333333297, 41.958261666666701),\n",
       " (-87.710499999999996, 41.957825),\n",
       " (-87.7104966666667, 41.957363333333298),\n",
       " (-87.710488333333302, 41.956908333333296),\n",
       " (-87.710476666666693, 41.956434999999999),\n",
       " (-87.710486666666696, 41.9559766666667),\n",
       " (-87.710456666666701, 41.955538333333294),\n",
       " (-87.710403333333304, 41.955113333333294),\n",
       " (-87.710388333333299, 41.9546833333333),\n",
       " (-87.710408333333305, 41.954281666666702),\n",
       " (-87.712948333333301, 41.965381666666701),\n",
       " (-87.712505000000007, 41.965413333333295),\n",
       " (-87.711921666666697, 41.965416666666705),\n",
       " (-87.711326666666693, 41.9654283333333),\n",
       " (-87.710735, 41.965456666666704),\n",
       " (-87.709958333333304, 41.965488333333298),\n",
       " (-87.709283333333303, 41.965461666666705),\n",
       " (-87.708631666666705, 41.9665033333333),\n",
       " (-87.709135000000003, 41.966518333333298),\n",
       " (-87.709553333333304, 41.966520000000003),\n",
       " (-87.709690000000009, 41.966765000000002),\n",
       " (-87.709693333333306, 41.967128333333299),\n",
       " (-87.7096916666667, 41.9675333333333),\n",
       " (-87.709694999999996, 41.9679133333333),\n",
       " (-87.710864999999998, 41.968096666666703),\n",
       " (-87.710841666666695, 41.967731666666701),\n",
       " (-87.710848333333303, 41.967333333333293),\n",
       " (-87.710863333333307, 41.967026666666705),\n",
       " (-87.710875000000001, 41.966659999999997),\n",
       " (-87.710906666666702, 41.966353333333295),\n",
       " (-87.71087, 41.965990000000005),\n",
       " (-87.7108833333333, 41.96564),\n",
       " (-87.710881666666694, 41.965323333333295),\n",
       " (-87.7108833333333, 41.9650033333333),\n",
       " (-87.710891666666697, 41.964618333333298),\n",
       " (-87.710853333333304, 41.964203333333295),\n",
       " (-87.710838333333299, 41.9636833333333),\n",
       " (-87.710844999999992, 41.963308333333295),\n",
       " (-87.710823333333295, 41.9629883333333),\n",
       " (-87.710813333333306, 41.962566666666703),\n",
       " (-87.710805000000008, 41.962111666666701),\n",
       " (-87.710801666666697, 41.961690000000004),\n",
       " (-87.711926666666699, 41.961404999999999),\n",
       " (-87.711928333333304, 41.961701666666706),\n",
       " (-87.711905000000002, 41.962020000000003),\n",
       " (-87.711930000000009, 41.962384999999998),\n",
       " (-87.711928333333304, 41.962730000000001),\n",
       " (-87.711921666666697, 41.963111666666705),\n",
       " (-87.7119316666667, 41.963521666666701),\n",
       " (-87.711915000000005, 41.963948333333299),\n",
       " (-87.7119133333333, 41.964298333333296),\n",
       " (-87.712026666666702, 41.964538333333294),\n",
       " (-87.712569999999999, 41.964531666666701),\n",
       " (-87.712485000000001, 41.962958333333297),\n",
       " (-87.712033333333295, 41.962969999999999),\n",
       " (-87.711516666666697, 41.962984999999996),\n",
       " (-87.711025000000006, 41.962996666666704),\n",
       " (-87.710513333333296, 41.962998333333296),\n",
       " (-87.710001666666699, 41.963009999999997),\n",
       " (-87.709568333333308, 41.963029999999996),\n",
       " (-87.7090933333333, 41.963029999999996),\n",
       " (-87.708553333333299, 41.9626083333333),\n",
       " (-87.708501666666692, 41.962035),\n",
       " (-87.709569999999999, 41.9612816666667),\n",
       " (-87.709613333333309, 41.961688333333299),\n",
       " (-87.709599999999995, 41.962004999999998),\n",
       " (-87.709608333333307, 41.962474999999998),\n",
       " (-87.709608333333307, 41.962881666666703),\n",
       " (-87.709593333333302, 41.963380000000001),\n",
       " (-87.709603333333305, 41.963853333333297),\n",
       " (-87.709603333333305, 41.964269999999999),\n",
       " (-87.709226666666694, 41.964433333333297),\n",
       " (-87.710449999999994, 41.953306666666705),\n",
       " (-87.710428333333297, 41.952978333333299),\n",
       " (-87.710421666666704, 41.9526233333333),\n",
       " (-87.710413333333307, 41.952185),\n",
       " (-87.710403333333304, 41.951671666666705),\n",
       " (-87.710406666666699, 41.951131666666704),\n",
       " (-87.710386666666693, 41.950629999999997),\n",
       " (-87.710368333333307, 41.950208333333293),\n",
       " (-87.710369999999998, 41.9496866666667),\n",
       " (-87.710351666666696, 41.949120000000001),\n",
       " (-87.710341666666693, 41.948549999999997),\n",
       " (-87.711191666666693, 41.948496666666706),\n",
       " (-87.711543333333296, 41.948988333333297),\n",
       " (-87.711576666666701, 41.949418333333298),\n",
       " (-87.711581666666703, 41.949903333333296),\n",
       " (-87.711583333333309, 41.950371666666705),\n",
       " (-87.711594999999988, 41.95082),\n",
       " (-87.711600000000004, 41.951338333333297),\n",
       " (-87.711618333333305, 41.951788333333297),\n",
       " (-87.711619999999996, 41.952080000000002),\n",
       " (-87.711611666666698, 41.952404999999999),\n",
       " (-87.711651666666697, 41.952676666666704),\n",
       " (-87.711671666666703, 41.952993333333296),\n",
       " (-87.711646666666695, 41.953299999999999),\n",
       " (-87.711579999999998, 41.953556666666707),\n",
       " (-87.710864999999998, 41.953586666666702),\n",
       " (-87.709301666666704, 41.953506666666705),\n",
       " (-87.709271666666695, 41.953081666666705),\n",
       " (-87.709249999999997, 41.952690000000004),\n",
       " (-87.709216666666705, 41.952280000000002),\n",
       " (-87.709213333333295, 41.951819999999998),\n",
       " (-87.709221666666693, 41.951418333333294),\n",
       " (-87.709218333333297, 41.950948333333294),\n",
       " (-87.709226666666694, 41.950531666666706),\n",
       " (-87.709206666666702, 41.950176666666707),\n",
       " (-87.709209999999999, 41.949858333333296),\n",
       " (-87.709209999999999, 41.9495),\n",
       " (-87.709215, 41.949113333333294),\n",
       " (-87.709230000000005, 41.9487466666667),\n",
       " (-87.709205000000011, 41.948318333333297),\n",
       " (-87.709193333333303, 41.947948333333294),\n",
       " (-87.7091833333333, 41.947728333333295),\n",
       " (-87.709180000000003, 41.947340000000004),\n",
       " (-87.707986666666699, 41.948595000000005),\n",
       " (-87.708533333333307, 41.9486116666667),\n",
       " (-87.709059999999994, 41.948606666666706),\n",
       " (-87.70966, 41.948563333333297),\n",
       " (-87.7100783333333, 41.948529999999998),\n",
       " (-87.712688333333304, 41.950886666666705),\n",
       " (-87.71271999999999, 41.951471666666706),\n",
       " (-87.71271999999999, 41.951958333333295),\n",
       " (-87.712220000000002, 41.9519983333333),\n",
       " (-87.711621666666701, 41.952011666666706),\n",
       " (-87.71096, 41.952031666666706),\n",
       " (-87.710318333333305, 41.952041666666702),\n",
       " (-87.709748333333295, 41.95205),\n",
       " (-87.709243333333305, 41.952068333333294),\n",
       " (-87.708628333333309, 41.952084999999997),\n",
       " (-87.708138333333295, 41.950338333333299),\n",
       " (-87.708548333333297, 41.950276666666703),\n",
       " (-87.709026666666702, 41.950251666666702),\n",
       " (-87.709633333333301, 41.950249999999997),\n",
       " (-87.710161666666693, 41.950251666666702),\n",
       " (-87.710771666666702, 41.950240000000001),\n",
       " (-87.711246666666696, 41.950223333333298),\n",
       " (-87.711833333333303, 41.950226666666701),\n",
       " (-87.712756666666692, 41.9487466666667),\n",
       " (-87.712146666666698, 41.94847),\n",
       " (-87.711641666666694, 41.948445),\n",
       " (-87.711550000000003, 41.948005000000002),\n",
       " (-87.711541666666704, 41.947580000000002),\n",
       " (-87.71153000000001, 41.947096666666702),\n",
       " (-87.711969999999994, 41.946716666666703),\n",
       " (-87.712731666666699, 41.945869999999999),\n",
       " (-87.71271999999999, 41.945216666666703),\n",
       " (-87.712701666666703, 41.944533333333297),\n",
       " (-87.712686666666698, 41.9438666666667),\n",
       " (-87.712676666666695, 41.943203333333294),\n",
       " (-87.712773333333303, 41.942681666666701),\n",
       " (-87.712783333333306, 41.9420516666667),\n",
       " (-87.712795, 41.940826666666702),\n",
       " (-87.716065, 41.939441666666703),\n",
       " (-87.716248333333297, 41.939668333333294),\n",
       " (-87.716246666666692, 41.940010000000001),\n",
       " (-87.716094999999996, 41.940215000000002),\n",
       " (-87.715718333333299, 41.940215000000002),\n",
       " (-87.715366666666696, 41.940220000000004),\n",
       " (-87.714928333333305, 41.940266666666702),\n",
       " (-87.714503333333298, 41.940293333333294),\n",
       " (-87.714106666666694, 41.940283333333298),\n",
       " (-87.713698333333298, 41.940258333333297),\n",
       " (-87.713296666666693, 41.940341666666704),\n",
       " (-87.713341666666693, 41.940624999999997),\n",
       " (-87.713606666666692, 41.940884999999994),\n",
       " (-87.714036666666701, 41.941078333333294),\n",
       " (-87.714531666666701, 41.941108333333297),\n",
       " (-87.714996666666693, 41.941093333333299),\n",
       " (-87.715490000000003, 41.941078333333294),\n",
       " (-87.715900000000005, 41.941071666666701),\n",
       " (-87.716288333333296, 41.9410733333333),\n",
       " (-87.716329999999999, 41.9412466666667),\n",
       " (-87.716326666666703, 41.941499999999998),\n",
       " (-87.716401666666698, 41.942023333333296),\n",
       " (-87.7168383333333, 41.942025000000001),\n",
       " (-87.717233333333297, 41.942019999999999),\n",
       " (-87.717388333333304, 41.941780000000001),\n",
       " (-87.717378333333301, 41.941473333333299),\n",
       " (-87.717368333333297, 41.941153333333297),\n",
       " (-87.717358333333308, 41.940795000000001),\n",
       " ...]"
      ]
     },
     "execution_count": 1002,
     "metadata": {},
     "output_type": "execute_result"
    }
   ],
   "source": [
    "jul_13_cords"
   ]
  },
  {
   "cell_type": "code",
   "execution_count": 1003,
   "metadata": {},
   "outputs": [
    {
     "name": "stderr",
     "output_type": "stream",
     "text": [
      "100%|██████████| 151/151 [00:04<00:00, 36.76it/s]\n"
     ]
    }
   ],
   "source": [
    "locs = []\n",
    "for j in tqdm.tqdm(trap_cords):\n",
    "    locs.append([vincenty(j, cord).kilometers for cord in jul_13_cords])"
   ]
  },
  {
   "cell_type": "code",
   "execution_count": 1013,
   "metadata": {},
   "outputs": [
    {
     "data": {
      "text/plain": [
       "6.830138646065171"
      ]
     },
     "execution_count": 1013,
     "metadata": {},
     "output_type": "execute_result"
    }
   ],
   "source": [
    "min(locs[0])"
   ]
  },
  {
   "cell_type": "code",
   "execution_count": 1033,
   "metadata": {},
   "outputs": [],
   "source": [
    "min_jul_13_sprays = []\n",
    "for lst in locs:\n",
    "    min_jul_13_sprays.append(min(lst))\n",
    "cols = ['spray_distance']\n",
    "min_jul_13_sprays = pd.DataFrame(min_jul_13_sprays, columns=cols)\n",
    "min_jul_13_sprays['trap'] = traps.Trap.values"
   ]
  },
  {
   "cell_type": "code",
   "execution_count": 1075,
   "metadata": {
    "scrolled": true
   },
   "outputs": [
    {
     "data": {
      "text/html": [
       "<div>\n",
       "<style>\n",
       "    .dataframe thead tr:only-child th {\n",
       "        text-align: right;\n",
       "    }\n",
       "\n",
       "    .dataframe thead th {\n",
       "        text-align: left;\n",
       "    }\n",
       "\n",
       "    .dataframe tbody tr th {\n",
       "        vertical-align: top;\n",
       "    }\n",
       "</style>\n",
       "<table border=\"1\" class=\"dataframe\">\n",
       "  <thead>\n",
       "    <tr style=\"text-align: right;\">\n",
       "      <th></th>\n",
       "      <th>spray_distance</th>\n",
       "      <th>trap</th>\n",
       "    </tr>\n",
       "  </thead>\n",
       "  <tbody>\n",
       "    <tr>\n",
       "      <th>125</th>\n",
       "      <td>0.002538</td>\n",
       "      <td>T218A</td>\n",
       "    </tr>\n",
       "    <tr>\n",
       "      <th>136</th>\n",
       "      <td>0.002573</td>\n",
       "      <td>T228</td>\n",
       "    </tr>\n",
       "    <tr>\n",
       "      <th>42</th>\n",
       "      <td>0.002858</td>\n",
       "      <td>T218</td>\n",
       "    </tr>\n",
       "    <tr>\n",
       "      <th>44</th>\n",
       "      <td>0.006637</td>\n",
       "      <td>T001</td>\n",
       "    </tr>\n",
       "    <tr>\n",
       "      <th>126</th>\n",
       "      <td>0.027800</td>\n",
       "      <td>T218C</td>\n",
       "    </tr>\n",
       "    <tr>\n",
       "      <th>112</th>\n",
       "      <td>0.099491</td>\n",
       "      <td>T027</td>\n",
       "    </tr>\n",
       "    <tr>\n",
       "      <th>73</th>\n",
       "      <td>0.145654</td>\n",
       "      <td>T039</td>\n",
       "    </tr>\n",
       "    <tr>\n",
       "      <th>127</th>\n",
       "      <td>0.175795</td>\n",
       "      <td>T218B</td>\n",
       "    </tr>\n",
       "    <tr>\n",
       "      <th>62</th>\n",
       "      <td>0.188291</td>\n",
       "      <td>T030</td>\n",
       "    </tr>\n",
       "    <tr>\n",
       "      <th>51</th>\n",
       "      <td>0.388827</td>\n",
       "      <td>T040</td>\n",
       "    </tr>\n",
       "  </tbody>\n",
       "</table>\n",
       "</div>"
      ],
      "text/plain": [
       "     spray_distance   trap\n",
       "125        0.002538  T218A\n",
       "136        0.002573   T228\n",
       "42         0.002858   T218\n",
       "44         0.006637   T001\n",
       "126        0.027800  T218C\n",
       "112        0.099491   T027\n",
       "73         0.145654   T039\n",
       "127        0.175795  T218B\n",
       "62         0.188291   T030\n",
       "51         0.388827   T040"
      ]
     },
     "execution_count": 1075,
     "metadata": {},
     "output_type": "execute_result"
    }
   ],
   "source": [
    "min_jul_13_sprays.sort_values('spray_distance').head(10)"
   ]
  },
  {
   "cell_type": "code",
   "execution_count": 1078,
   "metadata": {},
   "outputs": [
    {
     "data": {
      "text/html": [
       "<div>\n",
       "<style>\n",
       "    .dataframe thead tr:only-child th {\n",
       "        text-align: right;\n",
       "    }\n",
       "\n",
       "    .dataframe thead th {\n",
       "        text-align: left;\n",
       "    }\n",
       "\n",
       "    .dataframe tbody tr th {\n",
       "        vertical-align: top;\n",
       "    }\n",
       "</style>\n",
       "<table border=\"1\" class=\"dataframe\">\n",
       "  <thead>\n",
       "    <tr style=\"text-align: right;\">\n",
       "      <th></th>\n",
       "      <th>spray_distance</th>\n",
       "      <th>trap</th>\n",
       "    </tr>\n",
       "  </thead>\n",
       "  <tbody>\n",
       "    <tr>\n",
       "      <th>122</th>\n",
       "      <td>17.837029</td>\n",
       "      <td>T200A</td>\n",
       "    </tr>\n",
       "    <tr>\n",
       "      <th>100</th>\n",
       "      <td>18.052657</td>\n",
       "      <td>T209</td>\n",
       "    </tr>\n",
       "    <tr>\n",
       "      <th>124</th>\n",
       "      <td>18.395689</td>\n",
       "      <td>T200B</td>\n",
       "    </tr>\n",
       "    <tr>\n",
       "      <th>99</th>\n",
       "      <td>18.446176</td>\n",
       "      <td>T206</td>\n",
       "    </tr>\n",
       "    <tr>\n",
       "      <th>115</th>\n",
       "      <td>18.956173</td>\n",
       "      <td>T221</td>\n",
       "    </tr>\n",
       "    <tr>\n",
       "      <th>111</th>\n",
       "      <td>19.187842</td>\n",
       "      <td>T103</td>\n",
       "    </tr>\n",
       "    <tr>\n",
       "      <th>101</th>\n",
       "      <td>19.338899</td>\n",
       "      <td>T212</td>\n",
       "    </tr>\n",
       "    <tr>\n",
       "      <th>109</th>\n",
       "      <td>19.723666</td>\n",
       "      <td>T100</td>\n",
       "    </tr>\n",
       "    <tr>\n",
       "      <th>102</th>\n",
       "      <td>19.734538</td>\n",
       "      <td>T215</td>\n",
       "    </tr>\n",
       "    <tr>\n",
       "      <th>118</th>\n",
       "      <td>21.350557</td>\n",
       "      <td>T903</td>\n",
       "    </tr>\n",
       "  </tbody>\n",
       "</table>\n",
       "</div>"
      ],
      "text/plain": [
       "     spray_distance   trap\n",
       "122       17.837029  T200A\n",
       "100       18.052657   T209\n",
       "124       18.395689  T200B\n",
       "99        18.446176   T206\n",
       "115       18.956173   T221\n",
       "111       19.187842   T103\n",
       "101       19.338899   T212\n",
       "109       19.723666   T100\n",
       "102       19.734538   T215\n",
       "118       21.350557   T903"
      ]
     },
     "execution_count": 1078,
     "metadata": {},
     "output_type": "execute_result"
    }
   ],
   "source": [
    "min_jul_13_sprays.sort_values('spray_distance').tail(10)"
   ]
  },
  {
   "cell_type": "code",
   "execution_count": 1061,
   "metadata": {
    "collapsed": true
   },
   "outputs": [],
   "source": [
    "ts1 = pd.to_datetime('2013-1-1')\n",
    "ts2 = pd.to_datetime('2013-07-25')"
   ]
  },
  {
   "cell_type": "code",
   "execution_count": 1063,
   "metadata": {},
   "outputs": [
    {
     "name": "stderr",
     "output_type": "stream",
     "text": [
      "/Users/trevorwhite/anaconda3/lib/python3.6/site-packages/ipykernel/__main__.py:2: UserWarning: Boolean Series key will be reindexed to match DataFrame index.\n",
      "  from ipykernel import kernelapp as app\n"
     ]
    }
   ],
   "source": [
    "close_proximity = train.loc[(train['Date'] > ts1) & (train['Date'] < ts2)][train['Trap'].isin(['T218A', 'T228', 'T218', 'T001', 'T218C', 'T027', 'T039', 'T218B',\n",
    "       'T030', 'T040'])][['Date', 'NumMosquitos']].groupby('Date').NumMosquitos.mean()"
   ]
  },
  {
   "cell_type": "code",
   "execution_count": null,
   "metadata": {
    "collapsed": true
   },
   "outputs": [],
   "source": []
  },
  {
   "cell_type": "code",
   "execution_count": 1070,
   "metadata": {},
   "outputs": [
    {
     "name": "stderr",
     "output_type": "stream",
     "text": [
      "/Users/trevorwhite/anaconda3/lib/python3.6/site-packages/ipykernel/__main__.py:2: UserWarning: Boolean Series key will be reindexed to match DataFrame index.\n",
      "  from ipykernel import kernelapp as app\n"
     ]
    }
   ],
   "source": [
    "far_proximity = train.loc[(train['Date'] > ts1) & (train['Date'] < ts2)][train['Trap'].isin(['T200A', 'T209', 'T200B', 'T206', 'T221', 'T103', 'T212', 'T100',\n",
    "       'T215', 'T903'])][['Date', 'NumMosquitos']].groupby('Date').NumMosquitos.mean()"
   ]
  },
  {
   "cell_type": "code",
   "execution_count": null,
   "metadata": {
    "collapsed": true
   },
   "outputs": [],
   "source": [
    "plt.plot(df.index, df.A)\n",
    "plt.plot(df[df.weekend=='yes'].index, df[df.weekend=='yes'].A, 'ro')\n"
   ]
  },
  {
   "cell_type": "code",
   "execution_count": 1084,
   "metadata": {},
   "outputs": [
    {
     "data": {
      "text/plain": [
       "DatetimeIndex(['2013-06-07', '2013-06-14', '2013-06-21', '2013-06-27',\n",
       "               '2013-07-08', '2013-07-12', '2013-07-19'],\n",
       "              dtype='datetime64[ns]', name='Date', freq=None)"
      ]
     },
     "execution_count": 1084,
     "metadata": {},
     "output_type": "execute_result"
    }
   ],
   "source": [
    "close_proximity.index"
   ]
  },
  {
   "cell_type": "code",
   "execution_count": 1086,
   "metadata": {
    "collapsed": true
   },
   "outputs": [],
   "source": [
    "ts1 = pd.to_datetime('2013-07-17')"
   ]
  },
  {
   "cell_type": "code",
   "execution_count": 1096,
   "metadata": {},
   "outputs": [
    {
     "data": {
      "text/plain": [
       "Text(0,0.5,'NumMosquitos')"
      ]
     },
     "execution_count": 1096,
     "metadata": {},
     "output_type": "execute_result"
    },
    {
     "data": {
      "image/png": "[encoded data removed]",
      "text/plain": [
       "<matplotlib.figure.Figure at 0x1a3c3de4e0>"
      ]
     },
     "metadata": {},
     "output_type": "display_data"
    }
   ],
   "source": [
    "fig, ax = plt.subplots()\n",
    "ax.plot(close_proximity.index, close_proximity.values)\n",
    "ax.plot()\n",
    "plt.xticks(rotation=30)\n",
    "ax.plot(ts1, 32, 'r*')\n",
    "plt.title('Traps within .4 miles of spray event (10 total)')\n",
    "plt.ylabel('NumMosquitos')\n"
   ]
  },
  {
   "cell_type": "code",
   "execution_count": 1077,
   "metadata": {},
   "outputs": [
    {
     "data": {
      "text/plain": [
       "Text(0.5,1,'Traps within .4 miles of spray event (10 total)')"
      ]
     },
     "execution_count": 1077,
     "metadata": {},
     "output_type": "execute_result"
    },
    {
     "data": {
      "image/png": "[encoded data removed]",
      "text/plain": [
       "<matplotlib.figure.Figure at 0x1a40de0668>"
      ]
     },
     "metadata": {},
     "output_type": "display_data"
    }
   ],
   "source": [
    "close_proximity.plot()\n",
    "plt.ylabel('NumMosquitos')\n",
    "plt.title('Traps within .4 miles of spray event (10 total)')\n",
    "plot(x_pos,y_pos,'r*')"
   ]
  },
  {
   "cell_type": "code",
   "execution_count": 1100,
   "metadata": {},
   "outputs": [
    {
     "data": {
      "text/plain": [
       "[<matplotlib.lines.Line2D at 0x1a3e9c1cf8>]"
      ]
     },
     "execution_count": 1100,
     "metadata": {},
     "output_type": "execute_result"
    },
    {
     "data": {
      "image/png": "[encoded data removed]",
      "text/plain": [
       "<matplotlib.figure.Figure at 0x1a3c008550>"
      ]
     },
     "metadata": {},
     "output_type": "display_data"
    }
   ],
   "source": [
    "far_proximity.plot()\n",
    "plt.ylabel('Avg # NumMosquitos')\n",
    "plt.title('Traps > 17km from a spray point (10 total)')\n",
    "plt.plot(ts1, 34, 'r*')"
   ]
  },
  {
   "cell_type": "code",
   "execution_count": 1082,
   "metadata": {},
   "outputs": [
    {
     "name": "stderr",
     "output_type": "stream",
     "text": [
      "/Users/trevorwhite/anaconda3/lib/python3.6/site-packages/ipykernel/__main__.py:8: DeprecationWarning: \n",
      ".ix is deprecated. Please use\n",
      ".loc for label based indexing or\n",
      ".iloc for positional indexing\n",
      "\n",
      "See the documentation here:\n",
      "http://pandas.pydata.org/pandas-docs/stable/indexing.html#ix-indexer-is-deprecated\n"
     ]
    },
    {
     "data": {
      "image/png": "[encoded data removed]",
      "text/plain": [
       "<matplotlib.figure.Figure at 0x1a47b90f98>"
      ]
     },
     "metadata": {},
     "output_type": "display_data"
    }
   ],
   "source": [
    "z=pd.DataFrame( np.array([[1,2,3],[1,3,2]]).T )\n",
    "\n",
    "z.plot(marker='o') # Plot the data, with a marker set.\n",
    "plt.xlim(0,3) # Change the axes limits so that we can see the annotations.\n",
    "plt.ylim(0,4)\n",
    "ax = plt.gca()\n",
    "for i in z.index: # iterate through each index in the dataframe\n",
    "    for v in z.ix[i].values: # and through each value being plotted at that index\n",
    "        # annotate, at a slight offset from the point.\n",
    "        ax.annotate(str(v),xy=(i,v), xytext=(5,5), textcoords='offset points')"
   ]
  },
  {
   "cell_type": "code",
   "execution_count": 1109,
   "metadata": {},
   "outputs": [],
   "source": [
    "far_traps = train['distances'].drop_duplicates().sort_values().tail(13).index.values"
   ]
  },
  {
   "cell_type": "code",
   "execution_count": 1130,
   "metadata": {
    "collapsed": true
   },
   "outputs": [],
   "source": [
    "near_traps = train['distances'].drop_duplicates().sort_values().head(13).index.values"
   ]
  },
  {
   "cell_type": "code",
   "execution_count": 1131,
   "metadata": {
    "collapsed": true
   },
   "outputs": [],
   "source": [
    "near_traps = train.loc[near_traps, :].Trap.values"
   ]
  },
  {
   "cell_type": "code",
   "execution_count": 1113,
   "metadata": {},
   "outputs": [],
   "source": [
    "far_traps = train.loc[far_traps, :].Trap.values"
   ]
  },
  {
   "cell_type": "code",
   "execution_count": 1122,
   "metadata": {},
   "outputs": [],
   "source": [
    "ts = pd.to_datetime('2013-01-01')"
   ]
  },
  {
   "cell_type": "code",
   "execution_count": null,
   "metadata": {
    "collapsed": true
   },
   "outputs": [],
   "source": [
    "plt.plot([70, 70], [100, 250], 'k-', lw=2)"
   ]
  },
  {
   "cell_type": "code",
   "execution_count": 1152,
   "metadata": {},
   "outputs": [
    {
     "data": {
      "text/plain": [
       "<matplotlib.lines.Line2D at 0x1a3e5510b8>"
      ]
     },
     "execution_count": 1152,
     "metadata": {},
     "output_type": "execute_result"
    },
    {
     "data": {
      "image/png": "[encoded data removed]",
      "text/plain": [
       "<matplotlib.figure.Figure at 0x1a3e356a20>"
      ]
     },
     "metadata": {},
     "output_type": "display_data"
    }
   ],
   "source": [
    "train[train.Trap.isin(far_traps)][train[train.Trap.isin(far_traps)]['Date'] > ts].groupby('Date').NumMosquitos.mean().plot(label='Far Traps')\n",
    "\n",
    "train[train.Trap.isin(near_traps)][train[train.Trap.isin(near_traps)]['Date'] > ts].groupby('Date').NumMosquitos.mean().plot(label='Near Traps')\n",
    "plt.ylabel('Mean NumMosquitos in Trap')\n",
    "plt.title('2013 Mosquito Numbers')\n",
    "plt.ylabel('NumMosquitos')\n",
    "plt.legend()\n",
    "plt.axvline(x=times[0], linewidth=0.5)\n",
    "plt.axvline(x=times[1], linewidth=0.5)\n",
    "plt.axvline(x=times[2], linewidth=0.5)\n",
    "plt.axvline(x=times[3], linewidth=0.5)\n",
    "plt.axvline(x=times[4], linewidth=0.5)\n",
    "plt.axvline(x=times[5], linewidth=0.5)\n",
    "plt.axvline(x=times[6], linewidth=0.5)"
   ]
  },
  {
   "cell_type": "code",
   "execution_count": 1155,
   "metadata": {
    "scrolled": true
   },
   "outputs": [
    {
     "data": {
      "text/plain": [
       "<matplotlib.lines.Line2D at 0x1a3e8da898>"
      ]
     },
     "execution_count": 1155,
     "metadata": {},
     "output_type": "execute_result"
    },
    {
     "data": {
      "image/png": "[encoded data removed]",
      "text/plain": [
       "<matplotlib.figure.Figure at 0x1a3e83c208>"
      ]
     },
     "metadata": {},
     "output_type": "display_data"
    }
   ],
   "source": [
    "train[train.Trap.isin(far_traps)][train[train.Trap.isin(far_traps)]['Date'] > ts].groupby('Date').WnvPresent.sum().plot(label='Far Traps')\n",
    "\n",
    "train[train.Trap.isin(near_traps)][train[train.Trap.isin(near_traps)]['Date'] > ts].groupby('Date').WnvPresent.sum().plot(label='Near Traps')\n",
    "plt.title('2013 WNV Occurances by Month')\n",
    "plt.ylabel('Sum of WNV Occurances')\n",
    "plt.legend()\n",
    "plt.axvline(x=times[0], linewidth=0.5)\n",
    "plt.axvline(x=times[1], linewidth=0.5)\n",
    "plt.axvline(x=times[2], linewidth=0.5)\n",
    "plt.axvline(x=times[3], linewidth=0.5)\n",
    "plt.axvline(x=times[4], linewidth=0.5)\n",
    "plt.axvline(x=times[5], linewidth=0.5)\n",
    "plt.axvline(x=times[6], linewidth=0.5)"
   ]
  },
  {
   "cell_type": "code",
   "execution_count": 1129,
   "metadata": {
    "scrolled": false
   },
   "outputs": [
    {
     "data": {
      "text/plain": [
       "Text(0.5,1,'Traps that are 2+km away from a trap (13 total)')"
      ]
     },
     "execution_count": 1129,
     "metadata": {},
     "output_type": "execute_result"
    },
    {
     "data": {
      "image/png": "[encoded data removed]",
      "text/plain": [
       "<matplotlib.figure.Figure at 0x1a47e45278>"
      ]
     },
     "metadata": {},
     "output_type": "display_data"
    }
   ],
   "source": [
    "train[train.Trap.isin(far_traps)][train[train.Trap.isin(far_traps)]['Date'] > ts].groupby('Date').NumMosquitos.mean().plot()\n",
    "plt.ylabel('NumMosquitos')\n",
    "plt.title('Traps that are 2+km away from a trap (13 total)')"
   ]
  },
  {
   "cell_type": "code",
   "execution_count": 1007,
   "metadata": {},
   "outputs": [
    {
     "data": {
      "text/plain": [
       "1607"
      ]
     },
     "execution_count": 1007,
     "metadata": {},
     "output_type": "execute_result"
    }
   ],
   "source": [
    "len(locs[0])"
   ]
  },
  {
   "cell_type": "code",
   "execution_count": 947,
   "metadata": {},
   "outputs": [
    {
     "data": {
      "text/plain": [
       "Date\n",
       "2013-06-07     4.200000\n",
       "2013-06-14    12.428571\n",
       "2013-06-21    12.153846\n",
       "2013-06-27    13.333333\n",
       "2013-06-28    21.600000\n",
       "2013-07-08    20.666667\n",
       "2013-07-12    28.950000\n",
       "2013-07-19    27.958333\n",
       "2013-07-25    20.235294\n",
       "2013-08-01    16.777778\n",
       "2013-08-08    22.782609\n",
       "2013-08-15    14.666667\n",
       "2013-08-22    19.300000\n",
       "2013-08-29    25.866667\n",
       "2013-09-06    15.285714\n",
       "2013-09-12    18.923077\n",
       "2013-09-19    11.909091\n",
       "2013-09-26     7.900000\n",
       "Name: NumMosquitos, dtype: float64"
      ]
     },
     "execution_count": 947,
     "metadata": {},
     "output_type": "execute_result"
    }
   ],
   "source": [
    "train[(train['Date'] > ts1) & (train['distances'] < .01)].groupby('Date').NumMosquitos.mean()"
   ]
  },
  {
   "cell_type": "code",
   "execution_count": 910,
   "metadata": {},
   "outputs": [
    {
     "data": {
      "text/plain": [
       "Date\n",
       "2007-05-29     1.600000\n",
       "2007-06-05     2.116667\n",
       "2007-06-26     3.085714\n",
       "2007-06-29     1.847826\n",
       "2007-07-02     3.243243\n",
       "2007-07-11     7.256579\n",
       "2007-07-18     6.612403\n",
       "2007-07-19    15.266667\n",
       "2007-07-25    44.228261\n",
       "2007-07-27     2.975904\n",
       "2007-08-01    12.529946\n",
       "2007-08-02    21.153285\n",
       "2007-08-03    40.800000\n",
       "2007-08-07     9.673913\n",
       "2007-08-08    45.010753\n",
       "2007-08-09    19.500000\n",
       "2007-08-15    16.887681\n",
       "2007-08-16    48.978495\n",
       "2007-08-17    35.462963\n",
       "2007-08-21     8.962366\n",
       "2007-08-22    32.460432\n",
       "2007-08-24     7.946237\n",
       "2007-08-28    39.566667\n",
       "2007-09-04     5.695652\n",
       "2007-09-05    22.208791\n",
       "2007-09-06    30.220000\n",
       "2007-09-12     8.837037\n",
       "2007-09-18     4.215054\n",
       "2007-09-19    14.276423\n",
       "2007-09-24     9.401198\n",
       "                ...    \n",
       "2011-07-25    13.681564\n",
       "2011-07-29    10.202899\n",
       "2011-08-05     7.607143\n",
       "2011-08-12     6.437500\n",
       "2011-08-19     4.949580\n",
       "2011-08-26     4.622642\n",
       "2011-09-01     5.145161\n",
       "2011-09-02    11.020000\n",
       "2011-09-12     5.318841\n",
       "2011-09-16     6.841667\n",
       "2011-09-23     6.678899\n",
       "2011-09-30     3.016393\n",
       "2013-06-07     4.675325\n",
       "2013-06-14    13.801653\n",
       "2013-06-21    11.370690\n",
       "2013-06-27     7.080645\n",
       "2013-06-28    15.383333\n",
       "2013-07-08    15.403361\n",
       "2013-07-12    26.351648\n",
       "2013-07-19    22.901099\n",
       "2013-07-25    12.901961\n",
       "2013-08-01    15.403226\n",
       "2013-08-08    17.613260\n",
       "2013-08-15    12.394904\n",
       "2013-08-22    12.353293\n",
       "2013-08-29    18.496503\n",
       "2013-09-06    17.552448\n",
       "2013-09-12    15.899281\n",
       "2013-09-19     9.196429\n",
       "2013-09-26     5.489130\n",
       "Name: NumMosquitos, Length: 95, dtype: float64"
      ]
     },
     "execution_count": 910,
     "metadata": {},
     "output_type": "execute_result"
    }
   ],
   "source": [
    "train.groupby('Date').NumMosquitos.mean()"
   ]
  },
  {
   "cell_type": "code",
   "execution_count": null,
   "metadata": {
    "collapsed": true
   },
   "outputs": [],
   "source": []
  }
 ],
 "metadata": {
  "kernelspec": {
   "display_name": "Python [default]",
   "language": "python",
   "name": "python3"
  },
  "language_info": {
   "codemirror_mode": {
    "name": "ipython",
    "version": 3
   },
   "file_extension": ".py",
   "mimetype": "text/x-python",
   "name": "python",
   "nbconvert_exporter": "python",
   "pygments_lexer": "ipython3",
   "version": "3.6.3"
  }
 },
 "nbformat": 4,
 "nbformat_minor": 2
}
